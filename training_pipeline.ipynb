{
 "cells": [
  {
   "cell_type": "code",
   "execution_count": 3,
   "id": "6a0ea36a-6d13-4ade-9580-d16ac7a58fcb",
   "metadata": {
    "tags": []
   },
   "outputs": [],
   "source": [
    "q= '''\n",
    "SELECT *\n",
    "FROM\n",
    "    (SELECT *,\n",
    "    row_number()\n",
    "    OVER\n",
    "        (PARTITION BY \"open_time\"\n",
    "        ORDER BY \"close_time\" DESC, Api_Invocation_Time DESC, write_time DESC)\n",
    "    AS row_number\n",
    "    FROM \"sagemaker_featurestore\".\"btcpricedata_1704246894\")\n",
    "WHERE row_number = 1 ORDER BY close_time ASC;\n",
    "'''"
   ]
  },
  {
   "cell_type": "code",
   "execution_count": 4,
   "id": "543b4a42-4e9b-4117-9868-3f87cad2956a",
   "metadata": {
    "tags": []
   },
   "outputs": [
    {
     "name": "stdout",
     "output_type": "stream",
     "text": [
      "2024-01-11 19:53:16,507 INFO: Found credentials from IAM Role: BaseNotebookInstanceEc2InstanceRole\n",
      "sagemaker.config INFO - Not applying SDK defaults from location: /etc/xdg/sagemaker/config.yaml\n",
      "sagemaker.config INFO - Not applying SDK defaults from location: /home/ec2-user/.config/sagemaker/config.yaml\n",
      "2024-01-11 19:53:18,757 INFO: Found credentials from IAM Role: BaseNotebookInstanceEc2InstanceRole\n",
      "2024-01-11 19:53:18,881 INFO: Found credentials from IAM Role: BaseNotebookInstanceEc2InstanceRole\n"
     ]
    }
   ],
   "source": [
    "from sagemaker.feature_store.feature_group import FeatureGroup\n",
    "import boto3\n",
    "import pandas as pd\n",
    "import numpy as np\n",
    "import io\n",
    "from sagemaker.session import Session\n",
    "from sagemaker import get_execution_role\n",
    "from matplotlib import pyplot as plt\n",
    "from keras.layers import LSTM,Dropout,Input,Dense\n",
    "from numpy import array\n",
    "from keras.models import Sequential\n",
    "\n",
    "sagemaker_session = Session()\n",
    "\n",
    "feature_group = FeatureGroup(name = 'BtcPriceData')\n",
    "\n",
    "query = feature_group.athena_query()\n",
    "\n",
    "table = query.table_name\n",
    "table\n",
    "default_s3_bucket_name = 'binance-btc-prices'"
   ]
  },
  {
   "cell_type": "code",
   "execution_count": 5,
   "id": "7255ac38-2507-446c-b7b8-0a2fecdcfdd6",
   "metadata": {
    "tags": []
   },
   "outputs": [
    {
     "name": "stdout",
     "output_type": "stream",
     "text": [
      "2024-01-11 19:53:19,749 INFO: Query 309e58b0-0b8d-4d5a-867d-b893511ed626 is being executed.\n",
      "2024-01-11 19:53:24,815 INFO: Query 309e58b0-0b8d-4d5a-867d-b893511ed626 is being executed.\n",
      "2024-01-11 19:53:29,870 INFO: Query 309e58b0-0b8d-4d5a-867d-b893511ed626 is being executed.\n",
      "2024-01-11 19:53:34,919 INFO: Query 309e58b0-0b8d-4d5a-867d-b893511ed626 is being executed.\n",
      "2024-01-11 19:53:39,973 INFO: Query 309e58b0-0b8d-4d5a-867d-b893511ed626 is being executed.\n",
      "2024-01-11 19:53:45,020 INFO: Query 309e58b0-0b8d-4d5a-867d-b893511ed626 is being executed.\n",
      "2024-01-11 19:53:50,065 INFO: Query 309e58b0-0b8d-4d5a-867d-b893511ed626 is being executed.\n",
      "2024-01-11 19:53:55,112 INFO: Query 309e58b0-0b8d-4d5a-867d-b893511ed626 is being executed.\n",
      "2024-01-11 19:54:00,163 INFO: Query 309e58b0-0b8d-4d5a-867d-b893511ed626 is being executed.\n",
      "2024-01-11 19:54:05,210 INFO: Query 309e58b0-0b8d-4d5a-867d-b893511ed626 successfully executed.\n"
     ]
    }
   ],
   "source": [
    "# run Athena query. The output is loaded to a Pandas dataframe.\n",
    "dataset = pd.DataFrame()\n",
    "query.run(query_string=q, output_location='s3://'+default_s3_bucket_name+'/query_results/')\n",
    "query.wait()\n",
    "dataset = query.as_dataframe()"
   ]
  },
  {
   "cell_type": "code",
   "execution_count": 6,
   "id": "bd29206c-e4c7-4464-bdc0-a473babe6fdb",
   "metadata": {
    "tags": []
   },
   "outputs": [
    {
     "data": {
      "text/html": [
       "<div>\n",
       "<style scoped>\n",
       "    .dataframe tbody tr th:only-of-type {\n",
       "        vertical-align: middle;\n",
       "    }\n",
       "\n",
       "    .dataframe tbody tr th {\n",
       "        vertical-align: top;\n",
       "    }\n",
       "\n",
       "    .dataframe thead th {\n",
       "        text-align: right;\n",
       "    }\n",
       "</style>\n",
       "<table border=\"1\" class=\"dataframe\">\n",
       "  <thead>\n",
       "    <tr style=\"text-align: right;\">\n",
       "      <th></th>\n",
       "      <th>open_time</th>\n",
       "      <th>high_price</th>\n",
       "      <th>low_price</th>\n",
       "      <th>close_price</th>\n",
       "      <th>volume</th>\n",
       "      <th>close_time</th>\n",
       "      <th>quote_asset_volume</th>\n",
       "      <th>number_of_trades</th>\n",
       "      <th>taker_buy_base_asset_volume</th>\n",
       "      <th>open_price</th>\n",
       "      <th>write_time</th>\n",
       "      <th>api_invocation_time</th>\n",
       "      <th>is_deleted</th>\n",
       "      <th>row_number</th>\n",
       "    </tr>\n",
       "  </thead>\n",
       "  <tbody>\n",
       "    <tr>\n",
       "      <th>0</th>\n",
       "      <td>2019-09-09 00:00:00</td>\n",
       "      <td>10392.41</td>\n",
       "      <td>10376.45</td>\n",
       "      <td>10390.08</td>\n",
       "      <td>27.884150</td>\n",
       "      <td>1.567987e+09</td>\n",
       "      <td>2.896169e+05</td>\n",
       "      <td>626.0</td>\n",
       "      <td>12.492958</td>\n",
       "      <td>10381.24</td>\n",
       "      <td>2024-01-08 18:11:09.934</td>\n",
       "      <td>2024-01-08 18:05:58.000</td>\n",
       "      <td>False</td>\n",
       "      <td>1</td>\n",
       "    </tr>\n",
       "    <tr>\n",
       "      <th>1</th>\n",
       "      <td>2019-09-09 00:05:00</td>\n",
       "      <td>10393.94</td>\n",
       "      <td>10368.87</td>\n",
       "      <td>10372.31</td>\n",
       "      <td>36.750216</td>\n",
       "      <td>1.567988e+09</td>\n",
       "      <td>3.814708e+05</td>\n",
       "      <td>614.0</td>\n",
       "      <td>22.195335</td>\n",
       "      <td>10390.74</td>\n",
       "      <td>2024-01-08 18:11:07.429</td>\n",
       "      <td>2024-01-08 18:05:58.000</td>\n",
       "      <td>False</td>\n",
       "      <td>1</td>\n",
       "    </tr>\n",
       "    <tr>\n",
       "      <th>2</th>\n",
       "      <td>2019-09-09 00:10:00</td>\n",
       "      <td>10386.24</td>\n",
       "      <td>10368.88</td>\n",
       "      <td>10374.20</td>\n",
       "      <td>38.888045</td>\n",
       "      <td>1.567988e+09</td>\n",
       "      <td>4.035607e+05</td>\n",
       "      <td>640.0</td>\n",
       "      <td>19.145836</td>\n",
       "      <td>10372.31</td>\n",
       "      <td>2024-01-08 18:11:30.173</td>\n",
       "      <td>2024-01-08 18:05:58.000</td>\n",
       "      <td>False</td>\n",
       "      <td>1</td>\n",
       "    </tr>\n",
       "    <tr>\n",
       "      <th>3</th>\n",
       "      <td>2019-09-09 00:15:00</td>\n",
       "      <td>10387.83</td>\n",
       "      <td>10368.89</td>\n",
       "      <td>10384.89</td>\n",
       "      <td>24.997683</td>\n",
       "      <td>1.567988e+09</td>\n",
       "      <td>2.593937e+05</td>\n",
       "      <td>712.0</td>\n",
       "      <td>11.799247</td>\n",
       "      <td>10374.18</td>\n",
       "      <td>2024-01-08 18:11:10.880</td>\n",
       "      <td>2024-01-08 18:05:58.000</td>\n",
       "      <td>False</td>\n",
       "      <td>1</td>\n",
       "    </tr>\n",
       "    <tr>\n",
       "      <th>4</th>\n",
       "      <td>2019-09-09 00:20:00</td>\n",
       "      <td>10396.00</td>\n",
       "      <td>10382.40</td>\n",
       "      <td>10394.20</td>\n",
       "      <td>18.551736</td>\n",
       "      <td>1.567989e+09</td>\n",
       "      <td>1.927592e+05</td>\n",
       "      <td>571.0</td>\n",
       "      <td>9.729698</td>\n",
       "      <td>10386.25</td>\n",
       "      <td>2024-01-08 18:11:06.932</td>\n",
       "      <td>2024-01-08 18:05:58.000</td>\n",
       "      <td>False</td>\n",
       "      <td>1</td>\n",
       "    </tr>\n",
       "    <tr>\n",
       "      <th>...</th>\n",
       "      <td>...</td>\n",
       "      <td>...</td>\n",
       "      <td>...</td>\n",
       "      <td>...</td>\n",
       "      <td>...</td>\n",
       "      <td>...</td>\n",
       "      <td>...</td>\n",
       "      <td>...</td>\n",
       "      <td>...</td>\n",
       "      <td>...</td>\n",
       "      <td>...</td>\n",
       "      <td>...</td>\n",
       "      <td>...</td>\n",
       "      <td>...</td>\n",
       "    </tr>\n",
       "    <tr>\n",
       "      <th>455729</th>\n",
       "      <td>2024-01-11 15:40:00</td>\n",
       "      <td>47444.33</td>\n",
       "      <td>46885.00</td>\n",
       "      <td>47218.69</td>\n",
       "      <td>1506.346990</td>\n",
       "      <td>1.704988e+09</td>\n",
       "      <td>7.102140e+07</td>\n",
       "      <td>42815.0</td>\n",
       "      <td>699.344620</td>\n",
       "      <td>47336.01</td>\n",
       "      <td>2024-01-11 16:05:45.733</td>\n",
       "      <td>2024-01-11 16:00:48.000</td>\n",
       "      <td>False</td>\n",
       "      <td>1</td>\n",
       "    </tr>\n",
       "    <tr>\n",
       "      <th>455730</th>\n",
       "      <td>2024-01-11 15:45:00</td>\n",
       "      <td>47232.00</td>\n",
       "      <td>46641.28</td>\n",
       "      <td>46752.60</td>\n",
       "      <td>1399.431060</td>\n",
       "      <td>1.704988e+09</td>\n",
       "      <td>6.564254e+07</td>\n",
       "      <td>35141.0</td>\n",
       "      <td>611.596750</td>\n",
       "      <td>47218.69</td>\n",
       "      <td>2024-01-11 16:05:39.781</td>\n",
       "      <td>2024-01-11 16:00:48.000</td>\n",
       "      <td>False</td>\n",
       "      <td>1</td>\n",
       "    </tr>\n",
       "    <tr>\n",
       "      <th>455731</th>\n",
       "      <td>2024-01-11 15:50:00</td>\n",
       "      <td>46853.43</td>\n",
       "      <td>46463.19</td>\n",
       "      <td>46698.58</td>\n",
       "      <td>1493.366130</td>\n",
       "      <td>1.704988e+09</td>\n",
       "      <td>6.971632e+07</td>\n",
       "      <td>35935.0</td>\n",
       "      <td>738.648210</td>\n",
       "      <td>46752.60</td>\n",
       "      <td>2024-01-11 16:05:46.367</td>\n",
       "      <td>2024-01-11 16:00:48.000</td>\n",
       "      <td>False</td>\n",
       "      <td>1</td>\n",
       "    </tr>\n",
       "    <tr>\n",
       "      <th>455732</th>\n",
       "      <td>2024-01-11 15:55:00</td>\n",
       "      <td>46785.64</td>\n",
       "      <td>46568.42</td>\n",
       "      <td>46783.78</td>\n",
       "      <td>690.924300</td>\n",
       "      <td>1.704989e+09</td>\n",
       "      <td>3.225020e+07</td>\n",
       "      <td>18130.0</td>\n",
       "      <td>346.549950</td>\n",
       "      <td>46698.59</td>\n",
       "      <td>2024-01-11 16:05:48.062</td>\n",
       "      <td>2024-01-11 16:00:48.000</td>\n",
       "      <td>False</td>\n",
       "      <td>1</td>\n",
       "    </tr>\n",
       "    <tr>\n",
       "      <th>455733</th>\n",
       "      <td>2024-01-11 16:00:00</td>\n",
       "      <td>46803.29</td>\n",
       "      <td>46635.67</td>\n",
       "      <td>46731.79</td>\n",
       "      <td>139.818180</td>\n",
       "      <td>1.704989e+09</td>\n",
       "      <td>6.530407e+06</td>\n",
       "      <td>3745.0</td>\n",
       "      <td>64.043470</td>\n",
       "      <td>46783.77</td>\n",
       "      <td>2024-01-11 16:05:40.432</td>\n",
       "      <td>2024-01-11 16:00:48.000</td>\n",
       "      <td>False</td>\n",
       "      <td>1</td>\n",
       "    </tr>\n",
       "  </tbody>\n",
       "</table>\n",
       "<p>455734 rows × 14 columns</p>\n",
       "</div>"
      ],
      "text/plain": [
       "                  open_time  high_price  low_price  close_price       volume  \\\n",
       "0       2019-09-09 00:00:00    10392.41   10376.45     10390.08    27.884150   \n",
       "1       2019-09-09 00:05:00    10393.94   10368.87     10372.31    36.750216   \n",
       "2       2019-09-09 00:10:00    10386.24   10368.88     10374.20    38.888045   \n",
       "3       2019-09-09 00:15:00    10387.83   10368.89     10384.89    24.997683   \n",
       "4       2019-09-09 00:20:00    10396.00   10382.40     10394.20    18.551736   \n",
       "...                     ...         ...        ...          ...          ...   \n",
       "455729  2024-01-11 15:40:00    47444.33   46885.00     47218.69  1506.346990   \n",
       "455730  2024-01-11 15:45:00    47232.00   46641.28     46752.60  1399.431060   \n",
       "455731  2024-01-11 15:50:00    46853.43   46463.19     46698.58  1493.366130   \n",
       "455732  2024-01-11 15:55:00    46785.64   46568.42     46783.78   690.924300   \n",
       "455733  2024-01-11 16:00:00    46803.29   46635.67     46731.79   139.818180   \n",
       "\n",
       "          close_time  quote_asset_volume  number_of_trades  \\\n",
       "0       1.567987e+09        2.896169e+05             626.0   \n",
       "1       1.567988e+09        3.814708e+05             614.0   \n",
       "2       1.567988e+09        4.035607e+05             640.0   \n",
       "3       1.567988e+09        2.593937e+05             712.0   \n",
       "4       1.567989e+09        1.927592e+05             571.0   \n",
       "...              ...                 ...               ...   \n",
       "455729  1.704988e+09        7.102140e+07           42815.0   \n",
       "455730  1.704988e+09        6.564254e+07           35141.0   \n",
       "455731  1.704988e+09        6.971632e+07           35935.0   \n",
       "455732  1.704989e+09        3.225020e+07           18130.0   \n",
       "455733  1.704989e+09        6.530407e+06            3745.0   \n",
       "\n",
       "        taker_buy_base_asset_volume  open_price               write_time  \\\n",
       "0                         12.492958    10381.24  2024-01-08 18:11:09.934   \n",
       "1                         22.195335    10390.74  2024-01-08 18:11:07.429   \n",
       "2                         19.145836    10372.31  2024-01-08 18:11:30.173   \n",
       "3                         11.799247    10374.18  2024-01-08 18:11:10.880   \n",
       "4                          9.729698    10386.25  2024-01-08 18:11:06.932   \n",
       "...                             ...         ...                      ...   \n",
       "455729                   699.344620    47336.01  2024-01-11 16:05:45.733   \n",
       "455730                   611.596750    47218.69  2024-01-11 16:05:39.781   \n",
       "455731                   738.648210    46752.60  2024-01-11 16:05:46.367   \n",
       "455732                   346.549950    46698.59  2024-01-11 16:05:48.062   \n",
       "455733                    64.043470    46783.77  2024-01-11 16:05:40.432   \n",
       "\n",
       "            api_invocation_time  is_deleted  row_number  \n",
       "0       2024-01-08 18:05:58.000       False           1  \n",
       "1       2024-01-08 18:05:58.000       False           1  \n",
       "2       2024-01-08 18:05:58.000       False           1  \n",
       "3       2024-01-08 18:05:58.000       False           1  \n",
       "4       2024-01-08 18:05:58.000       False           1  \n",
       "...                         ...         ...         ...  \n",
       "455729  2024-01-11 16:00:48.000       False           1  \n",
       "455730  2024-01-11 16:00:48.000       False           1  \n",
       "455731  2024-01-11 16:00:48.000       False           1  \n",
       "455732  2024-01-11 16:00:48.000       False           1  \n",
       "455733  2024-01-11 16:00:48.000       False           1  \n",
       "\n",
       "[455734 rows x 14 columns]"
      ]
     },
     "execution_count": 6,
     "metadata": {},
     "output_type": "execute_result"
    }
   ],
   "source": [
    "dataset['open_time'] = pd.to_datetime(dataset['open_time'], unit='ms').dt.strftime('%Y-%m-%d %T')\n",
    "dataset"
   ]
  },
  {
   "cell_type": "code",
   "execution_count": 7,
   "id": "95cb3795-bc81-435c-8c94-d1ef309ca2ba",
   "metadata": {
    "tags": []
   },
   "outputs": [],
   "source": [
    "#dataset.to_csv('btc_prices.csv')"
   ]
  },
  {
   "cell_type": "code",
   "execution_count": 8,
   "id": "eea560f2-8de0-47bd-95c7-f7bcc1e9fe5d",
   "metadata": {
    "tags": []
   },
   "outputs": [],
   "source": [
    "# univariate data preparation\n",
    "# split a univariate sequence into samples\n",
    "def split_sequence(sequence, n_steps):\n",
    "    X, y = list(), list()\n",
    "    for i in range(len(sequence)):\n",
    "        # find the end of this pattern\n",
    "        end_ix = i + n_steps\n",
    "        # check if we are beyond the sequence\n",
    "        if end_ix > len(sequence)-1:\n",
    "            break\n",
    "        # gather input and output parts of the pattern\n",
    "        seq_x, seq_y = sequence[i:end_ix], sequence[end_ix]\n",
    "        X.append(seq_x)\n",
    "        y.append(seq_y)\n",
    "    return array(X), array(y)"
   ]
  },
  {
   "cell_type": "code",
   "execution_count": 9,
   "id": "bb1ce8c2-f93d-461d-966f-2c7e2fde3a70",
   "metadata": {
    "tags": []
   },
   "outputs": [],
   "source": [
    "n_steps = 24"
   ]
  },
  {
   "cell_type": "code",
   "execution_count": 10,
   "id": "882e16e1-db0f-4195-8e63-c235c63b97ae",
   "metadata": {
    "tags": []
   },
   "outputs": [],
   "source": [
    "X,y  = split_sequence(sequence = dataset.close_price, n_steps = n_steps)"
   ]
  },
  {
   "cell_type": "code",
   "execution_count": 11,
   "id": "0b90c3c1-1822-4eda-bf81-c9164f5dd797",
   "metadata": {
    "tags": []
   },
   "outputs": [],
   "source": [
    "X = X.reshape(X.shape[0],-1,1)"
   ]
  },
  {
   "cell_type": "code",
   "execution_count": 12,
   "id": "7e339617-172d-458d-b76d-42ea7123708c",
   "metadata": {
    "tags": []
   },
   "outputs": [],
   "source": [
    "train_index =  round(y.shape[0] * 0.80)\n",
    "val_index   =  round(y.shape[0] * 0.90)"
   ]
  },
  {
   "cell_type": "code",
   "execution_count": 13,
   "id": "90dafded-2be9-4146-aa88-4a6326ed1ef3",
   "metadata": {
    "tags": []
   },
   "outputs": [
    {
     "data": {
      "text/plain": [
       "(455710, 24, 1)"
      ]
     },
     "execution_count": 13,
     "metadata": {},
     "output_type": "execute_result"
    }
   ],
   "source": [
    "X.shape"
   ]
  },
  {
   "cell_type": "code",
   "execution_count": 14,
   "id": "20ca5778-b2b1-4074-89bd-8bc158db2310",
   "metadata": {
    "tags": []
   },
   "outputs": [],
   "source": [
    "X_train = X[:train_index]\n",
    "y_train = y[:train_index]\n",
    "X_val = X[train_index  : val_index]\n",
    "y_val = y[train_index  : val_index]\n",
    "X_test = X[val_index:]\n",
    "y_test = y[val_index:]"
   ]
  },
  {
   "cell_type": "code",
   "execution_count": 15,
   "id": "bac8ab74-9e62-4c06-b0bb-4dbdcc3cfdbc",
   "metadata": {
    "tags": []
   },
   "outputs": [
    {
     "data": {
      "text/plain": [
       "(364568, 24, 1)"
      ]
     },
     "execution_count": 15,
     "metadata": {},
     "output_type": "execute_result"
    }
   ],
   "source": [
    "X_train.shape"
   ]
  },
  {
   "cell_type": "code",
   "execution_count": 53,
   "id": "d03b0473-c594-41bc-b729-76f01d64f5b5",
   "metadata": {
    "tags": []
   },
   "outputs": [
    {
     "data": {
      "text/plain": [
       "[<matplotlib.lines.Line2D at 0x7f7f3181e710>]"
      ]
     },
     "execution_count": 53,
     "metadata": {},
     "output_type": "execute_result"
    },
    {
     "data": {
      "image/png": "[encoded data removed]",
      "text/plain": [
       "<Figure size 640x480 with 1 Axes>"
      ]
     },
     "metadata": {},
     "output_type": "display_data"
    }
   ],
   "source": [
    "plt.plot(np.arange(len(y_train)),y_train)\n",
    "plt.plot( len(y_train) + np.arange(len(y_val)),y_val)\n",
    "plt.plot(len(y_train)  + len(y_val) + np.arange(len(y_test)),y_test)"
   ]
  },
  {
   "cell_type": "raw",
   "id": "8894f7ab-692f-43f8-af56-da91194c2ef4",
   "metadata": {
    "tags": []
   },
   "source": [
    "n_features = 1\n",
    "# reshape from [samples, timesteps] into [samples, timesteps, features]\n",
    "#X = X.reshape((X.shape[0], X.shape[1], n_features))\n",
    "# define model\n",
    "### LSTM MODEL\n",
    "model = Sequential()\n",
    "model.add(Input((n_steps, n_features)))\n",
    "model.add(LSTM(100, activation='tanh', return_sequences = False )) \n",
    "model.add(Dense(32))\n",
    "model.add(Dense(1))\n",
    "model.compile(optimizer='adam' ,loss='mse', metrics = ['mae'])\n",
    "# fit model\n",
    "model.summary()"
   ]
  },
  {
   "cell_type": "raw",
   "id": "a972980e-fd32-4448-a6aa-5c06c6401287",
   "metadata": {
    "tags": []
   },
   "source": [
    "hist = model.fit(X_train, y_train, validation_data = (X_val,y_val) ,batch_size = 1024, epochs=15000, verbose=1)"
   ]
  },
  {
   "cell_type": "code",
   "execution_count": 90,
   "id": "6dd776b3-3b4a-4813-a9f7-20c1a544a116",
   "metadata": {
    "tags": []
   },
   "outputs": [],
   "source": [
    "### MLP\n",
    "model = Sequential()\n",
    "model.add(Dense(200, activation='relu', input_dim=n_steps))\n",
    "model.add(Dense(100, activation='relu',))\n",
    "model.add(Dense(1))\n",
    "model.compile(optimizer='adam' ,loss='mse', metrics = ['mae'])\n"
   ]
  },
  {
   "cell_type": "code",
   "execution_count": 125,
   "id": "2f41a2a6-dc53-4c8a-987d-7913cb3e662a",
   "metadata": {
    "scrolled": true,
    "tags": []
   },
   "outputs": [
    {
     "name": "stdout",
     "output_type": "stream",
     "text": [
      "Epoch 1/10\n",
      "23/23 [==============================] - 0s 6ms/step - loss: 8574.1611 - mae: 54.4914 - val_loss: 1863.7742 - val_mae: 29.1460\n",
      "Epoch 2/10\n",
      "23/23 [==============================] - 0s 5ms/step - loss: 6944.3530 - mae: 43.9978 - val_loss: 4297.0825 - val_mae: 56.4856\n",
      "Epoch 3/10\n",
      "23/23 [==============================] - 0s 4ms/step - loss: 9978.6592 - mae: 61.2864 - val_loss: 1525.7754 - val_mae: 23.1336\n",
      "Epoch 4/10\n",
      "23/23 [==============================] - 0s 5ms/step - loss: 7866.7300 - mae: 49.9245 - val_loss: 1557.7646 - val_mae: 23.8160\n",
      "Epoch 5/10\n",
      "23/23 [==============================] - 0s 5ms/step - loss: 10472.9668 - mae: 61.5715 - val_loss: 2142.8289 - val_mae: 33.3459\n",
      "Epoch 6/10\n",
      "23/23 [==============================] - 0s 5ms/step - loss: 8277.5303 - mae: 51.3537 - val_loss: 1526.9185 - val_mae: 23.1032\n",
      "Epoch 7/10\n",
      "23/23 [==============================] - 0s 4ms/step - loss: 6792.4785 - mae: 42.9168 - val_loss: 1566.7241 - val_mae: 23.9878\n",
      "Epoch 8/10\n",
      "23/23 [==============================] - 0s 5ms/step - loss: 7628.2109 - mae: 48.6284 - val_loss: 1518.6323 - val_mae: 22.9803\n",
      "Epoch 9/10\n",
      "23/23 [==============================] - 0s 4ms/step - loss: 7861.3896 - mae: 49.4151 - val_loss: 8378.0781 - val_mae: 84.7784\n",
      "Epoch 10/10\n",
      "23/23 [==============================] - 0s 4ms/step - loss: 8933.7422 - mae: 55.0854 - val_loss: 2036.8837 - val_mae: 31.9289\n"
     ]
    }
   ],
   "source": [
    "hist = model.fit(X_train, y_train, validation_data = (X_val,y_val) ,batch_size = 16256, epochs=10, verbose=1)\n"
   ]
  },
  {
   "cell_type": "code",
   "execution_count": 92,
   "id": "6cc1468f-fd6f-45ed-9526-b7253fdfa943",
   "metadata": {
    "tags": []
   },
   "outputs": [
    {
     "data": {
      "text/plain": [
       "[<matplotlib.lines.Line2D at 0x7f7fa9cdcd00>]"
      ]
     },
     "execution_count": 92,
     "metadata": {},
     "output_type": "execute_result"
    },
    {
     "data": {
      "image/png": "[encoded data removed]",
      "text/plain": [
       "<Figure size 640x480 with 1 Axes>"
      ]
     },
     "metadata": {},
     "output_type": "display_data"
    }
   ],
   "source": [
    "loss, val_loss = hist.history['loss'],hist.history['val_loss']\n",
    "plt.plot(np.arange(len(loss)),loss)\n",
    "plt.plot(np.arange(len(val_loss)),val_loss)"
   ]
  },
  {
   "cell_type": "code",
   "execution_count": 93,
   "id": "a24c0e67-83b1-44bf-a8ba-6e74b1049414",
   "metadata": {
    "tags": []
   },
   "outputs": [
    {
     "data": {
      "text/plain": [
       "[<matplotlib.lines.Line2D at 0x7f7fac0987c0>]"
      ]
     },
     "execution_count": 93,
     "metadata": {},
     "output_type": "execute_result"
    },
    {
     "data": {
      "image/png": "[encoded data removed]",
      "text/plain": [
       "<Figure size 640x480 with 1 Axes>"
      ]
     },
     "metadata": {},
     "output_type": "display_data"
    }
   ],
   "source": [
    "mae, val_mae = hist.history['mae'],hist.history['val_mae']\n",
    "plt.plot(np.arange(len(mae)),mae)\n",
    "plt.plot(np.arange(len(mae)),val_mae, 'r')\n"
   ]
  },
  {
   "cell_type": "code",
   "execution_count": 94,
   "id": "bc6e98cf-4658-4b9e-8c9b-bf2918588d52",
   "metadata": {
    "tags": []
   },
   "outputs": [
    {
     "name": "stdout",
     "output_type": "stream",
     "text": [
      "1/1 [==============================] - 0s 48ms/step\n"
     ]
    },
    {
     "data": {
      "text/plain": [
       "array([29009.582, 29000.07 , 29003.443, 29022.13 , 29038.322, 29039.578,\n",
       "       29046.607, 29049.646, 29053.184, 29053.768], dtype=float32)"
      ]
     },
     "execution_count": 94,
     "metadata": {},
     "output_type": "execute_result"
    }
   ],
   "source": [
    "model.predict(X_test[:10]).reshape(-1)"
   ]
  },
  {
   "cell_type": "code",
   "execution_count": 95,
   "id": "3ea4e0de-37e5-4657-aed8-a15f48286adf",
   "metadata": {
    "tags": []
   },
   "outputs": [
    {
     "name": "stdout",
     "output_type": "stream",
     "text": [
      "11392/11392 [==============================] - 10s 868us/step\n"
     ]
    },
    {
     "data": {
      "text/plain": [
       "[<matplotlib.lines.Line2D at 0x7f7ab50cbf10>]"
      ]
     },
     "execution_count": 95,
     "metadata": {},
     "output_type": "execute_result"
    },
    {
     "data": {
      "image/png": "[encoded data removed]",
      "text/plain": [
       "<Figure size 640x480 with 1 Axes>"
      ]
     },
     "metadata": {},
     "output_type": "display_data"
    }
   ],
   "source": [
    "preds_train = model.predict(X_train).reshape(-1)\n",
    "plt.plot(np.arange(len(y_train)),y_train)\n",
    "plt.plot(np.arange(len(preds_train)), preds_train)"
   ]
  },
  {
   "cell_type": "code",
   "execution_count": 96,
   "id": "c8084697-0c2a-4411-8353-a5d40f93d152",
   "metadata": {
    "tags": []
   },
   "outputs": [
    {
     "name": "stdout",
     "output_type": "stream",
     "text": [
      "1424/1424 [==============================] - 1s 872us/step\n"
     ]
    },
    {
     "data": {
      "text/plain": [
       "[<matplotlib.lines.Line2D at 0x7f7ab3f46bf0>]"
      ]
     },
     "execution_count": 96,
     "metadata": {},
     "output_type": "execute_result"
    },
    {
     "data": {
      "image/png": "[encoded data removed]",
      "text/plain": [
       "<Figure size 640x480 with 1 Axes>"
      ]
     },
     "metadata": {},
     "output_type": "display_data"
    }
   ],
   "source": [
    "preds_val = model.predict(X_val).reshape(-1)\n",
    "plt.plot(np.arange(len(y_val)),y_val)\n",
    "plt.plot(np.arange(len(preds_val)), preds_val)"
   ]
  },
  {
   "cell_type": "code",
   "execution_count": 97,
   "id": "36c322c9-49c7-4621-a6c3-74eb8a39739e",
   "metadata": {
    "tags": []
   },
   "outputs": [
    {
     "name": "stdout",
     "output_type": "stream",
     "text": [
      "1424/1424 [==============================] - 1s 872us/step\n"
     ]
    },
    {
     "data": {
      "text/plain": [
       "[<matplotlib.lines.Line2D at 0x7f7ab3f00bb0>]"
      ]
     },
     "execution_count": 97,
     "metadata": {},
     "output_type": "execute_result"
    },
    {
     "data": {
      "image/png": "[encoded data removed]",
      "text/plain": [
       "<Figure size 640x480 with 1 Axes>"
      ]
     },
     "metadata": {},
     "output_type": "display_data"
    }
   ],
   "source": [
    "preds_test = model.predict(X_test).reshape(-1)\n",
    "plt.plot(np.arange(len(preds_test)),y_test)\n",
    "plt.plot(np.arange(len(preds_test)), preds_test)"
   ]
  },
  {
   "cell_type": "code",
   "execution_count": 101,
   "id": "fa33a78a-b7b1-4739-bd3f-9f52645d2604",
   "metadata": {
    "tags": []
   },
   "outputs": [],
   "source": [
    "def predict_hours(model,initial_sequence,n_steps = 24 ,h = 2):\n",
    "    recursive_preds = []\n",
    "    for i in range(h * 12):\n",
    "        input_ = initial_sequence.reshape(1,n_steps)\n",
    "        pred = model.predict(input_,verbose = 0)[0][0]\n",
    "        recursive_preds.append(pred)\n",
    "        initial_sequence = np.append(initial_sequence,pred)[-n_steps:]\n",
    "    return recursive_preds\n",
    "n = 100\n",
    "initial_sequence = y_test[n:n + n_steps]\n",
    "preds = predict_hours(model, initial_sequence,n_steps = n_steps, h = 2)\n"
   ]
  },
  {
   "cell_type": "code",
   "execution_count": 120,
   "id": "79b145c4-c92f-4575-b867-0524b4d0c2fb",
   "metadata": {
    "tags": []
   },
   "outputs": [
    {
     "name": "stdout",
     "output_type": "stream",
     "text": [
      "Collecting hopsworks\n",
      "  Downloading hopsworks-3.4.3.tar.gz (46 kB)\n",
      "\u001b[2K     \u001b[90m━━━━━━━━━━━━━━━━━━━━━━━━━━━━━━━━━━━━━━━━\u001b[0m \u001b[32m46.1/46.1 kB\u001b[0m \u001b[31m4.5 MB/s\u001b[0m eta \u001b[36m0:00:00\u001b[0m\n",
      "\u001b[?25h  Preparing metadata (setup.py) ... \u001b[?25ldone\n",
      "\u001b[?25hCollecting hsfs<3.5.0,>=3.4.0 (from hsfs[python]<3.5.0,>=3.4.0->hopsworks)\n",
      "  Downloading hsfs-3.4.5.tar.gz (170 kB)\n",
      "\u001b[2K     \u001b[90m━━━━━━━━━━━━━━━━━━━━━━━━━━━━━━━━━━━━━━\u001b[0m \u001b[32m170.3/170.3 kB\u001b[0m \u001b[31m11.4 MB/s\u001b[0m eta \u001b[36m0:00:00\u001b[0m\n",
      "\u001b[?25h  Preparing metadata (setup.py) ... \u001b[?25ldone\n",
      "\u001b[?25hCollecting hsml<3.5.0,>=3.4.0 (from hopsworks)\n",
      "  Downloading hsml-3.4.5.tar.gz (57 kB)\n",
      "\u001b[2K     \u001b[90m━━━━━━━━━━━━━━━━━━━━━━━━━━━━━━━━━━━━━━━━\u001b[0m \u001b[32m57.7/57.7 kB\u001b[0m \u001b[31m10.9 MB/s\u001b[0m eta \u001b[36m0:00:00\u001b[0m\n",
      "\u001b[?25h  Preparing metadata (setup.py) ... \u001b[?25ldone\n",
      "\u001b[?25hCollecting pyhumps==1.6.1 (from hopsworks)\n",
      "  Downloading pyhumps-1.6.1-py3-none-any.whl (5.0 kB)\n",
      "Requirement already satisfied: requests in /home/ec2-user/anaconda3/envs/tensorflow2_p310/lib/python3.10/site-packages (from hopsworks) (2.31.0)\n",
      "Collecting furl (from hopsworks)\n",
      "  Downloading furl-2.1.3-py2.py3-none-any.whl (20 kB)\n",
      "Requirement already satisfied: boto3 in /home/ec2-user/anaconda3/envs/tensorflow2_p310/lib/python3.10/site-packages (from hopsworks) (1.34.11)\n",
      "Collecting pyjks (from hopsworks)\n",
      "  Downloading pyjks-20.0.0-py2.py3-none-any.whl (45 kB)\n",
      "\u001b[2K     \u001b[90m━━━━━━━━━━━━━━━━━━━━━━━━━━━━━━━━━━━━━━━━\u001b[0m \u001b[32m45.3/45.3 kB\u001b[0m \u001b[31m8.8 MB/s\u001b[0m eta \u001b[36m0:00:00\u001b[0m\n",
      "\u001b[?25hRequirement already satisfied: mock in /home/ec2-user/anaconda3/envs/tensorflow2_p310/lib/python3.10/site-packages (from hopsworks) (5.1.0)\n",
      "Requirement already satisfied: tqdm in /home/ec2-user/anaconda3/envs/tensorflow2_p310/lib/python3.10/site-packages (from hopsworks) (4.66.1)\n",
      "Requirement already satisfied: pandas<2.1.0 in /home/ec2-user/anaconda3/envs/tensorflow2_p310/lib/python3.10/site-packages (from hsfs<3.5.0,>=3.4.0->hsfs[python]<3.5.0,>=3.4.0->hopsworks) (1.5.3)\n",
      "Requirement already satisfied: numpy<2 in /home/ec2-user/anaconda3/envs/tensorflow2_p310/lib/python3.10/site-packages (from hsfs<3.5.0,>=3.4.0->hsfs[python]<3.5.0,>=3.4.0->hopsworks) (1.26.1)\n",
      "Collecting avro==1.11.0 (from hsfs<3.5.0,>=3.4.0->hsfs[python]<3.5.0,>=3.4.0->hopsworks)\n",
      "  Downloading avro-1.11.0.tar.gz (83 kB)\n",
      "\u001b[2K     \u001b[90m━━━━━━━━━━━━━━━━━━━━━━━━━━━━━━━━━━━━━━━━\u001b[0m \u001b[32m83.4/83.4 kB\u001b[0m \u001b[31m17.6 MB/s\u001b[0m eta \u001b[36m0:00:00\u001b[0m\n",
      "\u001b[?25h  Installing build dependencies ... \u001b[?25ldone\n",
      "\u001b[?25h  Getting requirements to build wheel ... \u001b[?25ldone\n",
      "\u001b[?25h  Preparing metadata (pyproject.toml) ... \u001b[?25ldone\n",
      "\u001b[?25hRequirement already satisfied: sqlalchemy in /home/ec2-user/anaconda3/envs/tensorflow2_p310/lib/python3.10/site-packages (from hsfs<3.5.0,>=3.4.0->hsfs[python]<3.5.0,>=3.4.0->hopsworks) (2.0.22)\n",
      "Collecting PyMySQL[rsa] (from hsfs<3.5.0,>=3.4.0->hsfs[python]<3.5.0,>=3.4.0->hopsworks)\n",
      "  Downloading PyMySQL-1.1.0-py3-none-any.whl.metadata (4.4 kB)\n",
      "Collecting great_expectations==0.14.13 (from hsfs<3.5.0,>=3.4.0->hsfs[python]<3.5.0,>=3.4.0->hopsworks)\n",
      "  Downloading great_expectations-0.14.13-py3-none-any.whl (5.0 MB)\n",
      "\u001b[2K     \u001b[90m━━━━━━━━━━━━━━━━━━━━━━━━━━━━━━━━━━━━━━━━\u001b[0m \u001b[32m5.0/5.0 MB\u001b[0m \u001b[31m37.3 MB/s\u001b[0m eta \u001b[36m0:00:00\u001b[0m:00:01\u001b[0m00:01\u001b[0m\n",
      "\u001b[?25hCollecting markupsafe<2.1.0 (from hsfs<3.5.0,>=3.4.0->hsfs[python]<3.5.0,>=3.4.0->hopsworks)\n",
      "  Downloading MarkupSafe-2.0.1-cp310-cp310-manylinux_2_5_x86_64.manylinux1_x86_64.manylinux_2_12_x86_64.manylinux2010_x86_64.whl (30 kB)\n",
      "Collecting tzlocal (from hsfs<3.5.0,>=3.4.0->hsfs[python]<3.5.0,>=3.4.0->hopsworks)\n",
      "  Downloading tzlocal-5.2-py3-none-any.whl.metadata (7.8 kB)\n",
      "Requirement already satisfied: fsspec in /home/ec2-user/anaconda3/envs/tensorflow2_p310/lib/python3.10/site-packages (from hsfs<3.5.0,>=3.4.0->hsfs[python]<3.5.0,>=3.4.0->hopsworks) (2023.10.0)\n",
      "Collecting altair<5,>=4.0.0 (from great_expectations==0.14.13->hsfs<3.5.0,>=3.4.0->hsfs[python]<3.5.0,>=3.4.0->hopsworks)\n",
      "  Downloading altair-4.2.2-py3-none-any.whl (813 kB)\n",
      "\u001b[2K     \u001b[90m━━━━━━━━━━━━━━━━━━━━━━━━━━━━━━━━━━━━━━\u001b[0m \u001b[32m813.6/813.6 kB\u001b[0m \u001b[31m24.5 MB/s\u001b[0m eta \u001b[36m0:00:00\u001b[0m\n",
      "\u001b[?25hRequirement already satisfied: Click>=7.1.2 in /home/ec2-user/anaconda3/envs/tensorflow2_p310/lib/python3.10/site-packages (from great_expectations==0.14.13->hsfs<3.5.0,>=3.4.0->hsfs[python]<3.5.0,>=3.4.0->hopsworks) (8.1.7)\n",
      "Requirement already satisfied: colorama>=0.4.3 in /home/ec2-user/anaconda3/envs/tensorflow2_p310/lib/python3.10/site-packages (from great_expectations==0.14.13->hsfs<3.5.0,>=3.4.0->hsfs[python]<3.5.0,>=3.4.0->hopsworks) (0.4.4)\n",
      "Requirement already satisfied: cryptography>=3.2 in /home/ec2-user/anaconda3/envs/tensorflow2_p310/lib/python3.10/site-packages (from great_expectations==0.14.13->hsfs<3.5.0,>=3.4.0->hsfs[python]<3.5.0,>=3.4.0->hopsworks) (41.0.5)\n",
      "Collecting dataclasses (from great_expectations==0.14.13->hsfs<3.5.0,>=3.4.0->hsfs[python]<3.5.0,>=3.4.0->hopsworks)\n",
      "  Downloading dataclasses-0.6-py3-none-any.whl (14 kB)\n",
      "Requirement already satisfied: importlib-metadata>=1.7.0 in /home/ec2-user/anaconda3/envs/tensorflow2_p310/lib/python3.10/site-packages (from great_expectations==0.14.13->hsfs<3.5.0,>=3.4.0->hsfs[python]<3.5.0,>=3.4.0->hopsworks) (6.8.0)\n",
      "Requirement already satisfied: Ipython>=7.16.3 in /home/ec2-user/anaconda3/envs/tensorflow2_p310/lib/python3.10/site-packages (from great_expectations==0.14.13->hsfs<3.5.0,>=3.4.0->hsfs[python]<3.5.0,>=3.4.0->hopsworks) (8.16.1)\n",
      "Collecting jinja2<3.1.0,>=2.10 (from great_expectations==0.14.13->hsfs<3.5.0,>=3.4.0->hsfs[python]<3.5.0,>=3.4.0->hopsworks)\n",
      "  Downloading Jinja2-3.0.3-py3-none-any.whl (133 kB)\n",
      "\u001b[2K     \u001b[90m━━━━━━━━━━━━━━━━━━━━━━━━━━━━━━━━━━━━━━\u001b[0m \u001b[32m133.6/133.6 kB\u001b[0m \u001b[31m27.7 MB/s\u001b[0m eta \u001b[36m0:00:00\u001b[0m\n",
      "\u001b[?25hCollecting jsonpatch>=1.22 (from great_expectations==0.14.13->hsfs<3.5.0,>=3.4.0->hsfs[python]<3.5.0,>=3.4.0->hopsworks)\n",
      "  Downloading jsonpatch-1.33-py2.py3-none-any.whl.metadata (3.0 kB)\n",
      "Requirement already satisfied: jsonschema>=2.5.1 in /home/ec2-user/anaconda3/envs/tensorflow2_p310/lib/python3.10/site-packages (from great_expectations==0.14.13->hsfs<3.5.0,>=3.4.0->hsfs[python]<3.5.0,>=3.4.0->hopsworks) (4.19.1)\n",
      "Requirement already satisfied: mistune>=0.8.4 in /home/ec2-user/anaconda3/envs/tensorflow2_p310/lib/python3.10/site-packages (from great_expectations==0.14.13->hsfs<3.5.0,>=3.4.0->hsfs[python]<3.5.0,>=3.4.0->hopsworks) (3.0.1)\n",
      "Requirement already satisfied: nbformat>=5.0 in /home/ec2-user/anaconda3/envs/tensorflow2_p310/lib/python3.10/site-packages (from great_expectations==0.14.13->hsfs<3.5.0,>=3.4.0->hsfs[python]<3.5.0,>=3.4.0->hopsworks) (5.9.2)\n",
      "Requirement already satisfied: packaging in /home/ec2-user/anaconda3/envs/tensorflow2_p310/lib/python3.10/site-packages (from great_expectations==0.14.13->hsfs<3.5.0,>=3.4.0->hsfs[python]<3.5.0,>=3.4.0->hopsworks) (21.3)\n",
      "Collecting pyparsing<3,>=2.4 (from great_expectations==0.14.13->hsfs<3.5.0,>=3.4.0->hsfs[python]<3.5.0,>=3.4.0->hopsworks)\n",
      "  Downloading pyparsing-2.4.7-py2.py3-none-any.whl (67 kB)\n",
      "\u001b[2K     \u001b[90m━━━━━━━━━━━━━━━━━━━━━━━━━━━━━━━━━━━━━━━━\u001b[0m \u001b[32m67.8/67.8 kB\u001b[0m \u001b[31m13.2 MB/s\u001b[0m eta \u001b[36m0:00:00\u001b[0m\n",
      "\u001b[?25hRequirement already satisfied: python-dateutil>=2.8.1 in /home/ec2-user/anaconda3/envs/tensorflow2_p310/lib/python3.10/site-packages (from great_expectations==0.14.13->hsfs<3.5.0,>=3.4.0->hsfs[python]<3.5.0,>=3.4.0->hopsworks) (2.8.2)\n",
      "Requirement already satisfied: pytz>=2021.3 in /home/ec2-user/anaconda3/envs/tensorflow2_p310/lib/python3.10/site-packages (from great_expectations==0.14.13->hsfs<3.5.0,>=3.4.0->hsfs[python]<3.5.0,>=3.4.0->hopsworks) (2023.3.post1)\n",
      "Collecting ruamel.yaml<0.17.18,>=0.16 (from great_expectations==0.14.13->hsfs<3.5.0,>=3.4.0->hsfs[python]<3.5.0,>=3.4.0->hopsworks)\n",
      "  Downloading ruamel.yaml-0.17.17-py3-none-any.whl (109 kB)\n",
      "\u001b[2K     \u001b[90m━━━━━━━━━━━━━━━━━━━━━━━━━━━━━━━━━━━━━━\u001b[0m \u001b[32m109.1/109.1 kB\u001b[0m \u001b[31m20.4 MB/s\u001b[0m eta \u001b[36m0:00:00\u001b[0m\n",
      "\u001b[?25hRequirement already satisfied: scipy>=0.19.0 in /home/ec2-user/anaconda3/envs/tensorflow2_p310/lib/python3.10/site-packages (from great_expectations==0.14.13->hsfs<3.5.0,>=3.4.0->hsfs[python]<3.5.0,>=3.4.0->hopsworks) (1.11.3)\n",
      "Requirement already satisfied: termcolor>=1.1.0 in /home/ec2-user/anaconda3/envs/tensorflow2_p310/lib/python3.10/site-packages (from great_expectations==0.14.13->hsfs<3.5.0,>=3.4.0->hsfs[python]<3.5.0,>=3.4.0->hopsworks) (2.3.0)\n",
      "Requirement already satisfied: typing-extensions>=3.10.0.0 in /home/ec2-user/anaconda3/envs/tensorflow2_p310/lib/python3.10/site-packages (from great_expectations==0.14.13->hsfs<3.5.0,>=3.4.0->hsfs[python]<3.5.0,>=3.4.0->hopsworks) (4.5.0)\n",
      "Requirement already satisfied: urllib3<1.27,>=1.25.4 in /home/ec2-user/anaconda3/envs/tensorflow2_p310/lib/python3.10/site-packages (from great_expectations==0.14.13->hsfs<3.5.0,>=3.4.0->hsfs[python]<3.5.0,>=3.4.0->hopsworks) (1.26.18)\n",
      "Collecting pyhopshive[thrift] (from hsfs[python]<3.5.0,>=3.4.0->hopsworks)\n",
      "  Downloading PyHopsHive-0.6.4.1.dev0.tar.gz (42 kB)\n",
      "\u001b[2K     \u001b[90m━━━━━━━━━━━━━━━━━━━━━━━━━━━━━━━━━━━━━━━━\u001b[0m \u001b[32m42.9/42.9 kB\u001b[0m \u001b[31m7.6 MB/s\u001b[0m eta \u001b[36m0:00:00\u001b[0m\n",
      "\u001b[?25h  Preparing metadata (setup.py) ... \u001b[?25ldone\n",
      "\u001b[?25hRequirement already satisfied: pyarrow>=10.0 in /home/ec2-user/anaconda3/envs/tensorflow2_p310/lib/python3.10/site-packages (from hsfs[python]<3.5.0,>=3.4.0->hopsworks) (13.0.0)\n",
      "Collecting confluent-kafka<=2.1.1 (from hsfs[python]<3.5.0,>=3.4.0->hopsworks)\n",
      "  Downloading confluent_kafka-2.1.1-cp310-cp310-manylinux_2_17_x86_64.manylinux2014_x86_64.whl (3.9 MB)\n",
      "\u001b[2K     \u001b[90m━━━━━━━━━━━━━━━━━━━━━━━━━━━━━━━━━━━━━━━━\u001b[0m \u001b[32m3.9/3.9 MB\u001b[0m \u001b[31m38.4 MB/s\u001b[0m eta \u001b[36m0:00:00\u001b[0m:00:01\u001b[0m\n",
      "\u001b[?25hCollecting fastavro<=1.8.2,>=1.4.11 (from hsfs[python]<3.5.0,>=3.4.0->hopsworks)\n",
      "  Downloading fastavro-1.8.2-cp310-cp310-manylinux_2_17_x86_64.manylinux2014_x86_64.whl.metadata (5.5 kB)\n",
      "Requirement already satisfied: charset-normalizer<4,>=2 in /home/ec2-user/anaconda3/envs/tensorflow2_p310/lib/python3.10/site-packages (from requests->hopsworks) (3.3.1)\n",
      "Requirement already satisfied: idna<4,>=2.5 in /home/ec2-user/anaconda3/envs/tensorflow2_p310/lib/python3.10/site-packages (from requests->hopsworks) (3.4)\n",
      "Requirement already satisfied: certifi>=2017.4.17 in /home/ec2-user/anaconda3/envs/tensorflow2_p310/lib/python3.10/site-packages (from requests->hopsworks) (2023.7.22)\n",
      "Requirement already satisfied: botocore<1.35.0,>=1.34.11 in /home/ec2-user/anaconda3/envs/tensorflow2_p310/lib/python3.10/site-packages (from boto3->hopsworks) (1.34.11)\n",
      "Requirement already satisfied: jmespath<2.0.0,>=0.7.1 in /home/ec2-user/anaconda3/envs/tensorflow2_p310/lib/python3.10/site-packages (from boto3->hopsworks) (1.0.1)\n",
      "Requirement already satisfied: s3transfer<0.11.0,>=0.10.0 in /home/ec2-user/anaconda3/envs/tensorflow2_p310/lib/python3.10/site-packages (from boto3->hopsworks) (0.10.0)\n",
      "Requirement already satisfied: six>=1.8.0 in /home/ec2-user/anaconda3/envs/tensorflow2_p310/lib/python3.10/site-packages (from furl->hopsworks) (1.16.0)\n",
      "Collecting orderedmultidict>=1.0.1 (from furl->hopsworks)\n",
      "  Downloading orderedmultidict-1.0.1-py2.py3-none-any.whl (11 kB)\n",
      "Collecting javaobj-py3 (from pyjks->hopsworks)\n",
      "  Downloading javaobj_py3-0.4.3-py2.py3-none-any.whl (57 kB)\n",
      "\u001b[2K     \u001b[90m━━━━━━━━━━━━━━━━━━━━━━━━━━━━━━━━━━━━━━━━\u001b[0m \u001b[32m57.3/57.3 kB\u001b[0m \u001b[31m11.5 MB/s\u001b[0m eta \u001b[36m0:00:00\u001b[0m\n",
      "\u001b[?25hRequirement already satisfied: pyasn1>=0.3.5 in /home/ec2-user/anaconda3/envs/tensorflow2_p310/lib/python3.10/site-packages (from pyjks->hopsworks) (0.5.0)\n",
      "Requirement already satisfied: pyasn1-modules in /home/ec2-user/anaconda3/envs/tensorflow2_p310/lib/python3.10/site-packages (from pyjks->hopsworks) (0.3.0)\n",
      "Collecting pycryptodomex (from pyjks->hopsworks)\n",
      "  Downloading pycryptodomex-3.20.0-cp35-abi3-manylinux_2_17_x86_64.manylinux2014_x86_64.whl.metadata (3.4 kB)\n",
      "Collecting twofish (from pyjks->hopsworks)\n",
      "  Downloading twofish-0.3.0.tar.gz (26 kB)\n",
      "  Preparing metadata (setup.py) ... \u001b[?25ldone\n",
      "\u001b[?25hRequirement already satisfied: future in /home/ec2-user/anaconda3/envs/tensorflow2_p310/lib/python3.10/site-packages (from pyhopshive[thrift]->hsfs[python]<3.5.0,>=3.4.0->hopsworks) (0.18.3)\n",
      "Collecting thrift>=0.10.0 (from pyhopshive[thrift]->hsfs[python]<3.5.0,>=3.4.0->hopsworks)\n",
      "  Downloading thrift-0.16.0.tar.gz (59 kB)\n",
      "\u001b[2K     \u001b[90m━━━━━━━━━━━━━━━━━━━━━━━━━━━━━━━━━━━━━━━━\u001b[0m \u001b[32m59.6/59.6 kB\u001b[0m \u001b[31m11.7 MB/s\u001b[0m eta \u001b[36m0:00:00\u001b[0m\n",
      "\u001b[?25h  Preparing metadata (setup.py) ... \u001b[?25ldone\n",
      "\u001b[?25hRequirement already satisfied: greenlet!=0.4.17 in /home/ec2-user/anaconda3/envs/tensorflow2_p310/lib/python3.10/site-packages (from sqlalchemy->hsfs<3.5.0,>=3.4.0->hsfs[python]<3.5.0,>=3.4.0->hopsworks) (3.0.1)\n",
      "Requirement already satisfied: entrypoints in /home/ec2-user/anaconda3/envs/tensorflow2_p310/lib/python3.10/site-packages (from altair<5,>=4.0.0->great_expectations==0.14.13->hsfs<3.5.0,>=3.4.0->hsfs[python]<3.5.0,>=3.4.0->hopsworks) (0.4)\n",
      "Requirement already satisfied: toolz in /home/ec2-user/anaconda3/envs/tensorflow2_p310/lib/python3.10/site-packages (from altair<5,>=4.0.0->great_expectations==0.14.13->hsfs<3.5.0,>=3.4.0->hsfs[python]<3.5.0,>=3.4.0->hopsworks) (0.12.0)\n",
      "Requirement already satisfied: cffi>=1.12 in /home/ec2-user/anaconda3/envs/tensorflow2_p310/lib/python3.10/site-packages (from cryptography>=3.2->great_expectations==0.14.13->hsfs<3.5.0,>=3.4.0->hsfs[python]<3.5.0,>=3.4.0->hopsworks) (1.16.0)\n",
      "Requirement already satisfied: zipp>=0.5 in /home/ec2-user/anaconda3/envs/tensorflow2_p310/lib/python3.10/site-packages (from importlib-metadata>=1.7.0->great_expectations==0.14.13->hsfs<3.5.0,>=3.4.0->hsfs[python]<3.5.0,>=3.4.0->hopsworks) (3.17.0)\n",
      "Requirement already satisfied: backcall in /home/ec2-user/anaconda3/envs/tensorflow2_p310/lib/python3.10/site-packages (from Ipython>=7.16.3->great_expectations==0.14.13->hsfs<3.5.0,>=3.4.0->hsfs[python]<3.5.0,>=3.4.0->hopsworks) (0.2.0)\n",
      "Requirement already satisfied: decorator in /home/ec2-user/anaconda3/envs/tensorflow2_p310/lib/python3.10/site-packages (from Ipython>=7.16.3->great_expectations==0.14.13->hsfs<3.5.0,>=3.4.0->hsfs[python]<3.5.0,>=3.4.0->hopsworks) (5.1.1)\n",
      "Requirement already satisfied: jedi>=0.16 in /home/ec2-user/anaconda3/envs/tensorflow2_p310/lib/python3.10/site-packages (from Ipython>=7.16.3->great_expectations==0.14.13->hsfs<3.5.0,>=3.4.0->hsfs[python]<3.5.0,>=3.4.0->hopsworks) (0.18.2)\n",
      "Requirement already satisfied: matplotlib-inline in /home/ec2-user/anaconda3/envs/tensorflow2_p310/lib/python3.10/site-packages (from Ipython>=7.16.3->great_expectations==0.14.13->hsfs<3.5.0,>=3.4.0->hsfs[python]<3.5.0,>=3.4.0->hopsworks) (0.1.6)\n",
      "Requirement already satisfied: pickleshare in /home/ec2-user/anaconda3/envs/tensorflow2_p310/lib/python3.10/site-packages (from Ipython>=7.16.3->great_expectations==0.14.13->hsfs<3.5.0,>=3.4.0->hsfs[python]<3.5.0,>=3.4.0->hopsworks) (0.7.5)\n",
      "Requirement already satisfied: prompt-toolkit!=3.0.37,<3.1.0,>=3.0.30 in /home/ec2-user/anaconda3/envs/tensorflow2_p310/lib/python3.10/site-packages (from Ipython>=7.16.3->great_expectations==0.14.13->hsfs<3.5.0,>=3.4.0->hsfs[python]<3.5.0,>=3.4.0->hopsworks) (3.0.39)\n",
      "Requirement already satisfied: pygments>=2.4.0 in /home/ec2-user/anaconda3/envs/tensorflow2_p310/lib/python3.10/site-packages (from Ipython>=7.16.3->great_expectations==0.14.13->hsfs<3.5.0,>=3.4.0->hsfs[python]<3.5.0,>=3.4.0->hopsworks) (2.16.1)\n",
      "Requirement already satisfied: stack-data in /home/ec2-user/anaconda3/envs/tensorflow2_p310/lib/python3.10/site-packages (from Ipython>=7.16.3->great_expectations==0.14.13->hsfs<3.5.0,>=3.4.0->hsfs[python]<3.5.0,>=3.4.0->hopsworks) (0.6.2)\n",
      "Requirement already satisfied: traitlets>=5 in /home/ec2-user/anaconda3/envs/tensorflow2_p310/lib/python3.10/site-packages (from Ipython>=7.16.3->great_expectations==0.14.13->hsfs<3.5.0,>=3.4.0->hsfs[python]<3.5.0,>=3.4.0->hopsworks) (5.12.0)\n",
      "Requirement already satisfied: exceptiongroup in /home/ec2-user/anaconda3/envs/tensorflow2_p310/lib/python3.10/site-packages (from Ipython>=7.16.3->great_expectations==0.14.13->hsfs<3.5.0,>=3.4.0->hsfs[python]<3.5.0,>=3.4.0->hopsworks) (1.1.3)\n",
      "Requirement already satisfied: pexpect>4.3 in /home/ec2-user/anaconda3/envs/tensorflow2_p310/lib/python3.10/site-packages (from Ipython>=7.16.3->great_expectations==0.14.13->hsfs<3.5.0,>=3.4.0->hsfs[python]<3.5.0,>=3.4.0->hopsworks) (4.8.0)\n",
      "Requirement already satisfied: jsonpointer>=1.9 in /home/ec2-user/anaconda3/envs/tensorflow2_p310/lib/python3.10/site-packages (from jsonpatch>=1.22->great_expectations==0.14.13->hsfs<3.5.0,>=3.4.0->hsfs[python]<3.5.0,>=3.4.0->hopsworks) (2.4)\n",
      "Requirement already satisfied: attrs>=22.2.0 in /home/ec2-user/anaconda3/envs/tensorflow2_p310/lib/python3.10/site-packages (from jsonschema>=2.5.1->great_expectations==0.14.13->hsfs<3.5.0,>=3.4.0->hsfs[python]<3.5.0,>=3.4.0->hopsworks) (23.1.0)\n",
      "Requirement already satisfied: jsonschema-specifications>=2023.03.6 in /home/ec2-user/anaconda3/envs/tensorflow2_p310/lib/python3.10/site-packages (from jsonschema>=2.5.1->great_expectations==0.14.13->hsfs<3.5.0,>=3.4.0->hsfs[python]<3.5.0,>=3.4.0->hopsworks) (2023.7.1)\n",
      "Requirement already satisfied: referencing>=0.28.4 in /home/ec2-user/anaconda3/envs/tensorflow2_p310/lib/python3.10/site-packages (from jsonschema>=2.5.1->great_expectations==0.14.13->hsfs<3.5.0,>=3.4.0->hsfs[python]<3.5.0,>=3.4.0->hopsworks) (0.30.2)\n",
      "Requirement already satisfied: rpds-py>=0.7.1 in /home/ec2-user/anaconda3/envs/tensorflow2_p310/lib/python3.10/site-packages (from jsonschema>=2.5.1->great_expectations==0.14.13->hsfs<3.5.0,>=3.4.0->hsfs[python]<3.5.0,>=3.4.0->hopsworks) (0.10.6)\n",
      "Requirement already satisfied: fastjsonschema in /home/ec2-user/anaconda3/envs/tensorflow2_p310/lib/python3.10/site-packages (from nbformat>=5.0->great_expectations==0.14.13->hsfs<3.5.0,>=3.4.0->hsfs[python]<3.5.0,>=3.4.0->hopsworks) (2.18.1)\n",
      "Requirement already satisfied: jupyter-core in /home/ec2-user/anaconda3/envs/tensorflow2_p310/lib/python3.10/site-packages (from nbformat>=5.0->great_expectations==0.14.13->hsfs<3.5.0,>=3.4.0->hsfs[python]<3.5.0,>=3.4.0->hopsworks) (5.4.0)\n",
      "Requirement already satisfied: pycparser in /home/ec2-user/anaconda3/envs/tensorflow2_p310/lib/python3.10/site-packages (from cffi>=1.12->cryptography>=3.2->great_expectations==0.14.13->hsfs<3.5.0,>=3.4.0->hsfs[python]<3.5.0,>=3.4.0->hopsworks) (2.21)\n",
      "Requirement already satisfied: parso<0.9.0,>=0.8.0 in /home/ec2-user/anaconda3/envs/tensorflow2_p310/lib/python3.10/site-packages (from jedi>=0.16->Ipython>=7.16.3->great_expectations==0.14.13->hsfs<3.5.0,>=3.4.0->hsfs[python]<3.5.0,>=3.4.0->hopsworks) (0.8.3)\n",
      "Requirement already satisfied: ptyprocess>=0.5 in /home/ec2-user/anaconda3/envs/tensorflow2_p310/lib/python3.10/site-packages (from pexpect>4.3->Ipython>=7.16.3->great_expectations==0.14.13->hsfs<3.5.0,>=3.4.0->hsfs[python]<3.5.0,>=3.4.0->hopsworks) (0.7.0)\n",
      "Requirement already satisfied: wcwidth in /home/ec2-user/anaconda3/envs/tensorflow2_p310/lib/python3.10/site-packages (from prompt-toolkit!=3.0.37,<3.1.0,>=3.0.30->Ipython>=7.16.3->great_expectations==0.14.13->hsfs<3.5.0,>=3.4.0->hsfs[python]<3.5.0,>=3.4.0->hopsworks) (0.2.8)\n",
      "Requirement already satisfied: platformdirs>=2.5 in /home/ec2-user/anaconda3/envs/tensorflow2_p310/lib/python3.10/site-packages (from jupyter-core->nbformat>=5.0->great_expectations==0.14.13->hsfs<3.5.0,>=3.4.0->hsfs[python]<3.5.0,>=3.4.0->hopsworks) (3.11.0)\n",
      "Requirement already satisfied: executing>=1.2.0 in /home/ec2-user/anaconda3/envs/tensorflow2_p310/lib/python3.10/site-packages (from stack-data->Ipython>=7.16.3->great_expectations==0.14.13->hsfs<3.5.0,>=3.4.0->hsfs[python]<3.5.0,>=3.4.0->hopsworks) (1.2.0)\n",
      "Requirement already satisfied: asttokens>=2.1.0 in /home/ec2-user/anaconda3/envs/tensorflow2_p310/lib/python3.10/site-packages (from stack-data->Ipython>=7.16.3->great_expectations==0.14.13->hsfs<3.5.0,>=3.4.0->hsfs[python]<3.5.0,>=3.4.0->hopsworks) (2.4.1)\n",
      "Requirement already satisfied: pure-eval in /home/ec2-user/anaconda3/envs/tensorflow2_p310/lib/python3.10/site-packages (from stack-data->Ipython>=7.16.3->great_expectations==0.14.13->hsfs<3.5.0,>=3.4.0->hsfs[python]<3.5.0,>=3.4.0->hopsworks) (0.2.2)\n",
      "Downloading fastavro-1.8.2-cp310-cp310-manylinux_2_17_x86_64.manylinux2014_x86_64.whl (2.7 MB)\n",
      "\u001b[2K   \u001b[90m━━━━━━━━━━━━━━━━━━━━━━━━━━━━━━━━━━━━━━━━\u001b[0m \u001b[32m2.7/2.7 MB\u001b[0m \u001b[31m40.4 MB/s\u001b[0m eta \u001b[36m0:00:00\u001b[0m:00:01\u001b[0m\n",
      "\u001b[?25hDownloading tzlocal-5.2-py3-none-any.whl (17 kB)\n",
      "Downloading pycryptodomex-3.20.0-cp35-abi3-manylinux_2_17_x86_64.manylinux2014_x86_64.whl (2.1 MB)\n",
      "\u001b[2K   \u001b[90m━━━━━━━━━━━━━━━━━━━━━━━━━━━━━━━━━━━━━━━━\u001b[0m \u001b[32m2.1/2.1 MB\u001b[0m \u001b[31m36.4 MB/s\u001b[0m eta \u001b[36m0:00:00\u001b[0m:00:01\u001b[0m\n",
      "\u001b[?25hDownloading jsonpatch-1.33-py2.py3-none-any.whl (12 kB)\n",
      "Downloading PyMySQL-1.1.0-py3-none-any.whl (44 kB)\n",
      "\u001b[2K   \u001b[90m━━━━━━━━━━━━━━━━━━━━━━━━━━━━━━━━━━━━━━━━\u001b[0m \u001b[32m44.8/44.8 kB\u001b[0m \u001b[31m8.5 MB/s\u001b[0m eta \u001b[36m0:00:00\u001b[0m\n",
      "\u001b[?25hBuilding wheels for collected packages: hopsworks, hsfs, avro, hsml, twofish, thrift, pyhopshive\n",
      "  Building wheel for hopsworks (setup.py) ... \u001b[?25ldone\n",
      "\u001b[?25h  Created wheel for hopsworks: filename=hopsworks-3.4.3-py3-none-any.whl size=83151 sha256=1f1755ca2423a9dfbb01ca17934d2621f7fd31ca8f46c3b817d589a09f66f7a6\n",
      "  Stored in directory: /home/ec2-user/.cache/pip/wheels/bd/dc/43/a6675965caddfd8b1716b5553e51485b37d5d874a99cae2b7b\n",
      "  Building wheel for hsfs (setup.py) ... \u001b[?25ldone\n",
      "\u001b[?25h  Created wheel for hsfs: filename=hsfs-3.4.5-py3-none-any.whl size=233848 sha256=1678d4bd605fdd219e67808ae23924f07861dffaff9aecd6f14d5087b3f5989c\n",
      "  Stored in directory: /home/ec2-user/.cache/pip/wheels/7d/3d/5f/1ff8eb9d6246381d01e2bfa87cf375df9fd52a0ad70375527d\n",
      "  Building wheel for avro (pyproject.toml) ... \u001b[?25ldone\n",
      "\u001b[?25h  Created wheel for avro: filename=avro-1.11.0-py2.py3-none-any.whl size=115908 sha256=293e94b8ae00391a756851ceef9303c4fe6c3b95a5c5a2895382634bb3792916\n",
      "  Stored in directory: /home/ec2-user/.cache/pip/wheels/41/4f/67/5b7500b01c31c347b0751940659f94dac2394501a20c06a0db\n",
      "  Building wheel for hsml (setup.py) ... \u001b[?25ldone\n",
      "\u001b[?25h  Created wheel for hsml: filename=hsml-3.4.5-py3-none-any.whl size=108148 sha256=96bbca9606a2b0fee923611fed534413521a0dd80eeb5edd6935856746d4c0f3\n",
      "  Stored in directory: /home/ec2-user/.cache/pip/wheels/b2/46/1d/424ec4848f7a946da98f970c53abc4936aeba3c6bf00ef1923\n",
      "  Building wheel for twofish (setup.py) ... \u001b[?25ldone\n",
      "\u001b[?25h  Created wheel for twofish: filename=twofish-0.3.0-cp310-cp310-linux_x86_64.whl size=11271 sha256=5ea180b9cbfb3edfee5b019653ce6b45439eb169f0077168a6bec5d2a87496ad\n",
      "  Stored in directory: /home/ec2-user/.cache/pip/wheels/a7/3c/27/c390be4f3e8a299d4b2836f8daa19697eb991eacbfabe25031\n",
      "  Building wheel for thrift (setup.py) ... \u001b[?25ldone\n",
      "\u001b[?25h  Created wheel for thrift: filename=thrift-0.16.0-cp310-cp310-linux_x86_64.whl size=184072 sha256=8d1a71235f8b155ab22a6c34ad71a2c7a5bf80cd552a9a1f4f1518c409274a81\n",
      "  Stored in directory: /home/ec2-user/.cache/pip/wheels/52/f8/d2/acfd995e8247eb0cad372fa6a640a5fcf279ab2ed7c5c4490e\n",
      "  Building wheel for pyhopshive (setup.py) ... \u001b[?25ldone\n",
      "\u001b[?25h  Created wheel for pyhopshive: filename=PyHopsHive-0.6.4.1.dev0-py3-none-any.whl size=48565 sha256=a682eac91d09ec0dcbffe2d634dd861ba49635a36aa3c9c3a4f8069cce9be5bb\n",
      "  Stored in directory: /home/ec2-user/.cache/pip/wheels/2c/a5/da/3326e27d433d47029d233e314b993fdedb42b381650ea9dac7\n",
      "Successfully built hopsworks hsfs avro hsml twofish thrift pyhopshive\n",
      "Installing collected packages: twofish, pyhumps, javaobj-py3, dataclasses, confluent-kafka, tzlocal, thrift, ruamel.yaml, pyparsing, PyMySQL, pycryptodomex, orderedmultidict, markupsafe, jsonpatch, fastavro, avro, pyjks, jinja2, furl, pyhopshive, altair, hsml, great_expectations, hsfs, hopsworks\n",
      "  Attempting uninstall: ruamel.yaml\n",
      "    Found existing installation: ruamel.yaml 0.18.2\n",
      "    Uninstalling ruamel.yaml-0.18.2:\n",
      "      Successfully uninstalled ruamel.yaml-0.18.2\n",
      "  Attempting uninstall: pyparsing\n",
      "    Found existing installation: pyparsing 3.1.1\n",
      "    Uninstalling pyparsing-3.1.1:\n",
      "      Successfully uninstalled pyparsing-3.1.1\n",
      "  Attempting uninstall: markupsafe\n",
      "    Found existing installation: MarkupSafe 2.1.3\n",
      "    Uninstalling MarkupSafe-2.1.3:\n",
      "      Successfully uninstalled MarkupSafe-2.1.3\n",
      "  Attempting uninstall: jinja2\n",
      "    Found existing installation: Jinja2 3.1.2\n",
      "    Uninstalling Jinja2-3.1.2:\n",
      "      Successfully uninstalled Jinja2-3.1.2\n",
      "\u001b[31mERROR: pip's dependency resolver does not currently take into account all the packages that are installed. This behaviour is the source of the following dependency conflicts.\n",
      "flask 3.0.0 requires Jinja2>=3.1.2, but you have jinja2 3.0.3 which is incompatible.\n",
      "pytoolconfig 1.2.5 requires packaging>=22.0, but you have packaging 21.3 which is incompatible.\n",
      "tensorflow 2.13.1 requires numpy<=1.24.3,>=1.22, but you have numpy 1.26.1 which is incompatible.\n",
      "werkzeug 3.0.1 requires MarkupSafe>=2.1.1, but you have markupsafe 2.0.1 which is incompatible.\u001b[0m\u001b[31m\n",
      "\u001b[0mSuccessfully installed PyMySQL-1.1.0 altair-4.2.2 avro-1.11.0 confluent-kafka-2.1.1 dataclasses-0.6 fastavro-1.8.2 furl-2.1.3 great_expectations-0.14.13 hopsworks-3.4.3 hsfs-3.4.5 hsml-3.4.5 javaobj-py3-0.4.3 jinja2-3.0.3 jsonpatch-1.33 markupsafe-2.0.1 orderedmultidict-1.0.1 pycryptodomex-3.20.0 pyhopshive-0.6.4.1.dev0 pyhumps-1.6.1 pyjks-20.0.0 pyparsing-2.4.7 ruamel.yaml-0.17.17 thrift-0.16.0 twofish-0.3.0 tzlocal-5.2\n"
     ]
    }
   ],
   "source": [
    "!pip install hopsworks"
   ]
  },
  {
   "cell_type": "code",
   "execution_count": 1,
   "id": "9a6377bd-e5c6-47e9-b6a8-92fe2b9024be",
   "metadata": {
    "tags": []
   },
   "outputs": [
    {
     "name": "stdout",
     "output_type": "stream",
     "text": [
      "Connected. Call `.close()` to terminate connection gracefully.\n",
      "\n",
      "Multiple projects found. \n",
      "\n",
      "\t (1) DD2223_lab1\n",
      "\t (2) project0\n"
     ]
    },
    {
     "name": "stdin",
     "output_type": "stream",
     "text": [
      "\n",
      "Enter project to access:  1\n"
     ]
    },
    {
     "name": "stdout",
     "output_type": "stream",
     "text": [
      "\n",
      "Logged in to project, explore it here https://c.app.hopsworks.ai:443/p/206996\n"
     ]
    }
   ],
   "source": [
    "# You have to set the environment variable 'HOPSWORKS_API_KEY' for login to succeed\n",
    "import hopsworks\n",
    "project = hopsworks.login()"
   ]
  },
  {
   "cell_type": "code",
   "execution_count": 18,
   "id": "f93eed50-0f95-43f3-9ac9-6ac7664a2d39",
   "metadata": {
    "tags": []
   },
   "outputs": [
    {
     "name": "stdout",
     "output_type": "stream",
     "text": [
      "Connected. Call `.close()` to terminate connection gracefully.\n"
     ]
    },
    {
     "data": {
      "application/vnd.jupyter.widget-view+json": {
       "model_id": "a21e95dd628749dc839989804c04dfe7",
       "version_major": 2,
       "version_minor": 0
      },
      "text/plain": [
       "  0%|          | 0/6 [00:00<?, ?it/s]"
      ]
     },
     "metadata": {},
     "output_type": "display_data"
    },
    {
     "data": {
      "application/vnd.jupyter.widget-view+json": {
       "model_id": "0975edf3469243e79553311a5a6e0cd6",
       "version_major": 2,
       "version_minor": 0
      },
      "text/plain": [
       "Uploading: 0.000%|          | 0/328038 elapsed<00:00 remaining<?"
      ]
     },
     "metadata": {},
     "output_type": "display_data"
    },
    {
     "data": {
      "application/vnd.jupyter.widget-view+json": {
       "model_id": "242de35335714983b7b6866a9e004874",
       "version_major": 2,
       "version_minor": 0
      },
      "text/plain": [
       "Uploading: 0.000%|          | 0/221 elapsed<00:00 remaining<?"
      ]
     },
     "metadata": {},
     "output_type": "display_data"
    },
    {
     "name": "stdout",
     "output_type": "stream",
     "text": [
      "Model created, explore it at https://c.app.hopsworks.ai:443/p/206996/models/mlpModel/2\n"
     ]
    },
    {
     "data": {
      "text/plain": [
       "Model(name: 'mlpModel', version: 2)"
      ]
     },
     "execution_count": 18,
     "metadata": {},
     "output_type": "execute_result"
    }
   ],
   "source": [
    "from hsml.schema import Schema\n",
    "from hsml.model_schema import ModelSchema\n",
    "import os\n",
    "import joblib\n",
    "# We will now upload our model to the Hopsworks Model Registry. First get an object for the model registry.\n",
    "mr = project.get_model_registry()\n",
    "\n",
    "The contents of the 'iris_model' directory will be saved to the model registry. Create the dir, first.\n",
    "model_dir=\"btc-predictor-mlp-2\"\n",
    "if os.path.isdir(model_dir) == False:\n",
    "    os.mkdir(model_dir)\n",
    "\n",
    "# # Save both our model and the confusion matrix to 'model_dir', whose contents will be uploaded to the model registry\n",
    "# #joblib.dump(model, model_dir + \"/lstm_model.h5\")\n",
    "model.save(model_dir + \"/mlp.keras\")\n",
    "# Specify the schema of the model's input/output using the features (X_train) and labels (y_train)\n",
    "input_schema = Schema(X_train)\n",
    "output_schema = Schema(y_train)\n",
    "model_schema = ModelSchema(input_schema, output_schema)\n",
    "\n",
    "# Create an entry in the model registry that includes the model's name, desc, metrics\n",
    "model_lstm = mr.python.create_model(\n",
    "    name=\"mlpModel\", \n",
    "    metrics={\"val_loss\" : hist.history['val_loss'][-1],\"val_mae\" : hist.history['val_mae'][-1] },\n",
    "    model_schema=model_schema,\n",
    "    description=\"BTC price Predictor\",\n",
    "    version = 2\n",
    "    \n",
    ")\n",
    "\n",
    "# Upload the model to the model registry, including all files in 'model_dir'\n",
    "model_lstm.save(model_dir)"
   ]
  },
  {
   "cell_type": "code",
   "execution_count": null,
   "id": "6f9479c5-cf78-439c-9906-80f9ceb2716e",
   "metadata": {
    "tags": []
   },
   "outputs": [],
   "source": [
    "print(mr.python.create_model.__doc__)"
   ]
  }
 ],
 "metadata": {
  "availableInstances": [
   {
    "_defaultOrder": 0,
    "_isFastLaunch": true,
    "category": "General purpose",
    "gpuNum": 0,
    "hideHardwareSpecs": false,
    "memoryGiB": 4,
    "name": "ml.t3.medium",
    "vcpuNum": 2
   },
   {
    "_defaultOrder": 1,
    "_isFastLaunch": false,
    "category": "General purpose",
    "gpuNum": 0,
    "hideHardwareSpecs": false,
    "memoryGiB": 8,
    "name": "ml.t3.large",
    "vcpuNum": 2
   },
   {
    "_defaultOrder": 2,
    "_isFastLaunch": false,
    "category": "General purpose",
    "gpuNum": 0,
    "hideHardwareSpecs": false,
    "memoryGiB": 16,
    "name": "ml.t3.xlarge",
    "vcpuNum": 4
   },
   {
    "_defaultOrder": 3,
    "_isFastLaunch": false,
    "category": "General purpose",
    "gpuNum": 0,
    "hideHardwareSpecs": false,
    "memoryGiB": 32,
    "name": "ml.t3.2xlarge",
    "vcpuNum": 8
   },
   {
    "_defaultOrder": 4,
    "_isFastLaunch": true,
    "category": "General purpose",
    "gpuNum": 0,
    "hideHardwareSpecs": false,
    "memoryGiB": 8,
    "name": "ml.m5.large",
    "vcpuNum": 2
   },
   {
    "_defaultOrder": 5,
    "_isFastLaunch": false,
    "category": "General purpose",
    "gpuNum": 0,
    "hideHardwareSpecs": false,
    "memoryGiB": 16,
    "name": "ml.m5.xlarge",
    "vcpuNum": 4
   },
   {
    "_defaultOrder": 6,
    "_isFastLaunch": false,
    "category": "General purpose",
    "gpuNum": 0,
    "hideHardwareSpecs": false,
    "memoryGiB": 32,
    "name": "ml.m5.2xlarge",
    "vcpuNum": 8
   },
   {
    "_defaultOrder": 7,
    "_isFastLaunch": false,
    "category": "General purpose",
    "gpuNum": 0,
    "hideHardwareSpecs": false,
    "memoryGiB": 64,
    "name": "ml.m5.4xlarge",
    "vcpuNum": 16
   },
   {
    "_defaultOrder": 8,
    "_isFastLaunch": false,
    "category": "General purpose",
    "gpuNum": 0,
    "hideHardwareSpecs": false,
    "memoryGiB": 128,
    "name": "ml.m5.8xlarge",
    "vcpuNum": 32
   },
   {
    "_defaultOrder": 9,
    "_isFastLaunch": false,
    "category": "General purpose",
    "gpuNum": 0,
    "hideHardwareSpecs": false,
    "memoryGiB": 192,
    "name": "ml.m5.12xlarge",
    "vcpuNum": 48
   },
   {
    "_defaultOrder": 10,
    "_isFastLaunch": false,
    "category": "General purpose",
    "gpuNum": 0,
    "hideHardwareSpecs": false,
    "memoryGiB": 256,
    "name": "ml.m5.16xlarge",
    "vcpuNum": 64
   },
   {
    "_defaultOrder": 11,
    "_isFastLaunch": false,
    "category": "General purpose",
    "gpuNum": 0,
    "hideHardwareSpecs": false,
    "memoryGiB": 384,
    "name": "ml.m5.24xlarge",
    "vcpuNum": 96
   },
   {
    "_defaultOrder": 12,
    "_isFastLaunch": false,
    "category": "General purpose",
    "gpuNum": 0,
    "hideHardwareSpecs": false,
    "memoryGiB": 8,
    "name": "ml.m5d.large",
    "vcpuNum": 2
   },
   {
    "_defaultOrder": 13,
    "_isFastLaunch": false,
    "category": "General purpose",
    "gpuNum": 0,
    "hideHardwareSpecs": false,
    "memoryGiB": 16,
    "name": "ml.m5d.xlarge",
    "vcpuNum": 4
   },
   {
    "_defaultOrder": 14,
    "_isFastLaunch": false,
    "category": "General purpose",
    "gpuNum": 0,
    "hideHardwareSpecs": false,
    "memoryGiB": 32,
    "name": "ml.m5d.2xlarge",
    "vcpuNum": 8
   },
   {
    "_defaultOrder": 15,
    "_isFastLaunch": false,
    "category": "General purpose",
    "gpuNum": 0,
    "hideHardwareSpecs": false,
    "memoryGiB": 64,
    "name": "ml.m5d.4xlarge",
    "vcpuNum": 16
   },
   {
    "_defaultOrder": 16,
    "_isFastLaunch": false,
    "category": "General purpose",
    "gpuNum": 0,
    "hideHardwareSpecs": false,
    "memoryGiB": 128,
    "name": "ml.m5d.8xlarge",
    "vcpuNum": 32
   },
   {
    "_defaultOrder": 17,
    "_isFastLaunch": false,
    "category": "General purpose",
    "gpuNum": 0,
    "hideHardwareSpecs": false,
    "memoryGiB": 192,
    "name": "ml.m5d.12xlarge",
    "vcpuNum": 48
   },
   {
    "_defaultOrder": 18,
    "_isFastLaunch": false,
    "category": "General purpose",
    "gpuNum": 0,
    "hideHardwareSpecs": false,
    "memoryGiB": 256,
    "name": "ml.m5d.16xlarge",
    "vcpuNum": 64
   },
   {
    "_defaultOrder": 19,
    "_isFastLaunch": false,
    "category": "General purpose",
    "gpuNum": 0,
    "hideHardwareSpecs": false,
    "memoryGiB": 384,
    "name": "ml.m5d.24xlarge",
    "vcpuNum": 96
   },
   {
    "_defaultOrder": 20,
    "_isFastLaunch": false,
    "category": "General purpose",
    "gpuNum": 0,
    "hideHardwareSpecs": true,
    "memoryGiB": 0,
    "name": "ml.geospatial.interactive",
    "supportedImageNames": [
     "sagemaker-geospatial-v1-0"
    ],
    "vcpuNum": 0
   },
   {
    "_defaultOrder": 21,
    "_isFastLaunch": true,
    "category": "Compute optimized",
    "gpuNum": 0,
    "hideHardwareSpecs": false,
    "memoryGiB": 4,
    "name": "ml.c5.large",
    "vcpuNum": 2
   },
   {
    "_defaultOrder": 22,
    "_isFastLaunch": false,
    "category": "Compute optimized",
    "gpuNum": 0,
    "hideHardwareSpecs": false,
    "memoryGiB": 8,
    "name": "ml.c5.xlarge",
    "vcpuNum": 4
   },
   {
    "_defaultOrder": 23,
    "_isFastLaunch": false,
    "category": "Compute optimized",
    "gpuNum": 0,
    "hideHardwareSpecs": false,
    "memoryGiB": 16,
    "name": "ml.c5.2xlarge",
    "vcpuNum": 8
   },
   {
    "_defaultOrder": 24,
    "_isFastLaunch": false,
    "category": "Compute optimized",
    "gpuNum": 0,
    "hideHardwareSpecs": false,
    "memoryGiB": 32,
    "name": "ml.c5.4xlarge",
    "vcpuNum": 16
   },
   {
    "_defaultOrder": 25,
    "_isFastLaunch": false,
    "category": "Compute optimized",
    "gpuNum": 0,
    "hideHardwareSpecs": false,
    "memoryGiB": 72,
    "name": "ml.c5.9xlarge",
    "vcpuNum": 36
   },
   {
    "_defaultOrder": 26,
    "_isFastLaunch": false,
    "category": "Compute optimized",
    "gpuNum": 0,
    "hideHardwareSpecs": false,
    "memoryGiB": 96,
    "name": "ml.c5.12xlarge",
    "vcpuNum": 48
   },
   {
    "_defaultOrder": 27,
    "_isFastLaunch": false,
    "category": "Compute optimized",
    "gpuNum": 0,
    "hideHardwareSpecs": false,
    "memoryGiB": 144,
    "name": "ml.c5.18xlarge",
    "vcpuNum": 72
   },
   {
    "_defaultOrder": 28,
    "_isFastLaunch": false,
    "category": "Compute optimized",
    "gpuNum": 0,
    "hideHardwareSpecs": false,
    "memoryGiB": 192,
    "name": "ml.c5.24xlarge",
    "vcpuNum": 96
   },
   {
    "_defaultOrder": 29,
    "_isFastLaunch": true,
    "category": "Accelerated computing",
    "gpuNum": 1,
    "hideHardwareSpecs": false,
    "memoryGiB": 16,
    "name": "ml.g4dn.xlarge",
    "vcpuNum": 4
   },
   {
    "_defaultOrder": 30,
    "_isFastLaunch": false,
    "category": "Accelerated computing",
    "gpuNum": 1,
    "hideHardwareSpecs": false,
    "memoryGiB": 32,
    "name": "ml.g4dn.2xlarge",
    "vcpuNum": 8
   },
   {
    "_defaultOrder": 31,
    "_isFastLaunch": false,
    "category": "Accelerated computing",
    "gpuNum": 1,
    "hideHardwareSpecs": false,
    "memoryGiB": 64,
    "name": "ml.g4dn.4xlarge",
    "vcpuNum": 16
   },
   {
    "_defaultOrder": 32,
    "_isFastLaunch": false,
    "category": "Accelerated computing",
    "gpuNum": 1,
    "hideHardwareSpecs": false,
    "memoryGiB": 128,
    "name": "ml.g4dn.8xlarge",
    "vcpuNum": 32
   },
   {
    "_defaultOrder": 33,
    "_isFastLaunch": false,
    "category": "Accelerated computing",
    "gpuNum": 4,
    "hideHardwareSpecs": false,
    "memoryGiB": 192,
    "name": "ml.g4dn.12xlarge",
    "vcpuNum": 48
   },
   {
    "_defaultOrder": 34,
    "_isFastLaunch": false,
    "category": "Accelerated computing",
    "gpuNum": 1,
    "hideHardwareSpecs": false,
    "memoryGiB": 256,
    "name": "ml.g4dn.16xlarge",
    "vcpuNum": 64
   },
   {
    "_defaultOrder": 35,
    "_isFastLaunch": false,
    "category": "Accelerated computing",
    "gpuNum": 1,
    "hideHardwareSpecs": false,
    "memoryGiB": 61,
    "name": "ml.p3.2xlarge",
    "vcpuNum": 8
   },
   {
    "_defaultOrder": 36,
    "_isFastLaunch": false,
    "category": "Accelerated computing",
    "gpuNum": 4,
    "hideHardwareSpecs": false,
    "memoryGiB": 244,
    "name": "ml.p3.8xlarge",
    "vcpuNum": 32
   },
   {
    "_defaultOrder": 37,
    "_isFastLaunch": false,
    "category": "Accelerated computing",
    "gpuNum": 8,
    "hideHardwareSpecs": false,
    "memoryGiB": 488,
    "name": "ml.p3.16xlarge",
    "vcpuNum": 64
   },
   {
    "_defaultOrder": 38,
    "_isFastLaunch": false,
    "category": "Accelerated computing",
    "gpuNum": 8,
    "hideHardwareSpecs": false,
    "memoryGiB": 768,
    "name": "ml.p3dn.24xlarge",
    "vcpuNum": 96
   },
   {
    "_defaultOrder": 39,
    "_isFastLaunch": false,
    "category": "Memory Optimized",
    "gpuNum": 0,
    "hideHardwareSpecs": false,
    "memoryGiB": 16,
    "name": "ml.r5.large",
    "vcpuNum": 2
   },
   {
    "_defaultOrder": 40,
    "_isFastLaunch": false,
    "category": "Memory Optimized",
    "gpuNum": 0,
    "hideHardwareSpecs": false,
    "memoryGiB": 32,
    "name": "ml.r5.xlarge",
    "vcpuNum": 4
   },
   {
    "_defaultOrder": 41,
    "_isFastLaunch": false,
    "category": "Memory Optimized",
    "gpuNum": 0,
    "hideHardwareSpecs": false,
    "memoryGiB": 64,
    "name": "ml.r5.2xlarge",
    "vcpuNum": 8
   },
   {
    "_defaultOrder": 42,
    "_isFastLaunch": false,
    "category": "Memory Optimized",
    "gpuNum": 0,
    "hideHardwareSpecs": false,
    "memoryGiB": 128,
    "name": "ml.r5.4xlarge",
    "vcpuNum": 16
   },
   {
    "_defaultOrder": 43,
    "_isFastLaunch": false,
    "category": "Memory Optimized",
    "gpuNum": 0,
    "hideHardwareSpecs": false,
    "memoryGiB": 256,
    "name": "ml.r5.8xlarge",
    "vcpuNum": 32
   },
   {
    "_defaultOrder": 44,
    "_isFastLaunch": false,
    "category": "Memory Optimized",
    "gpuNum": 0,
    "hideHardwareSpecs": false,
    "memoryGiB": 384,
    "name": "ml.r5.12xlarge",
    "vcpuNum": 48
   },
   {
    "_defaultOrder": 45,
    "_isFastLaunch": false,
    "category": "Memory Optimized",
    "gpuNum": 0,
    "hideHardwareSpecs": false,
    "memoryGiB": 512,
    "name": "ml.r5.16xlarge",
    "vcpuNum": 64
   },
   {
    "_defaultOrder": 46,
    "_isFastLaunch": false,
    "category": "Memory Optimized",
    "gpuNum": 0,
    "hideHardwareSpecs": false,
    "memoryGiB": 768,
    "name": "ml.r5.24xlarge",
    "vcpuNum": 96
   },
   {
    "_defaultOrder": 47,
    "_isFastLaunch": false,
    "category": "Accelerated computing",
    "gpuNum": 1,
    "hideHardwareSpecs": false,
    "memoryGiB": 16,
    "name": "ml.g5.xlarge",
    "vcpuNum": 4
   },
   {
    "_defaultOrder": 48,
    "_isFastLaunch": false,
    "category": "Accelerated computing",
    "gpuNum": 1,
    "hideHardwareSpecs": false,
    "memoryGiB": 32,
    "name": "ml.g5.2xlarge",
    "vcpuNum": 8
   },
   {
    "_defaultOrder": 49,
    "_isFastLaunch": false,
    "category": "Accelerated computing",
    "gpuNum": 1,
    "hideHardwareSpecs": false,
    "memoryGiB": 64,
    "name": "ml.g5.4xlarge",
    "vcpuNum": 16
   },
   {
    "_defaultOrder": 50,
    "_isFastLaunch": false,
    "category": "Accelerated computing",
    "gpuNum": 1,
    "hideHardwareSpecs": false,
    "memoryGiB": 128,
    "name": "ml.g5.8xlarge",
    "vcpuNum": 32
   },
   {
    "_defaultOrder": 51,
    "_isFastLaunch": false,
    "category": "Accelerated computing",
    "gpuNum": 1,
    "hideHardwareSpecs": false,
    "memoryGiB": 256,
    "name": "ml.g5.16xlarge",
    "vcpuNum": 64
   },
   {
    "_defaultOrder": 52,
    "_isFastLaunch": false,
    "category": "Accelerated computing",
    "gpuNum": 4,
    "hideHardwareSpecs": false,
    "memoryGiB": 192,
    "name": "ml.g5.12xlarge",
    "vcpuNum": 48
   },
   {
    "_defaultOrder": 53,
    "_isFastLaunch": false,
    "category": "Accelerated computing",
    "gpuNum": 4,
    "hideHardwareSpecs": false,
    "memoryGiB": 384,
    "name": "ml.g5.24xlarge",
    "vcpuNum": 96
   },
   {
    "_defaultOrder": 54,
    "_isFastLaunch": false,
    "category": "Accelerated computing",
    "gpuNum": 8,
    "hideHardwareSpecs": false,
    "memoryGiB": 768,
    "name": "ml.g5.48xlarge",
    "vcpuNum": 192
   },
   {
    "_defaultOrder": 55,
    "_isFastLaunch": false,
    "category": "Accelerated computing",
    "gpuNum": 8,
    "hideHardwareSpecs": false,
    "memoryGiB": 1152,
    "name": "ml.p4d.24xlarge",
    "vcpuNum": 96
   },
   {
    "_defaultOrder": 56,
    "_isFastLaunch": false,
    "category": "Accelerated computing",
    "gpuNum": 8,
    "hideHardwareSpecs": false,
    "memoryGiB": 1152,
    "name": "ml.p4de.24xlarge",
    "vcpuNum": 96
   },
   {
    "_defaultOrder": 57,
    "_isFastLaunch": false,
    "category": "Accelerated computing",
    "gpuNum": 0,
    "hideHardwareSpecs": false,
    "memoryGiB": 32,
    "name": "ml.trn1.2xlarge",
    "vcpuNum": 8
   },
   {
    "_defaultOrder": 58,
    "_isFastLaunch": false,
    "category": "Accelerated computing",
    "gpuNum": 0,
    "hideHardwareSpecs": false,
    "memoryGiB": 512,
    "name": "ml.trn1.32xlarge",
    "vcpuNum": 128
   },
   {
    "_defaultOrder": 59,
    "_isFastLaunch": false,
    "category": "Accelerated computing",
    "gpuNum": 0,
    "hideHardwareSpecs": false,
    "memoryGiB": 512,
    "name": "ml.trn1n.32xlarge",
    "vcpuNum": 128
   }
  ],
  "instance_type": "ml.m5.large",
  "kernelspec": {
   "display_name": "conda_tensorflow2_p310",
   "language": "python",
   "name": "conda_tensorflow2_p310"
  },
  "language_info": {
   "codemirror_mode": {
    "name": "ipython",
    "version": 3
   },
   "file_extension": ".py",
   "mimetype": "text/x-python",
   "name": "python",
   "nbconvert_exporter": "python",
   "pygments_lexer": "ipython3",
   "version": "3.10.13"
  }
 },
 "nbformat": 4,
 "nbformat_minor": 5
}
