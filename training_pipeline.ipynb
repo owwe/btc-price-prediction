{
 "cells": [
  {
   "cell_type": "code",
   "execution_count": 1,
   "id": "6a0ea36a-6d13-4ade-9580-d16ac7a58fcb",
   "metadata": {
    "tags": []
   },
   "outputs": [],
   "source": [
    "q= '''\n",
    "SELECT *\n",
    "FROM\n",
    "    (SELECT *,\n",
    "    row_number()\n",
    "    OVER\n",
    "        (PARTITION BY \"open_time\"\n",
    "        ORDER BY \"close_time\" DESC, Api_Invocation_Time DESC, write_time DESC)\n",
    "    AS row_number\n",
    "    FROM \"sagemaker_featurestore\".\"btcpricedata_1704246894\")\n",
    "WHERE row_number = 1 ORDER BY close_time ASC;\n",
    "'''"
   ]
  },
  {
   "cell_type": "code",
   "execution_count": 2,
   "id": "543b4a42-4e9b-4117-9868-3f87cad2956a",
   "metadata": {
    "tags": []
   },
   "outputs": [
    {
     "name": "stdout",
     "output_type": "stream",
     "text": [
      "sagemaker.config INFO - Not applying SDK defaults from location: /etc/xdg/sagemaker/config.yaml\n",
      "sagemaker.config INFO - Not applying SDK defaults from location: /home/ec2-user/.config/sagemaker/config.yaml\n"
     ]
    }
   ],
   "source": [
    "from sagemaker.feature_store.feature_group import FeatureGroup\n",
    "import boto3\n",
    "import pandas as pd\n",
    "import numpy as np\n",
    "import io\n",
    "from sagemaker.session import Session\n",
    "from sagemaker import get_execution_role\n",
    "sagemaker_session = Session()\n",
    "\n",
    "feature_group = FeatureGroup(name = 'BtcPriceData')\n",
    "\n",
    "query = feature_group.athena_query()\n",
    "\n",
    "table = query.table_name\n",
    "table\n",
    "default_s3_bucket_name = 'binance-btc-prices'"
   ]
  },
  {
   "cell_type": "code",
   "execution_count": 3,
   "id": "7255ac38-2507-446c-b7b8-0a2fecdcfdd6",
   "metadata": {
    "tags": []
   },
   "outputs": [],
   "source": [
    "\n",
    "# run Athena query. The output is loaded to a Pandas dataframe.\n",
    "dataset = pd.DataFrame()\n",
    "query.run(query_string=q, output_location='s3://'+default_s3_bucket_name+'/query_results/')\n",
    "query.wait()\n",
    "dataset = query.as_dataframe()"
   ]
  },
  {
   "cell_type": "code",
   "execution_count": 4,
   "id": "bd29206c-e4c7-4464-bdc0-a473babe6fdb",
   "metadata": {
    "tags": []
   },
   "outputs": [
    {
     "data": {
      "text/html": [
       "<div>\n",
       "<style scoped>\n",
       "    .dataframe tbody tr th:only-of-type {\n",
       "        vertical-align: middle;\n",
       "    }\n",
       "\n",
       "    .dataframe tbody tr th {\n",
       "        vertical-align: top;\n",
       "    }\n",
       "\n",
       "    .dataframe thead th {\n",
       "        text-align: right;\n",
       "    }\n",
       "</style>\n",
       "<table border=\"1\" class=\"dataframe\">\n",
       "  <thead>\n",
       "    <tr style=\"text-align: right;\">\n",
       "      <th></th>\n",
       "      <th>open_time</th>\n",
       "      <th>high_price</th>\n",
       "      <th>low_price</th>\n",
       "      <th>close_price</th>\n",
       "      <th>volume</th>\n",
       "      <th>close_time</th>\n",
       "      <th>quote_asset_volume</th>\n",
       "      <th>number_of_trades</th>\n",
       "      <th>taker_buy_base_asset_volume</th>\n",
       "      <th>open_price</th>\n",
       "      <th>write_time</th>\n",
       "      <th>api_invocation_time</th>\n",
       "      <th>is_deleted</th>\n",
       "      <th>row_number</th>\n",
       "    </tr>\n",
       "  </thead>\n",
       "  <tbody>\n",
       "    <tr>\n",
       "      <th>0</th>\n",
       "      <td>2019-09-09 00:00:00</td>\n",
       "      <td>10392.41</td>\n",
       "      <td>10376.45</td>\n",
       "      <td>10390.08</td>\n",
       "      <td>27.884150</td>\n",
       "      <td>1.567987e+09</td>\n",
       "      <td>2.896169e+05</td>\n",
       "      <td>626.0</td>\n",
       "      <td>12.492958</td>\n",
       "      <td>10381.24</td>\n",
       "      <td>2024-01-08 18:11:09.934</td>\n",
       "      <td>2024-01-08 18:05:58.000</td>\n",
       "      <td>False</td>\n",
       "      <td>1</td>\n",
       "    </tr>\n",
       "    <tr>\n",
       "      <th>1</th>\n",
       "      <td>2019-09-09 00:05:00</td>\n",
       "      <td>10393.94</td>\n",
       "      <td>10368.87</td>\n",
       "      <td>10372.31</td>\n",
       "      <td>36.750216</td>\n",
       "      <td>1.567988e+09</td>\n",
       "      <td>3.814708e+05</td>\n",
       "      <td>614.0</td>\n",
       "      <td>22.195335</td>\n",
       "      <td>10390.74</td>\n",
       "      <td>2024-01-08 18:11:07.429</td>\n",
       "      <td>2024-01-08 18:05:58.000</td>\n",
       "      <td>False</td>\n",
       "      <td>1</td>\n",
       "    </tr>\n",
       "    <tr>\n",
       "      <th>2</th>\n",
       "      <td>2019-09-09 00:10:00</td>\n",
       "      <td>10386.24</td>\n",
       "      <td>10368.88</td>\n",
       "      <td>10374.20</td>\n",
       "      <td>38.888045</td>\n",
       "      <td>1.567988e+09</td>\n",
       "      <td>4.035607e+05</td>\n",
       "      <td>640.0</td>\n",
       "      <td>19.145836</td>\n",
       "      <td>10372.31</td>\n",
       "      <td>2024-01-08 18:11:30.173</td>\n",
       "      <td>2024-01-08 18:05:58.000</td>\n",
       "      <td>False</td>\n",
       "      <td>1</td>\n",
       "    </tr>\n",
       "    <tr>\n",
       "      <th>3</th>\n",
       "      <td>2019-09-09 00:15:00</td>\n",
       "      <td>10387.83</td>\n",
       "      <td>10368.89</td>\n",
       "      <td>10384.89</td>\n",
       "      <td>24.997683</td>\n",
       "      <td>1.567988e+09</td>\n",
       "      <td>2.593937e+05</td>\n",
       "      <td>712.0</td>\n",
       "      <td>11.799247</td>\n",
       "      <td>10374.18</td>\n",
       "      <td>2024-01-08 18:11:10.880</td>\n",
       "      <td>2024-01-08 18:05:58.000</td>\n",
       "      <td>False</td>\n",
       "      <td>1</td>\n",
       "    </tr>\n",
       "    <tr>\n",
       "      <th>4</th>\n",
       "      <td>2019-09-09 00:20:00</td>\n",
       "      <td>10396.00</td>\n",
       "      <td>10382.40</td>\n",
       "      <td>10394.20</td>\n",
       "      <td>18.551736</td>\n",
       "      <td>1.567989e+09</td>\n",
       "      <td>1.927592e+05</td>\n",
       "      <td>571.0</td>\n",
       "      <td>9.729698</td>\n",
       "      <td>10386.25</td>\n",
       "      <td>2024-01-08 18:11:06.932</td>\n",
       "      <td>2024-01-08 18:05:58.000</td>\n",
       "      <td>False</td>\n",
       "      <td>1</td>\n",
       "    </tr>\n",
       "    <tr>\n",
       "      <th>...</th>\n",
       "      <td>...</td>\n",
       "      <td>...</td>\n",
       "      <td>...</td>\n",
       "      <td>...</td>\n",
       "      <td>...</td>\n",
       "      <td>...</td>\n",
       "      <td>...</td>\n",
       "      <td>...</td>\n",
       "      <td>...</td>\n",
       "      <td>...</td>\n",
       "      <td>...</td>\n",
       "      <td>...</td>\n",
       "      <td>...</td>\n",
       "      <td>...</td>\n",
       "    </tr>\n",
       "    <tr>\n",
       "      <th>455099</th>\n",
       "      <td>2024-01-09 00:05:00</td>\n",
       "      <td>47080.23</td>\n",
       "      <td>47009.15</td>\n",
       "      <td>47031.18</td>\n",
       "      <td>154.558620</td>\n",
       "      <td>1.704759e+09</td>\n",
       "      <td>7.271087e+06</td>\n",
       "      <td>5979.0</td>\n",
       "      <td>91.207280</td>\n",
       "      <td>47039.99</td>\n",
       "      <td>2024-01-09 00:31:13.144</td>\n",
       "      <td>2024-01-09 00:26:16.000</td>\n",
       "      <td>False</td>\n",
       "      <td>1</td>\n",
       "    </tr>\n",
       "    <tr>\n",
       "      <th>455100</th>\n",
       "      <td>2024-01-09 00:10:00</td>\n",
       "      <td>47100.00</td>\n",
       "      <td>47012.39</td>\n",
       "      <td>47099.99</td>\n",
       "      <td>156.090540</td>\n",
       "      <td>1.704759e+09</td>\n",
       "      <td>7.345640e+06</td>\n",
       "      <td>6167.0</td>\n",
       "      <td>81.751510</td>\n",
       "      <td>47031.17</td>\n",
       "      <td>2024-01-09 00:31:08.899</td>\n",
       "      <td>2024-01-09 00:26:16.000</td>\n",
       "      <td>False</td>\n",
       "      <td>1</td>\n",
       "    </tr>\n",
       "    <tr>\n",
       "      <th>455101</th>\n",
       "      <td>2024-01-09 00:15:00</td>\n",
       "      <td>47150.00</td>\n",
       "      <td>47028.68</td>\n",
       "      <td>47060.00</td>\n",
       "      <td>322.398390</td>\n",
       "      <td>1.704760e+09</td>\n",
       "      <td>1.518189e+07</td>\n",
       "      <td>9130.0</td>\n",
       "      <td>153.485620</td>\n",
       "      <td>47099.99</td>\n",
       "      <td>2024-01-09 00:31:11.863</td>\n",
       "      <td>2024-01-09 00:26:15.000</td>\n",
       "      <td>False</td>\n",
       "      <td>1</td>\n",
       "    </tr>\n",
       "    <tr>\n",
       "      <th>455102</th>\n",
       "      <td>2024-01-09 00:20:00</td>\n",
       "      <td>47074.79</td>\n",
       "      <td>46923.32</td>\n",
       "      <td>46944.00</td>\n",
       "      <td>345.134360</td>\n",
       "      <td>1.704760e+09</td>\n",
       "      <td>1.621257e+07</td>\n",
       "      <td>7590.0</td>\n",
       "      <td>94.619050</td>\n",
       "      <td>47060.00</td>\n",
       "      <td>2024-01-09 00:31:13.144</td>\n",
       "      <td>2024-01-09 00:26:16.000</td>\n",
       "      <td>False</td>\n",
       "      <td>1</td>\n",
       "    </tr>\n",
       "    <tr>\n",
       "      <th>455103</th>\n",
       "      <td>2024-01-09 00:25:00</td>\n",
       "      <td>46944.00</td>\n",
       "      <td>46900.00</td>\n",
       "      <td>46920.91</td>\n",
       "      <td>90.938840</td>\n",
       "      <td>1.704760e+09</td>\n",
       "      <td>4.267180e+06</td>\n",
       "      <td>2222.0</td>\n",
       "      <td>22.396420</td>\n",
       "      <td>46944.00</td>\n",
       "      <td>2024-01-09 00:31:11.541</td>\n",
       "      <td>2024-01-09 00:26:16.000</td>\n",
       "      <td>False</td>\n",
       "      <td>1</td>\n",
       "    </tr>\n",
       "  </tbody>\n",
       "</table>\n",
       "<p>455104 rows × 14 columns</p>\n",
       "</div>"
      ],
      "text/plain": [
       "                  open_time  high_price  low_price  close_price      volume  \\\n",
       "0       2019-09-09 00:00:00    10392.41   10376.45     10390.08   27.884150   \n",
       "1       2019-09-09 00:05:00    10393.94   10368.87     10372.31   36.750216   \n",
       "2       2019-09-09 00:10:00    10386.24   10368.88     10374.20   38.888045   \n",
       "3       2019-09-09 00:15:00    10387.83   10368.89     10384.89   24.997683   \n",
       "4       2019-09-09 00:20:00    10396.00   10382.40     10394.20   18.551736   \n",
       "...                     ...         ...        ...          ...         ...   \n",
       "455099  2024-01-09 00:05:00    47080.23   47009.15     47031.18  154.558620   \n",
       "455100  2024-01-09 00:10:00    47100.00   47012.39     47099.99  156.090540   \n",
       "455101  2024-01-09 00:15:00    47150.00   47028.68     47060.00  322.398390   \n",
       "455102  2024-01-09 00:20:00    47074.79   46923.32     46944.00  345.134360   \n",
       "455103  2024-01-09 00:25:00    46944.00   46900.00     46920.91   90.938840   \n",
       "\n",
       "          close_time  quote_asset_volume  number_of_trades  \\\n",
       "0       1.567987e+09        2.896169e+05             626.0   \n",
       "1       1.567988e+09        3.814708e+05             614.0   \n",
       "2       1.567988e+09        4.035607e+05             640.0   \n",
       "3       1.567988e+09        2.593937e+05             712.0   \n",
       "4       1.567989e+09        1.927592e+05             571.0   \n",
       "...              ...                 ...               ...   \n",
       "455099  1.704759e+09        7.271087e+06            5979.0   \n",
       "455100  1.704759e+09        7.345640e+06            6167.0   \n",
       "455101  1.704760e+09        1.518189e+07            9130.0   \n",
       "455102  1.704760e+09        1.621257e+07            7590.0   \n",
       "455103  1.704760e+09        4.267180e+06            2222.0   \n",
       "\n",
       "        taker_buy_base_asset_volume  open_price               write_time  \\\n",
       "0                         12.492958    10381.24  2024-01-08 18:11:09.934   \n",
       "1                         22.195335    10390.74  2024-01-08 18:11:07.429   \n",
       "2                         19.145836    10372.31  2024-01-08 18:11:30.173   \n",
       "3                         11.799247    10374.18  2024-01-08 18:11:10.880   \n",
       "4                          9.729698    10386.25  2024-01-08 18:11:06.932   \n",
       "...                             ...         ...                      ...   \n",
       "455099                    91.207280    47039.99  2024-01-09 00:31:13.144   \n",
       "455100                    81.751510    47031.17  2024-01-09 00:31:08.899   \n",
       "455101                   153.485620    47099.99  2024-01-09 00:31:11.863   \n",
       "455102                    94.619050    47060.00  2024-01-09 00:31:13.144   \n",
       "455103                    22.396420    46944.00  2024-01-09 00:31:11.541   \n",
       "\n",
       "            api_invocation_time  is_deleted  row_number  \n",
       "0       2024-01-08 18:05:58.000       False           1  \n",
       "1       2024-01-08 18:05:58.000       False           1  \n",
       "2       2024-01-08 18:05:58.000       False           1  \n",
       "3       2024-01-08 18:05:58.000       False           1  \n",
       "4       2024-01-08 18:05:58.000       False           1  \n",
       "...                         ...         ...         ...  \n",
       "455099  2024-01-09 00:26:16.000       False           1  \n",
       "455100  2024-01-09 00:26:16.000       False           1  \n",
       "455101  2024-01-09 00:26:15.000       False           1  \n",
       "455102  2024-01-09 00:26:16.000       False           1  \n",
       "455103  2024-01-09 00:26:16.000       False           1  \n",
       "\n",
       "[455104 rows x 14 columns]"
      ]
     },
     "execution_count": 4,
     "metadata": {},
     "output_type": "execute_result"
    }
   ],
   "source": [
    "dataset['open_time'] = pd.to_datetime(dataset['open_time'], unit='ms').dt.strftime('%Y-%m-%d %T')\n",
    "dataset"
   ]
  },
  {
   "cell_type": "code",
   "execution_count": 5,
   "id": "95cb3795-bc81-435c-8c94-d1ef309ca2ba",
   "metadata": {
    "tags": []
   },
   "outputs": [],
   "source": [
    "#dataset.to_csv('btc_prices.csv')"
   ]
  },
  {
   "cell_type": "code",
   "execution_count": 6,
   "id": "eea560f2-8de0-47bd-95c7-f7bcc1e9fe5d",
   "metadata": {
    "tags": []
   },
   "outputs": [],
   "source": [
    "# univariate data preparation\n",
    "from numpy import array\n",
    "# split a univariate sequence into samples\n",
    "def split_sequence(sequence, n_steps):\n",
    "    X, y = list(), list()\n",
    "    for i in range(len(sequence)):\n",
    "        # find the end of this pattern\n",
    "        end_ix = i + n_steps\n",
    "        # check if we are beyond the sequence\n",
    "        if end_ix > len(sequence)-1:\n",
    "            break\n",
    "        # gather input and output parts of the pattern\n",
    "        seq_x, seq_y = sequence[i:end_ix], sequence[end_ix]\n",
    "        X.append(seq_x)\n",
    "        y.append(seq_y)\n",
    "    return array(X), array(y)"
   ]
  },
  {
   "cell_type": "code",
   "execution_count": 7,
   "id": "882e16e1-db0f-4195-8e63-c235c63b97ae",
   "metadata": {
    "tags": []
   },
   "outputs": [],
   "source": [
    "X,y  = split_sequence(sequence = dataset.close_price, n_steps = 10)"
   ]
  },
  {
   "cell_type": "code",
   "execution_count": 8,
   "id": "be3afb49-ce2b-44e3-b47d-1834a1440926",
   "metadata": {
    "tags": []
   },
   "outputs": [],
   "source": [
    "n_steps = 10"
   ]
  },
  {
   "cell_type": "code",
   "execution_count": 9,
   "id": "61b06868-f1f7-4ffd-bc24-97e7e5f7a6f9",
   "metadata": {
    "tags": []
   },
   "outputs": [],
   "source": [
    "# define model\n",
    "from numpy import array\n",
    "from keras.models import Sequential\n",
    "from keras.layers import Dense"
   ]
  },
  {
   "cell_type": "code",
   "execution_count": 10,
   "id": "7e339617-172d-458d-b76d-42ea7123708c",
   "metadata": {
    "tags": []
   },
   "outputs": [],
   "source": [
    "train_index =  round(y.shape[0] * 0.70)\n",
    "val_index   =  round(y.shape[0] * 0.85)"
   ]
  },
  {
   "cell_type": "code",
   "execution_count": 11,
   "id": "20ca5778-b2b1-4074-89bd-8bc158db2310",
   "metadata": {
    "tags": []
   },
   "outputs": [],
   "source": [
    "X_train = X[:train_index]\n",
    "y_train = y[:train_index]\n",
    "X_val = X[train_index  : val_index]\n",
    "y_val = y[train_index  : val_index]\n",
    "X_test = X[val_index:]\n",
    "y_test = y[val_index:]"
   ]
  },
  {
   "cell_type": "code",
   "execution_count": 12,
   "id": "d03b0473-c594-41bc-b729-76f01d64f5b5",
   "metadata": {
    "tags": []
   },
   "outputs": [
    {
     "data": {
      "text/plain": [
       "[<matplotlib.lines.Line2D at 0x7fa0aa24d4e0>]"
      ]
     },
     "execution_count": 12,
     "metadata": {},
     "output_type": "execute_result"
    },
    {
     "data": {
      "image/png": "[encoded data removed]",
      "text/plain": [
       "<Figure size 640x480 with 1 Axes>"
      ]
     },
     "metadata": {},
     "output_type": "display_data"
    }
   ],
   "source": [
    "from matplotlib import pyplot as plt\n",
    "plt.plot(np.arange(len(y_train)),y_train)\n",
    "plt.plot( len(y_train) + np.arange(len(y_val)),y_val)\n",
    "plt.plot(len(y_train)  + len(y_val) + np.arange(len(y_test)),y_test)"
   ]
  },
  {
   "cell_type": "code",
   "execution_count": 13,
   "id": "f7678fae-aac0-41b5-9079-bcd2f6ccd407",
   "metadata": {
    "tags": []
   },
   "outputs": [],
   "source": [
    "from keras.layers import LSTM\n",
    "from keras.layers import Dense, Dropout\n",
    "n_steps = 10\n",
    "n_features = 1\n",
    "# reshape from [samples, timesteps] into [samples, timesteps, features]\n",
    "X = X.reshape((X.shape[0], X.shape[1], n_features))\n",
    "# define model\n",
    "model = Sequential()\n",
    "model.add(LSTM(128, activation='tanh', return_sequences = True ,input_shape=(n_steps, n_features))) \n",
    "model.add(LSTM(128, activation='tanh'))\n",
    "model.add(Dropout(0.15))\n",
    "model.add(Dense(64,activation = \"relu\"))\n",
    "model.add(Dropout(0.1))\n",
    "model.add(Dense(32,activation = \"relu\"))\n",
    "model.add(Dropout(0.05))\n",
    "model.add(Dense(16,activation = \"relu\"))\n",
    "model.add(Dense(1))\n",
    "model.compile(optimizer='adam' ,loss='mse', metrics = ['mae'])\n",
    "# fit model"
   ]
  },
  {
   "cell_type": "code",
   "execution_count": 14,
   "id": "71944a3a-7a90-4d55-a5be-9b07e85489b2",
   "metadata": {
    "scrolled": true,
    "tags": []
   },
   "outputs": [
    {
     "name": "stdout",
     "output_type": "stream",
     "text": [
      "9956/9956 [==============================] - 62s 6ms/step - loss: 340273472.0000 - mae: 16356.1250 - val_loss: 54143740.0000 - val_mae: 6246.3638\n"
     ]
    }
   ],
   "source": [
    "hist = model.fit(X_train, y_train, validation_data = (X_val,y_val) , epochs=1, verbose=1)\n",
    "# demonstrate prediction"
   ]
  },
  {
   "cell_type": "code",
   "execution_count": 15,
   "id": "c654b259-9e5e-48b0-87db-a4379dfc11f4",
   "metadata": {
    "tags": []
   },
   "outputs": [
    {
     "data": {
      "text/plain": [
       "{'loss': [340273472.0],\n",
       " 'mae': [16356.125],\n",
       " 'val_loss': [54143740.0],\n",
       " 'val_mae': [6246.36376953125]}"
      ]
     },
     "execution_count": 15,
     "metadata": {},
     "output_type": "execute_result"
    }
   ],
   "source": [
    "hist.history"
   ]
  },
  {
   "cell_type": "code",
   "execution_count": 23,
   "id": "84fc6ab0-a11e-44a6-90da-584e8c1c5f01",
   "metadata": {
    "tags": []
   },
   "outputs": [
    {
     "name": "stdout",
     "output_type": "stream",
     "text": [
      "2134/2134 [==============================] - 5s 2ms/step\n"
     ]
    },
    {
     "data": {
      "text/plain": [
       "array([[27794.287],\n",
       "       [27794.287],\n",
       "       [27794.287],\n",
       "       ...,\n",
       "       [27794.285],\n",
       "       [27794.285],\n",
       "       [27794.285]], dtype=float32)"
      ]
     },
     "execution_count": 23,
     "metadata": {},
     "output_type": "execute_result"
    }
   ],
   "source": [
    "model.predict(X_test)"
   ]
  },
  {
   "cell_type": "code",
   "execution_count": 16,
   "id": "2545b2a0-61dc-427c-84da-a191c471c072",
   "metadata": {
    "tags": []
   },
   "outputs": [
    {
     "name": "stdout",
     "output_type": "stream",
     "text": [
      "Connected. Call `.close()` to terminate connection gracefully.\n",
      "\n",
      "Multiple projects found. \n",
      "\n",
      "\t (1) project0\n",
      "\t (2) DD2223_lab1\n"
     ]
    },
    {
     "name": "stdin",
     "output_type": "stream",
     "text": [
      "\n",
      "Enter project to access:  2\n"
     ]
    },
    {
     "name": "stdout",
     "output_type": "stream",
     "text": [
      "\n",
      "Logged in to project, explore it here https://c.app.hopsworks.ai:443/p/206996\n"
     ]
    }
   ],
   "source": [
    "# You have to set the environment variable 'HOPSWORKS_API_KEY' for login to succeed\n",
    "import hopsworks\n",
    "project = hopsworks.login()"
   ]
  },
  {
   "cell_type": "code",
   "execution_count": 22,
   "id": "f93eed50-0f95-43f3-9ac9-6ac7664a2d39",
   "metadata": {
    "tags": []
   },
   "outputs": [
    {
     "name": "stdout",
     "output_type": "stream",
     "text": [
      "Connected. Call `.close()` to terminate connection gracefully.\n"
     ]
    },
    {
     "data": {
      "application/vnd.jupyter.widget-view+json": {
       "model_id": "afa7619bdddd4afb939b75a159927aa3",
       "version_major": 2,
       "version_minor": 0
      },
      "text/plain": [
       "  0%|          | 0/6 [00:00<?, ?it/s]"
      ]
     },
     "metadata": {},
     "output_type": "display_data"
    },
    {
     "data": {
      "application/vnd.jupyter.widget-view+json": {
       "model_id": "0f3a23eab0054d3bae3911308b667091",
       "version_major": 2,
       "version_minor": 0
      },
      "text/plain": [
       "Uploading: 0.000%|          | 0/2571984 elapsed<00:00 remaining<?"
      ]
     },
     "metadata": {},
     "output_type": "display_data"
    },
    {
     "data": {
      "application/vnd.jupyter.widget-view+json": {
       "model_id": "1860ca0e04a74543bdf2544434580f59",
       "version_major": 2,
       "version_minor": 0
      },
      "text/plain": [
       "Uploading: 0.000%|          | 0/218 elapsed<00:00 remaining<?"
      ]
     },
     "metadata": {},
     "output_type": "display_data"
    },
    {
     "name": "stdout",
     "output_type": "stream",
     "text": [
      "Model created, explore it at https://c.app.hopsworks.ai:443/p/206996/models/lstmModel/3\n"
     ]
    },
    {
     "data": {
      "text/plain": [
       "Model(name: 'lstmModel', version: 3)"
      ]
     },
     "execution_count": 22,
     "metadata": {},
     "output_type": "execute_result"
    }
   ],
   "source": [
    "from hsml.schema import Schema\n",
    "from hsml.model_schema import ModelSchema\n",
    "import os\n",
    "import joblib\n",
    "# We will now upload our model to the Hopsworks Model Registry. First get an object for the model registry.\n",
    "mr = project.get_model_registry()\n",
    "\n",
    "# The contents of the 'iris_model' directory will be saved to the model registry. Create the dir, first.\n",
    "model_dir=\"btc-predictor-lstm\"\n",
    "if os.path.isdir(model_dir) == False:\n",
    "    os.mkdir(model_dir)\n",
    "\n",
    "# Save both our model and the confusion matrix to 'model_dir', whose contents will be uploaded to the model registry\n",
    "#joblib.dump(model, model_dir + \"/lstm_model.h5\")\n",
    "model.save(model_dir + \"/lstm_model.h5\")\n",
    "# Specify the schema of the model's input/output using the features (X_train) and labels (y_train)\n",
    "input_schema = Schema(X_train)\n",
    "output_schema = Schema(y_train)\n",
    "model_schema = ModelSchema(input_schema, output_schema)\n",
    "\n",
    "# Create an entry in the model registry that includes the model's name, desc, metrics\n",
    "model_lstm = mr.python.create_model(\n",
    "    name=\"lstmModel\", \n",
    "    metrics={\"val_loss\" : hist.history['val_loss'][0],\"val_mae\" : hist.history['val_mae'][0] },\n",
    "    model_schema=model_schema,\n",
    "    description=\"BTC price Predictor\",\n",
    "    version = 3\n",
    "    \n",
    ")\n",
    "\n",
    "# Upload the model to the model registry, including all files in 'model_dir'\n",
    "model_lstm.save(model_dir)"
   ]
  },
  {
   "cell_type": "code",
   "execution_count": null,
   "id": "6f9479c5-cf78-439c-9906-80f9ceb2716e",
   "metadata": {
    "tags": []
   },
   "outputs": [],
   "source": [
    "print(mr.python.create_model.__doc__)"
   ]
  },
  {
   "cell_type": "code",
   "execution_count": null,
   "id": "8759a9f1-43dd-4e50-ab0c-78d962e35431",
   "metadata": {},
   "outputs": [],
   "source": []
  }
 ],
 "metadata": {
  "availableInstances": [
   {
    "_defaultOrder": 0,
    "_isFastLaunch": true,
    "category": "General purpose",
    "gpuNum": 0,
    "hideHardwareSpecs": false,
    "memoryGiB": 4,
    "name": "ml.t3.medium",
    "vcpuNum": 2
   },
   {
    "_defaultOrder": 1,
    "_isFastLaunch": false,
    "category": "General purpose",
    "gpuNum": 0,
    "hideHardwareSpecs": false,
    "memoryGiB": 8,
    "name": "ml.t3.large",
    "vcpuNum": 2
   },
   {
    "_defaultOrder": 2,
    "_isFastLaunch": false,
    "category": "General purpose",
    "gpuNum": 0,
    "hideHardwareSpecs": false,
    "memoryGiB": 16,
    "name": "ml.t3.xlarge",
    "vcpuNum": 4
   },
   {
    "_defaultOrder": 3,
    "_isFastLaunch": false,
    "category": "General purpose",
    "gpuNum": 0,
    "hideHardwareSpecs": false,
    "memoryGiB": 32,
    "name": "ml.t3.2xlarge",
    "vcpuNum": 8
   },
   {
    "_defaultOrder": 4,
    "_isFastLaunch": true,
    "category": "General purpose",
    "gpuNum": 0,
    "hideHardwareSpecs": false,
    "memoryGiB": 8,
    "name": "ml.m5.large",
    "vcpuNum": 2
   },
   {
    "_defaultOrder": 5,
    "_isFastLaunch": false,
    "category": "General purpose",
    "gpuNum": 0,
    "hideHardwareSpecs": false,
    "memoryGiB": 16,
    "name": "ml.m5.xlarge",
    "vcpuNum": 4
   },
   {
    "_defaultOrder": 6,
    "_isFastLaunch": false,
    "category": "General purpose",
    "gpuNum": 0,
    "hideHardwareSpecs": false,
    "memoryGiB": 32,
    "name": "ml.m5.2xlarge",
    "vcpuNum": 8
   },
   {
    "_defaultOrder": 7,
    "_isFastLaunch": false,
    "category": "General purpose",
    "gpuNum": 0,
    "hideHardwareSpecs": false,
    "memoryGiB": 64,
    "name": "ml.m5.4xlarge",
    "vcpuNum": 16
   },
   {
    "_defaultOrder": 8,
    "_isFastLaunch": false,
    "category": "General purpose",
    "gpuNum": 0,
    "hideHardwareSpecs": false,
    "memoryGiB": 128,
    "name": "ml.m5.8xlarge",
    "vcpuNum": 32
   },
   {
    "_defaultOrder": 9,
    "_isFastLaunch": false,
    "category": "General purpose",
    "gpuNum": 0,
    "hideHardwareSpecs": false,
    "memoryGiB": 192,
    "name": "ml.m5.12xlarge",
    "vcpuNum": 48
   },
   {
    "_defaultOrder": 10,
    "_isFastLaunch": false,
    "category": "General purpose",
    "gpuNum": 0,
    "hideHardwareSpecs": false,
    "memoryGiB": 256,
    "name": "ml.m5.16xlarge",
    "vcpuNum": 64
   },
   {
    "_defaultOrder": 11,
    "_isFastLaunch": false,
    "category": "General purpose",
    "gpuNum": 0,
    "hideHardwareSpecs": false,
    "memoryGiB": 384,
    "name": "ml.m5.24xlarge",
    "vcpuNum": 96
   },
   {
    "_defaultOrder": 12,
    "_isFastLaunch": false,
    "category": "General purpose",
    "gpuNum": 0,
    "hideHardwareSpecs": false,
    "memoryGiB": 8,
    "name": "ml.m5d.large",
    "vcpuNum": 2
   },
   {
    "_defaultOrder": 13,
    "_isFastLaunch": false,
    "category": "General purpose",
    "gpuNum": 0,
    "hideHardwareSpecs": false,
    "memoryGiB": 16,
    "name": "ml.m5d.xlarge",
    "vcpuNum": 4
   },
   {
    "_defaultOrder": 14,
    "_isFastLaunch": false,
    "category": "General purpose",
    "gpuNum": 0,
    "hideHardwareSpecs": false,
    "memoryGiB": 32,
    "name": "ml.m5d.2xlarge",
    "vcpuNum": 8
   },
   {
    "_defaultOrder": 15,
    "_isFastLaunch": false,
    "category": "General purpose",
    "gpuNum": 0,
    "hideHardwareSpecs": false,
    "memoryGiB": 64,
    "name": "ml.m5d.4xlarge",
    "vcpuNum": 16
   },
   {
    "_defaultOrder": 16,
    "_isFastLaunch": false,
    "category": "General purpose",
    "gpuNum": 0,
    "hideHardwareSpecs": false,
    "memoryGiB": 128,
    "name": "ml.m5d.8xlarge",
    "vcpuNum": 32
   },
   {
    "_defaultOrder": 17,
    "_isFastLaunch": false,
    "category": "General purpose",
    "gpuNum": 0,
    "hideHardwareSpecs": false,
    "memoryGiB": 192,
    "name": "ml.m5d.12xlarge",
    "vcpuNum": 48
   },
   {
    "_defaultOrder": 18,
    "_isFastLaunch": false,
    "category": "General purpose",
    "gpuNum": 0,
    "hideHardwareSpecs": false,
    "memoryGiB": 256,
    "name": "ml.m5d.16xlarge",
    "vcpuNum": 64
   },
   {
    "_defaultOrder": 19,
    "_isFastLaunch": false,
    "category": "General purpose",
    "gpuNum": 0,
    "hideHardwareSpecs": false,
    "memoryGiB": 384,
    "name": "ml.m5d.24xlarge",
    "vcpuNum": 96
   },
   {
    "_defaultOrder": 20,
    "_isFastLaunch": false,
    "category": "General purpose",
    "gpuNum": 0,
    "hideHardwareSpecs": true,
    "memoryGiB": 0,
    "name": "ml.geospatial.interactive",
    "supportedImageNames": [
     "sagemaker-geospatial-v1-0"
    ],
    "vcpuNum": 0
   },
   {
    "_defaultOrder": 21,
    "_isFastLaunch": true,
    "category": "Compute optimized",
    "gpuNum": 0,
    "hideHardwareSpecs": false,
    "memoryGiB": 4,
    "name": "ml.c5.large",
    "vcpuNum": 2
   },
   {
    "_defaultOrder": 22,
    "_isFastLaunch": false,
    "category": "Compute optimized",
    "gpuNum": 0,
    "hideHardwareSpecs": false,
    "memoryGiB": 8,
    "name": "ml.c5.xlarge",
    "vcpuNum": 4
   },
   {
    "_defaultOrder": 23,
    "_isFastLaunch": false,
    "category": "Compute optimized",
    "gpuNum": 0,
    "hideHardwareSpecs": false,
    "memoryGiB": 16,
    "name": "ml.c5.2xlarge",
    "vcpuNum": 8
   },
   {
    "_defaultOrder": 24,
    "_isFastLaunch": false,
    "category": "Compute optimized",
    "gpuNum": 0,
    "hideHardwareSpecs": false,
    "memoryGiB": 32,
    "name": "ml.c5.4xlarge",
    "vcpuNum": 16
   },
   {
    "_defaultOrder": 25,
    "_isFastLaunch": false,
    "category": "Compute optimized",
    "gpuNum": 0,
    "hideHardwareSpecs": false,
    "memoryGiB": 72,
    "name": "ml.c5.9xlarge",
    "vcpuNum": 36
   },
   {
    "_defaultOrder": 26,
    "_isFastLaunch": false,
    "category": "Compute optimized",
    "gpuNum": 0,
    "hideHardwareSpecs": false,
    "memoryGiB": 96,
    "name": "ml.c5.12xlarge",
    "vcpuNum": 48
   },
   {
    "_defaultOrder": 27,
    "_isFastLaunch": false,
    "category": "Compute optimized",
    "gpuNum": 0,
    "hideHardwareSpecs": false,
    "memoryGiB": 144,
    "name": "ml.c5.18xlarge",
    "vcpuNum": 72
   },
   {
    "_defaultOrder": 28,
    "_isFastLaunch": false,
    "category": "Compute optimized",
    "gpuNum": 0,
    "hideHardwareSpecs": false,
    "memoryGiB": 192,
    "name": "ml.c5.24xlarge",
    "vcpuNum": 96
   },
   {
    "_defaultOrder": 29,
    "_isFastLaunch": true,
    "category": "Accelerated computing",
    "gpuNum": 1,
    "hideHardwareSpecs": false,
    "memoryGiB": 16,
    "name": "ml.g4dn.xlarge",
    "vcpuNum": 4
   },
   {
    "_defaultOrder": 30,
    "_isFastLaunch": false,
    "category": "Accelerated computing",
    "gpuNum": 1,
    "hideHardwareSpecs": false,
    "memoryGiB": 32,
    "name": "ml.g4dn.2xlarge",
    "vcpuNum": 8
   },
   {
    "_defaultOrder": 31,
    "_isFastLaunch": false,
    "category": "Accelerated computing",
    "gpuNum": 1,
    "hideHardwareSpecs": false,
    "memoryGiB": 64,
    "name": "ml.g4dn.4xlarge",
    "vcpuNum": 16
   },
   {
    "_defaultOrder": 32,
    "_isFastLaunch": false,
    "category": "Accelerated computing",
    "gpuNum": 1,
    "hideHardwareSpecs": false,
    "memoryGiB": 128,
    "name": "ml.g4dn.8xlarge",
    "vcpuNum": 32
   },
   {
    "_defaultOrder": 33,
    "_isFastLaunch": false,
    "category": "Accelerated computing",
    "gpuNum": 4,
    "hideHardwareSpecs": false,
    "memoryGiB": 192,
    "name": "ml.g4dn.12xlarge",
    "vcpuNum": 48
   },
   {
    "_defaultOrder": 34,
    "_isFastLaunch": false,
    "category": "Accelerated computing",
    "gpuNum": 1,
    "hideHardwareSpecs": false,
    "memoryGiB": 256,
    "name": "ml.g4dn.16xlarge",
    "vcpuNum": 64
   },
   {
    "_defaultOrder": 35,
    "_isFastLaunch": false,
    "category": "Accelerated computing",
    "gpuNum": 1,
    "hideHardwareSpecs": false,
    "memoryGiB": 61,
    "name": "ml.p3.2xlarge",
    "vcpuNum": 8
   },
   {
    "_defaultOrder": 36,
    "_isFastLaunch": false,
    "category": "Accelerated computing",
    "gpuNum": 4,
    "hideHardwareSpecs": false,
    "memoryGiB": 244,
    "name": "ml.p3.8xlarge",
    "vcpuNum": 32
   },
   {
    "_defaultOrder": 37,
    "_isFastLaunch": false,
    "category": "Accelerated computing",
    "gpuNum": 8,
    "hideHardwareSpecs": false,
    "memoryGiB": 488,
    "name": "ml.p3.16xlarge",
    "vcpuNum": 64
   },
   {
    "_defaultOrder": 38,
    "_isFastLaunch": false,
    "category": "Accelerated computing",
    "gpuNum": 8,
    "hideHardwareSpecs": false,
    "memoryGiB": 768,
    "name": "ml.p3dn.24xlarge",
    "vcpuNum": 96
   },
   {
    "_defaultOrder": 39,
    "_isFastLaunch": false,
    "category": "Memory Optimized",
    "gpuNum": 0,
    "hideHardwareSpecs": false,
    "memoryGiB": 16,
    "name": "ml.r5.large",
    "vcpuNum": 2
   },
   {
    "_defaultOrder": 40,
    "_isFastLaunch": false,
    "category": "Memory Optimized",
    "gpuNum": 0,
    "hideHardwareSpecs": false,
    "memoryGiB": 32,
    "name": "ml.r5.xlarge",
    "vcpuNum": 4
   },
   {
    "_defaultOrder": 41,
    "_isFastLaunch": false,
    "category": "Memory Optimized",
    "gpuNum": 0,
    "hideHardwareSpecs": false,
    "memoryGiB": 64,
    "name": "ml.r5.2xlarge",
    "vcpuNum": 8
   },
   {
    "_defaultOrder": 42,
    "_isFastLaunch": false,
    "category": "Memory Optimized",
    "gpuNum": 0,
    "hideHardwareSpecs": false,
    "memoryGiB": 128,
    "name": "ml.r5.4xlarge",
    "vcpuNum": 16
   },
   {
    "_defaultOrder": 43,
    "_isFastLaunch": false,
    "category": "Memory Optimized",
    "gpuNum": 0,
    "hideHardwareSpecs": false,
    "memoryGiB": 256,
    "name": "ml.r5.8xlarge",
    "vcpuNum": 32
   },
   {
    "_defaultOrder": 44,
    "_isFastLaunch": false,
    "category": "Memory Optimized",
    "gpuNum": 0,
    "hideHardwareSpecs": false,
    "memoryGiB": 384,
    "name": "ml.r5.12xlarge",
    "vcpuNum": 48
   },
   {
    "_defaultOrder": 45,
    "_isFastLaunch": false,
    "category": "Memory Optimized",
    "gpuNum": 0,
    "hideHardwareSpecs": false,
    "memoryGiB": 512,
    "name": "ml.r5.16xlarge",
    "vcpuNum": 64
   },
   {
    "_defaultOrder": 46,
    "_isFastLaunch": false,
    "category": "Memory Optimized",
    "gpuNum": 0,
    "hideHardwareSpecs": false,
    "memoryGiB": 768,
    "name": "ml.r5.24xlarge",
    "vcpuNum": 96
   },
   {
    "_defaultOrder": 47,
    "_isFastLaunch": false,
    "category": "Accelerated computing",
    "gpuNum": 1,
    "hideHardwareSpecs": false,
    "memoryGiB": 16,
    "name": "ml.g5.xlarge",
    "vcpuNum": 4
   },
   {
    "_defaultOrder": 48,
    "_isFastLaunch": false,
    "category": "Accelerated computing",
    "gpuNum": 1,
    "hideHardwareSpecs": false,
    "memoryGiB": 32,
    "name": "ml.g5.2xlarge",
    "vcpuNum": 8
   },
   {
    "_defaultOrder": 49,
    "_isFastLaunch": false,
    "category": "Accelerated computing",
    "gpuNum": 1,
    "hideHardwareSpecs": false,
    "memoryGiB": 64,
    "name": "ml.g5.4xlarge",
    "vcpuNum": 16
   },
   {
    "_defaultOrder": 50,
    "_isFastLaunch": false,
    "category": "Accelerated computing",
    "gpuNum": 1,
    "hideHardwareSpecs": false,
    "memoryGiB": 128,
    "name": "ml.g5.8xlarge",
    "vcpuNum": 32
   },
   {
    "_defaultOrder": 51,
    "_isFastLaunch": false,
    "category": "Accelerated computing",
    "gpuNum": 1,
    "hideHardwareSpecs": false,
    "memoryGiB": 256,
    "name": "ml.g5.16xlarge",
    "vcpuNum": 64
   },
   {
    "_defaultOrder": 52,
    "_isFastLaunch": false,
    "category": "Accelerated computing",
    "gpuNum": 4,
    "hideHardwareSpecs": false,
    "memoryGiB": 192,
    "name": "ml.g5.12xlarge",
    "vcpuNum": 48
   },
   {
    "_defaultOrder": 53,
    "_isFastLaunch": false,
    "category": "Accelerated computing",
    "gpuNum": 4,
    "hideHardwareSpecs": false,
    "memoryGiB": 384,
    "name": "ml.g5.24xlarge",
    "vcpuNum": 96
   },
   {
    "_defaultOrder": 54,
    "_isFastLaunch": false,
    "category": "Accelerated computing",
    "gpuNum": 8,
    "hideHardwareSpecs": false,
    "memoryGiB": 768,
    "name": "ml.g5.48xlarge",
    "vcpuNum": 192
   },
   {
    "_defaultOrder": 55,
    "_isFastLaunch": false,
    "category": "Accelerated computing",
    "gpuNum": 8,
    "hideHardwareSpecs": false,
    "memoryGiB": 1152,
    "name": "ml.p4d.24xlarge",
    "vcpuNum": 96
   },
   {
    "_defaultOrder": 56,
    "_isFastLaunch": false,
    "category": "Accelerated computing",
    "gpuNum": 8,
    "hideHardwareSpecs": false,
    "memoryGiB": 1152,
    "name": "ml.p4de.24xlarge",
    "vcpuNum": 96
   },
   {
    "_defaultOrder": 57,
    "_isFastLaunch": false,
    "category": "Accelerated computing",
    "gpuNum": 0,
    "hideHardwareSpecs": false,
    "memoryGiB": 32,
    "name": "ml.trn1.2xlarge",
    "vcpuNum": 8
   },
   {
    "_defaultOrder": 58,
    "_isFastLaunch": false,
    "category": "Accelerated computing",
    "gpuNum": 0,
    "hideHardwareSpecs": false,
    "memoryGiB": 512,
    "name": "ml.trn1.32xlarge",
    "vcpuNum": 128
   },
   {
    "_defaultOrder": 59,
    "_isFastLaunch": false,
    "category": "Accelerated computing",
    "gpuNum": 0,
    "hideHardwareSpecs": false,
    "memoryGiB": 512,
    "name": "ml.trn1n.32xlarge",
    "vcpuNum": 128
   }
  ],
  "instance_type": "ml.m5.large",
  "kernelspec": {
   "display_name": "conda_tensorflow2_p310",
   "language": "python",
   "name": "conda_tensorflow2_p310"
  },
  "language_info": {
   "codemirror_mode": {
    "name": "ipython",
    "version": 3
   },
   "file_extension": ".py",
   "mimetype": "text/x-python",
   "name": "python",
   "nbconvert_exporter": "python",
   "pygments_lexer": "ipython3",
   "version": "3.10.13"
  }
 },
 "nbformat": 4,
 "nbformat_minor": 5
}
