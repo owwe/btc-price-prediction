{
 "cells": [
  {
   "cell_type": "code",
   "execution_count": 39,
   "id": "6a0ea36a-6d13-4ade-9580-d16ac7a58fcb",
   "metadata": {
    "tags": []
   },
   "outputs": [],
   "source": [
    "q= '''\n",
    "SELECT *\n",
    "FROM\n",
    "    (SELECT *,\n",
    "    row_number()\n",
    "    OVER\n",
    "        (PARTITION BY \"open_time\"\n",
    "        ORDER BY \"close_time\" DESC, Api_Invocation_Time DESC, write_time DESC)\n",
    "    AS row_number\n",
    "    FROM \"sagemaker_featurestore\".\"btcpricedata_1704246894\")\n",
    "WHERE row_number = 1 ORDER BY close_time ASC;\n",
    "'''"
   ]
  },
  {
   "cell_type": "code",
   "execution_count": 40,
   "id": "543b4a42-4e9b-4117-9868-3f87cad2956a",
   "metadata": {
    "tags": []
   },
   "outputs": [
    {
     "name": "stdout",
     "output_type": "stream",
     "text": [
      "2024-01-10 10:35:27,528 INFO: Found credentials from IAM Role: BaseNotebookInstanceEc2InstanceRole\n",
      "2024-01-10 10:35:27,660 INFO: Found credentials from IAM Role: BaseNotebookInstanceEc2InstanceRole\n"
     ]
    }
   ],
   "source": [
    "from sagemaker.feature_store.feature_group import FeatureGroup\n",
    "import boto3\n",
    "import pandas as pd\n",
    "import numpy as np\n",
    "import io\n",
    "from sagemaker.session import Session\n",
    "from sagemaker import get_execution_role\n",
    "sagemaker_session = Session()\n",
    "\n",
    "feature_group = FeatureGroup(name = 'BtcPriceData')\n",
    "\n",
    "query = feature_group.athena_query()\n",
    "\n",
    "table = query.table_name\n",
    "table\n",
    "default_s3_bucket_name = 'binance-btc-prices'"
   ]
  },
  {
   "cell_type": "code",
   "execution_count": 41,
   "id": "7255ac38-2507-446c-b7b8-0a2fecdcfdd6",
   "metadata": {
    "tags": []
   },
   "outputs": [
    {
     "name": "stdout",
     "output_type": "stream",
     "text": [
      "2024-01-10 10:35:29,723 INFO: Query 07305c02-2e7a-4b18-9bb3-a9a326bd2440 is being executed.\n",
      "2024-01-10 10:35:34,777 INFO: Query 07305c02-2e7a-4b18-9bb3-a9a326bd2440 is being executed.\n",
      "2024-01-10 10:35:39,832 INFO: Query 07305c02-2e7a-4b18-9bb3-a9a326bd2440 is being executed.\n",
      "2024-01-10 10:35:44,890 INFO: Query 07305c02-2e7a-4b18-9bb3-a9a326bd2440 is being executed.\n",
      "2024-01-10 10:35:49,956 INFO: Query 07305c02-2e7a-4b18-9bb3-a9a326bd2440 is being executed.\n",
      "2024-01-10 10:35:55,010 INFO: Query 07305c02-2e7a-4b18-9bb3-a9a326bd2440 is being executed.\n",
      "2024-01-10 10:36:00,072 INFO: Query 07305c02-2e7a-4b18-9bb3-a9a326bd2440 is being executed.\n",
      "2024-01-10 10:36:05,126 INFO: Query 07305c02-2e7a-4b18-9bb3-a9a326bd2440 is being executed.\n",
      "2024-01-10 10:36:10,177 INFO: Query 07305c02-2e7a-4b18-9bb3-a9a326bd2440 is being executed.\n",
      "2024-01-10 10:36:15,240 INFO: Query 07305c02-2e7a-4b18-9bb3-a9a326bd2440 is being executed.\n",
      "2024-01-10 10:36:20,312 INFO: Query 07305c02-2e7a-4b18-9bb3-a9a326bd2440 successfully executed.\n"
     ]
    }
   ],
   "source": [
    "\n",
    "# run Athena query. The output is loaded to a Pandas dataframe.\n",
    "dataset = pd.DataFrame()\n",
    "query.run(query_string=q, output_location='s3://'+default_s3_bucket_name+'/query_results/')\n",
    "query.wait()\n",
    "dataset = query.as_dataframe()"
   ]
  },
  {
   "cell_type": "code",
   "execution_count": 42,
   "id": "bd29206c-e4c7-4464-bdc0-a473babe6fdb",
   "metadata": {
    "tags": []
   },
   "outputs": [
    {
     "data": {
      "text/html": [
       "<div>\n",
       "<style scoped>\n",
       "    .dataframe tbody tr th:only-of-type {\n",
       "        vertical-align: middle;\n",
       "    }\n",
       "\n",
       "    .dataframe tbody tr th {\n",
       "        vertical-align: top;\n",
       "    }\n",
       "\n",
       "    .dataframe thead th {\n",
       "        text-align: right;\n",
       "    }\n",
       "</style>\n",
       "<table border=\"1\" class=\"dataframe\">\n",
       "  <thead>\n",
       "    <tr style=\"text-align: right;\">\n",
       "      <th></th>\n",
       "      <th>open_time</th>\n",
       "      <th>high_price</th>\n",
       "      <th>low_price</th>\n",
       "      <th>close_price</th>\n",
       "      <th>volume</th>\n",
       "      <th>close_time</th>\n",
       "      <th>quote_asset_volume</th>\n",
       "      <th>number_of_trades</th>\n",
       "      <th>taker_buy_base_asset_volume</th>\n",
       "      <th>open_price</th>\n",
       "      <th>write_time</th>\n",
       "      <th>api_invocation_time</th>\n",
       "      <th>is_deleted</th>\n",
       "      <th>row_number</th>\n",
       "    </tr>\n",
       "  </thead>\n",
       "  <tbody>\n",
       "    <tr>\n",
       "      <th>0</th>\n",
       "      <td>2019-09-09 00:00:00</td>\n",
       "      <td>10392.41</td>\n",
       "      <td>10376.45</td>\n",
       "      <td>10390.08</td>\n",
       "      <td>27.884150</td>\n",
       "      <td>1.567987e+09</td>\n",
       "      <td>2.896169e+05</td>\n",
       "      <td>626.0</td>\n",
       "      <td>12.492958</td>\n",
       "      <td>10381.24</td>\n",
       "      <td>2024-01-08 18:11:09.934</td>\n",
       "      <td>2024-01-08 18:05:58.000</td>\n",
       "      <td>False</td>\n",
       "      <td>1</td>\n",
       "    </tr>\n",
       "    <tr>\n",
       "      <th>1</th>\n",
       "      <td>2019-09-09 00:05:00</td>\n",
       "      <td>10393.94</td>\n",
       "      <td>10368.87</td>\n",
       "      <td>10372.31</td>\n",
       "      <td>36.750216</td>\n",
       "      <td>1.567988e+09</td>\n",
       "      <td>3.814708e+05</td>\n",
       "      <td>614.0</td>\n",
       "      <td>22.195335</td>\n",
       "      <td>10390.74</td>\n",
       "      <td>2024-01-08 18:11:07.429</td>\n",
       "      <td>2024-01-08 18:05:58.000</td>\n",
       "      <td>False</td>\n",
       "      <td>1</td>\n",
       "    </tr>\n",
       "    <tr>\n",
       "      <th>2</th>\n",
       "      <td>2019-09-09 00:10:00</td>\n",
       "      <td>10386.24</td>\n",
       "      <td>10368.88</td>\n",
       "      <td>10374.20</td>\n",
       "      <td>38.888045</td>\n",
       "      <td>1.567988e+09</td>\n",
       "      <td>4.035607e+05</td>\n",
       "      <td>640.0</td>\n",
       "      <td>19.145836</td>\n",
       "      <td>10372.31</td>\n",
       "      <td>2024-01-08 18:11:30.173</td>\n",
       "      <td>2024-01-08 18:05:58.000</td>\n",
       "      <td>False</td>\n",
       "      <td>1</td>\n",
       "    </tr>\n",
       "    <tr>\n",
       "      <th>3</th>\n",
       "      <td>2019-09-09 00:15:00</td>\n",
       "      <td>10387.83</td>\n",
       "      <td>10368.89</td>\n",
       "      <td>10384.89</td>\n",
       "      <td>24.997683</td>\n",
       "      <td>1.567988e+09</td>\n",
       "      <td>2.593937e+05</td>\n",
       "      <td>712.0</td>\n",
       "      <td>11.799247</td>\n",
       "      <td>10374.18</td>\n",
       "      <td>2024-01-08 18:11:10.880</td>\n",
       "      <td>2024-01-08 18:05:58.000</td>\n",
       "      <td>False</td>\n",
       "      <td>1</td>\n",
       "    </tr>\n",
       "    <tr>\n",
       "      <th>4</th>\n",
       "      <td>2019-09-09 00:20:00</td>\n",
       "      <td>10396.00</td>\n",
       "      <td>10382.40</td>\n",
       "      <td>10394.20</td>\n",
       "      <td>18.551736</td>\n",
       "      <td>1.567989e+09</td>\n",
       "      <td>1.927592e+05</td>\n",
       "      <td>571.0</td>\n",
       "      <td>9.729698</td>\n",
       "      <td>10386.25</td>\n",
       "      <td>2024-01-08 18:11:06.932</td>\n",
       "      <td>2024-01-08 18:05:58.000</td>\n",
       "      <td>False</td>\n",
       "      <td>1</td>\n",
       "    </tr>\n",
       "    <tr>\n",
       "      <th>...</th>\n",
       "      <td>...</td>\n",
       "      <td>...</td>\n",
       "      <td>...</td>\n",
       "      <td>...</td>\n",
       "      <td>...</td>\n",
       "      <td>...</td>\n",
       "      <td>...</td>\n",
       "      <td>...</td>\n",
       "      <td>...</td>\n",
       "      <td>...</td>\n",
       "      <td>...</td>\n",
       "      <td>...</td>\n",
       "      <td>...</td>\n",
       "      <td>...</td>\n",
       "    </tr>\n",
       "    <tr>\n",
       "      <th>455099</th>\n",
       "      <td>2024-01-09 00:05:00</td>\n",
       "      <td>47080.23</td>\n",
       "      <td>47009.15</td>\n",
       "      <td>47031.18</td>\n",
       "      <td>154.558620</td>\n",
       "      <td>1.704759e+09</td>\n",
       "      <td>7.271087e+06</td>\n",
       "      <td>5979.0</td>\n",
       "      <td>91.207280</td>\n",
       "      <td>47039.99</td>\n",
       "      <td>2024-01-09 00:31:13.144</td>\n",
       "      <td>2024-01-09 00:26:16.000</td>\n",
       "      <td>False</td>\n",
       "      <td>1</td>\n",
       "    </tr>\n",
       "    <tr>\n",
       "      <th>455100</th>\n",
       "      <td>2024-01-09 00:10:00</td>\n",
       "      <td>47100.00</td>\n",
       "      <td>47012.39</td>\n",
       "      <td>47099.99</td>\n",
       "      <td>156.090540</td>\n",
       "      <td>1.704759e+09</td>\n",
       "      <td>7.345640e+06</td>\n",
       "      <td>6167.0</td>\n",
       "      <td>81.751510</td>\n",
       "      <td>47031.17</td>\n",
       "      <td>2024-01-09 00:31:08.899</td>\n",
       "      <td>2024-01-09 00:26:16.000</td>\n",
       "      <td>False</td>\n",
       "      <td>1</td>\n",
       "    </tr>\n",
       "    <tr>\n",
       "      <th>455101</th>\n",
       "      <td>2024-01-09 00:15:00</td>\n",
       "      <td>47150.00</td>\n",
       "      <td>47028.68</td>\n",
       "      <td>47060.00</td>\n",
       "      <td>322.398390</td>\n",
       "      <td>1.704760e+09</td>\n",
       "      <td>1.518189e+07</td>\n",
       "      <td>9130.0</td>\n",
       "      <td>153.485620</td>\n",
       "      <td>47099.99</td>\n",
       "      <td>2024-01-09 00:31:11.863</td>\n",
       "      <td>2024-01-09 00:26:15.000</td>\n",
       "      <td>False</td>\n",
       "      <td>1</td>\n",
       "    </tr>\n",
       "    <tr>\n",
       "      <th>455102</th>\n",
       "      <td>2024-01-09 00:20:00</td>\n",
       "      <td>47074.79</td>\n",
       "      <td>46923.32</td>\n",
       "      <td>46944.00</td>\n",
       "      <td>345.134360</td>\n",
       "      <td>1.704760e+09</td>\n",
       "      <td>1.621257e+07</td>\n",
       "      <td>7590.0</td>\n",
       "      <td>94.619050</td>\n",
       "      <td>47060.00</td>\n",
       "      <td>2024-01-09 00:31:13.144</td>\n",
       "      <td>2024-01-09 00:26:16.000</td>\n",
       "      <td>False</td>\n",
       "      <td>1</td>\n",
       "    </tr>\n",
       "    <tr>\n",
       "      <th>455103</th>\n",
       "      <td>2024-01-09 00:25:00</td>\n",
       "      <td>46944.00</td>\n",
       "      <td>46900.00</td>\n",
       "      <td>46920.91</td>\n",
       "      <td>90.938840</td>\n",
       "      <td>1.704760e+09</td>\n",
       "      <td>4.267180e+06</td>\n",
       "      <td>2222.0</td>\n",
       "      <td>22.396420</td>\n",
       "      <td>46944.00</td>\n",
       "      <td>2024-01-09 00:31:11.541</td>\n",
       "      <td>2024-01-09 00:26:16.000</td>\n",
       "      <td>False</td>\n",
       "      <td>1</td>\n",
       "    </tr>\n",
       "  </tbody>\n",
       "</table>\n",
       "<p>455104 rows × 14 columns</p>\n",
       "</div>"
      ],
      "text/plain": [
       "                  open_time  high_price  low_price  close_price      volume  \\\n",
       "0       2019-09-09 00:00:00    10392.41   10376.45     10390.08   27.884150   \n",
       "1       2019-09-09 00:05:00    10393.94   10368.87     10372.31   36.750216   \n",
       "2       2019-09-09 00:10:00    10386.24   10368.88     10374.20   38.888045   \n",
       "3       2019-09-09 00:15:00    10387.83   10368.89     10384.89   24.997683   \n",
       "4       2019-09-09 00:20:00    10396.00   10382.40     10394.20   18.551736   \n",
       "...                     ...         ...        ...          ...         ...   \n",
       "455099  2024-01-09 00:05:00    47080.23   47009.15     47031.18  154.558620   \n",
       "455100  2024-01-09 00:10:00    47100.00   47012.39     47099.99  156.090540   \n",
       "455101  2024-01-09 00:15:00    47150.00   47028.68     47060.00  322.398390   \n",
       "455102  2024-01-09 00:20:00    47074.79   46923.32     46944.00  345.134360   \n",
       "455103  2024-01-09 00:25:00    46944.00   46900.00     46920.91   90.938840   \n",
       "\n",
       "          close_time  quote_asset_volume  number_of_trades  \\\n",
       "0       1.567987e+09        2.896169e+05             626.0   \n",
       "1       1.567988e+09        3.814708e+05             614.0   \n",
       "2       1.567988e+09        4.035607e+05             640.0   \n",
       "3       1.567988e+09        2.593937e+05             712.0   \n",
       "4       1.567989e+09        1.927592e+05             571.0   \n",
       "...              ...                 ...               ...   \n",
       "455099  1.704759e+09        7.271087e+06            5979.0   \n",
       "455100  1.704759e+09        7.345640e+06            6167.0   \n",
       "455101  1.704760e+09        1.518189e+07            9130.0   \n",
       "455102  1.704760e+09        1.621257e+07            7590.0   \n",
       "455103  1.704760e+09        4.267180e+06            2222.0   \n",
       "\n",
       "        taker_buy_base_asset_volume  open_price               write_time  \\\n",
       "0                         12.492958    10381.24  2024-01-08 18:11:09.934   \n",
       "1                         22.195335    10390.74  2024-01-08 18:11:07.429   \n",
       "2                         19.145836    10372.31  2024-01-08 18:11:30.173   \n",
       "3                         11.799247    10374.18  2024-01-08 18:11:10.880   \n",
       "4                          9.729698    10386.25  2024-01-08 18:11:06.932   \n",
       "...                             ...         ...                      ...   \n",
       "455099                    91.207280    47039.99  2024-01-09 00:31:13.144   \n",
       "455100                    81.751510    47031.17  2024-01-09 00:31:08.899   \n",
       "455101                   153.485620    47099.99  2024-01-09 00:31:11.863   \n",
       "455102                    94.619050    47060.00  2024-01-09 00:31:13.144   \n",
       "455103                    22.396420    46944.00  2024-01-09 00:31:11.541   \n",
       "\n",
       "            api_invocation_time  is_deleted  row_number  \n",
       "0       2024-01-08 18:05:58.000       False           1  \n",
       "1       2024-01-08 18:05:58.000       False           1  \n",
       "2       2024-01-08 18:05:58.000       False           1  \n",
       "3       2024-01-08 18:05:58.000       False           1  \n",
       "4       2024-01-08 18:05:58.000       False           1  \n",
       "...                         ...         ...         ...  \n",
       "455099  2024-01-09 00:26:16.000       False           1  \n",
       "455100  2024-01-09 00:26:16.000       False           1  \n",
       "455101  2024-01-09 00:26:15.000       False           1  \n",
       "455102  2024-01-09 00:26:16.000       False           1  \n",
       "455103  2024-01-09 00:26:16.000       False           1  \n",
       "\n",
       "[455104 rows x 14 columns]"
      ]
     },
     "execution_count": 42,
     "metadata": {},
     "output_type": "execute_result"
    }
   ],
   "source": [
    "dataset['open_time'] = pd.to_datetime(dataset['open_time'], unit='ms').dt.strftime('%Y-%m-%d %T')\n",
    "dataset"
   ]
  },
  {
   "cell_type": "code",
   "execution_count": 5,
   "id": "95cb3795-bc81-435c-8c94-d1ef309ca2ba",
   "metadata": {
    "tags": []
   },
   "outputs": [],
   "source": [
    "#dataset.to_csv('btc_prices.csv')"
   ]
  },
  {
   "cell_type": "code",
   "execution_count": 43,
   "id": "eea560f2-8de0-47bd-95c7-f7bcc1e9fe5d",
   "metadata": {
    "tags": []
   },
   "outputs": [],
   "source": [
    "# univariate data preparation\n",
    "from numpy import array\n",
    "# split a univariate sequence into samples\n",
    "def split_sequence(sequence, n_steps):\n",
    "    X, y = list(), list()\n",
    "    for i in range(len(sequence)):\n",
    "        # find the end of this pattern\n",
    "        end_ix = i + n_steps\n",
    "        # check if we are beyond the sequence\n",
    "        if end_ix > len(sequence)-1:\n",
    "            break\n",
    "        # gather input and output parts of the pattern\n",
    "        seq_x, seq_y = sequence[i:end_ix], sequence[end_ix]\n",
    "        X.append(seq_x)\n",
    "        y.append(seq_y)\n",
    "    return array(X), array(y)"
   ]
  },
  {
   "cell_type": "code",
   "execution_count": null,
   "id": "bb1ce8c2-f93d-461d-966f-2c7e2fde3a70",
   "metadata": {},
   "outputs": [],
   "source": [
    "n_steps = 10"
   ]
  },
  {
   "cell_type": "code",
   "execution_count": 100,
   "id": "882e16e1-db0f-4195-8e63-c235c63b97ae",
   "metadata": {
    "tags": []
   },
   "outputs": [],
   "source": [
    "X,y  = split_sequence(sequence = dataset.close_price, n_steps = n_steps)"
   ]
  },
  {
   "cell_type": "code",
   "execution_count": 101,
   "id": "61b06868-f1f7-4ffd-bc24-97e7e5f7a6f9",
   "metadata": {
    "tags": []
   },
   "outputs": [],
   "source": [
    "# define model\n",
    "from numpy import array\n",
    "from keras.models import Sequential\n",
    "from keras.layers import Dense"
   ]
  },
  {
   "cell_type": "code",
   "execution_count": 102,
   "id": "0b90c3c1-1822-4eda-bf81-c9164f5dd797",
   "metadata": {
    "tags": []
   },
   "outputs": [],
   "source": [
    "X = X.reshape(X.shape[0],-1,1)"
   ]
  },
  {
   "cell_type": "code",
   "execution_count": 103,
   "id": "7e339617-172d-458d-b76d-42ea7123708c",
   "metadata": {
    "tags": []
   },
   "outputs": [],
   "source": [
    "train_index =  round(y.shape[0] * 0.35)\n",
    "val_index   =  round(y.shape[0] * 0.5)"
   ]
  },
  {
   "cell_type": "code",
   "execution_count": 104,
   "id": "20ca5778-b2b1-4074-89bd-8bc158db2310",
   "metadata": {
    "tags": []
   },
   "outputs": [],
   "source": [
    "X_train = X[:train_index]\n",
    "y_train = y[:train_index]\n",
    "X_val = X[train_index  : val_index]\n",
    "y_val = y[train_index  : val_index]\n",
    "X_test = X[val_index:]\n",
    "y_test = y[val_index:]"
   ]
  },
  {
   "cell_type": "code",
   "execution_count": 106,
   "id": "bac8ab74-9e62-4c06-b0bb-4dbdcc3cfdbc",
   "metadata": {
    "tags": []
   },
   "outputs": [
    {
     "data": {
      "text/plain": [
       "(159283, 10, 1)"
      ]
     },
     "execution_count": 106,
     "metadata": {},
     "output_type": "execute_result"
    }
   ],
   "source": [
    "X_train.shape"
   ]
  },
  {
   "cell_type": "code",
   "execution_count": 107,
   "id": "d03b0473-c594-41bc-b729-76f01d64f5b5",
   "metadata": {
    "tags": []
   },
   "outputs": [
    {
     "data": {
      "text/plain": [
       "[<matplotlib.lines.Line2D at 0x7f9b02a09e10>]"
      ]
     },
     "execution_count": 107,
     "metadata": {},
     "output_type": "execute_result"
    },
    {
     "data": {
      "image/png": "[encoded data removed]",
      "text/plain": [
       "<Figure size 640x480 with 1 Axes>"
      ]
     },
     "metadata": {},
     "output_type": "display_data"
    }
   ],
   "source": [
    "from matplotlib import pyplot as plt\n",
    "plt.plot(np.arange(len(y_train)),y_train)\n",
    "plt.plot( len(y_train) + np.arange(len(y_val)),y_val)\n",
    "plt.plot(len(y_train)  + len(y_val) + np.arange(len(y_test)),y_test)"
   ]
  },
  {
   "cell_type": "code",
   "execution_count": 132,
   "id": "f7678fae-aac0-41b5-9079-bcd2f6ccd407",
   "metadata": {
    "tags": []
   },
   "outputs": [],
   "source": [
    "from keras.layers import LSTM\n",
    "from keras.layers import Dense, Dropout,Input\n",
    "n_features = 1\n",
    "# reshape from [samples, timesteps] into [samples, timesteps, features]\n",
    "X = X.reshape((X.shape[0], X.shape[1], n_features))\n",
    "# define model\n",
    "model = Sequential()\n",
    "model.add(Input((n_steps, n_features)))\n",
    "model.add(LSTM(50, activation='tanh', return_sequences = False )) \n",
    "#model.add(LSTM(32, activation='tanh'))\n",
    "model.add(Dense(32,activation = \"relu\"))\n",
    "model.add(Dropout(0.1))\n",
    "model.add(Dense(16,activation = \"relu\"))\n",
    "model.add(Dense(1))\n",
    "model.compile(optimizer='adam' ,loss='mse', metrics = ['mae'])\n",
    "# fit model"
   ]
  },
  {
   "cell_type": "code",
   "execution_count": 133,
   "id": "ba8715c9-92e0-4a87-978e-998b03b2a796",
   "metadata": {
    "tags": []
   },
   "outputs": [
    {
     "name": "stdout",
     "output_type": "stream",
     "text": [
      "Model: \"sequential_11\"\n",
      "_________________________________________________________________\n",
      " Layer (type)                Output Shape              Param #   \n",
      "=================================================================\n",
      " lstm_13 (LSTM)              (None, 50)                10400     \n",
      "                                                                 \n",
      " dense_39 (Dense)            (None, 32)                1632      \n",
      "                                                                 \n",
      " dropout_23 (Dropout)        (None, 32)                0         \n",
      "                                                                 \n",
      " dense_40 (Dense)            (None, 16)                528       \n",
      "                                                                 \n",
      " dense_41 (Dense)            (None, 1)                 17        \n",
      "                                                                 \n",
      "=================================================================\n",
      "Total params: 12,577\n",
      "Trainable params: 12,577\n",
      "Non-trainable params: 0\n",
      "_________________________________________________________________\n"
     ]
    }
   ],
   "source": [
    "model.summary()"
   ]
  },
  {
   "cell_type": "code",
   "execution_count": 134,
   "id": "71944a3a-7a90-4d55-a5be-9b07e85489b2",
   "metadata": {
    "scrolled": true,
    "tags": []
   },
   "outputs": [
    {
     "name": "stdout",
     "output_type": "stream",
     "text": [
      "Epoch 1/100\n",
      "4978/4978 [==============================] - 28s 5ms/step - loss: 179038272.0000 - mae: 9098.1572 - val_loss: 1174060544.0000 - val_mae: 32782.9531\n",
      "Epoch 2/100\n",
      "4978/4978 [==============================] - 24s 5ms/step - loss: 145553168.0000 - mae: 8436.9277 - val_loss: 1166380032.0000 - val_mae: 32665.5918\n",
      "Epoch 3/100\n",
      "4978/4978 [==============================] - 23s 5ms/step - loss: 145607696.0000 - mae: 8441.2012 - val_loss: 1176081536.0000 - val_mae: 32813.7500\n",
      "Epoch 4/100\n",
      "4978/4978 [==============================] - 23s 5ms/step - loss: 145539088.0000 - mae: 8439.1006 - val_loss: 1177287296.0000 - val_mae: 32832.1367\n",
      "Epoch 5/100\n",
      "4978/4978 [==============================] - 23s 5ms/step - loss: 145484160.0000 - mae: 8439.7852 - val_loss: 1181648512.0000 - val_mae: 32898.4883\n",
      "Epoch 6/100\n",
      "4978/4978 [==============================] - 23s 5ms/step - loss: 145549600.0000 - mae: 8443.4834 - val_loss: 1191582592.0000 - val_mae: 33049.1211\n",
      "Epoch 7/100\n",
      "4978/4978 [==============================] - 23s 5ms/step - loss: 145600224.0000 - mae: 8433.1514 - val_loss: 1162884096.0000 - val_mae: 32612.0508\n",
      "Epoch 8/100\n",
      "4978/4978 [==============================] - 24s 5ms/step - loss: 145503088.0000 - mae: 8441.9082 - val_loss: 1170557696.0000 - val_mae: 32729.5078\n",
      "Epoch 9/100\n",
      "4978/4978 [==============================] - 24s 5ms/step - loss: 145472432.0000 - mae: 8438.6846 - val_loss: 1167923200.0000 - val_mae: 32689.2324\n",
      "Epoch 10/100\n",
      "4978/4978 [==============================] - 23s 5ms/step - loss: 145612384.0000 - mae: 8444.1182 - val_loss: 1175720960.0000 - val_mae: 32808.2617\n",
      "Epoch 11/100\n",
      "4978/4978 [==============================] - 23s 5ms/step - loss: 145538192.0000 - mae: 8437.5391 - val_loss: 1168384768.0000 - val_mae: 32696.2852\n",
      "Epoch 12/100\n",
      "4978/4978 [==============================] - 24s 5ms/step - loss: 145506816.0000 - mae: 8438.5859 - val_loss: 1162415744.0000 - val_mae: 32604.8789\n",
      "Epoch 13/100\n",
      "4978/4978 [==============================] - 23s 5ms/step - loss: 145479456.0000 - mae: 8443.5439 - val_loss: 1184335488.0000 - val_mae: 32939.2617\n",
      "Epoch 14/100\n",
      "4978/4978 [==============================] - 23s 5ms/step - loss: 145554816.0000 - mae: 8444.3242 - val_loss: 1189953920.0000 - val_mae: 33024.4570\n",
      "Epoch 15/100\n",
      "4978/4978 [==============================] - 24s 5ms/step - loss: 145674976.0000 - mae: 8443.3477 - val_loss: 1194019840.0000 - val_mae: 33085.9766\n",
      "Epoch 16/100\n",
      "4978/4978 [==============================] - 23s 5ms/step - loss: 145528544.0000 - mae: 8434.1738 - val_loss: 1169457920.0000 - val_mae: 32712.6934\n",
      "Epoch 17/100\n",
      "4978/4978 [==============================] - 23s 5ms/step - loss: 145545792.0000 - mae: 8447.1113 - val_loss: 1188995584.0000 - val_mae: 33009.9570\n",
      "Epoch 18/100\n",
      "4978/4978 [==============================] - 23s 5ms/step - loss: 145516704.0000 - mae: 8435.1875 - val_loss: 1159406464.0000 - val_mae: 32558.6738\n",
      "Epoch 19/100\n",
      "4978/4978 [==============================] - 23s 5ms/step - loss: 145535296.0000 - mae: 8442.8301 - val_loss: 1171491840.0000 - val_mae: 32743.7363\n",
      "Epoch 20/100\n",
      "4978/4978 [==============================] - 23s 5ms/step - loss: 145502192.0000 - mae: 8438.3506 - val_loss: 1174251520.0000 - val_mae: 32785.8555\n",
      "Epoch 21/100\n",
      "4978/4978 [==============================] - 23s 5ms/step - loss: 145430480.0000 - mae: 8440.0801 - val_loss: 1183539456.0000 - val_mae: 32927.1875\n",
      "Epoch 22/100\n",
      "4978/4978 [==============================] - 23s 5ms/step - loss: 145574592.0000 - mae: 8437.2246 - val_loss: 1178444544.0000 - val_mae: 32849.7266\n",
      "Epoch 23/100\n",
      "4978/4978 [==============================] - 23s 5ms/step - loss: 145637152.0000 - mae: 8440.6289 - val_loss: 1175385088.0000 - val_mae: 32803.1406\n",
      "Epoch 24/100\n",
      "4978/4978 [==============================] - 24s 5ms/step - loss: 145491808.0000 - mae: 8441.0449 - val_loss: 1181196800.0000 - val_mae: 32891.6016\n",
      "Epoch 25/100\n",
      "4978/4978 [==============================] - 23s 5ms/step - loss: 145560752.0000 - mae: 8440.3438 - val_loss: 1178975744.0000 - val_mae: 32857.8359\n",
      "Epoch 26/100\n",
      "4978/4978 [==============================] - 23s 5ms/step - loss: 145460736.0000 - mae: 8436.4570 - val_loss: 1163843328.0000 - val_mae: 32626.7441\n",
      "Epoch 27/100\n",
      "4978/4978 [==============================] - 23s 5ms/step - loss: 145569776.0000 - mae: 8441.4453 - val_loss: 1183499776.0000 - val_mae: 32926.6172\n",
      "Epoch 28/100\n",
      "4978/4978 [==============================] - 23s 5ms/step - loss: 145438896.0000 - mae: 8436.4961 - val_loss: 1159453056.0000 - val_mae: 32559.3789\n",
      "Epoch 29/100\n",
      "4978/4978 [==============================] - 23s 5ms/step - loss: 145522144.0000 - mae: 8439.1836 - val_loss: 1158146560.0000 - val_mae: 32539.3086\n",
      "Epoch 30/100\n",
      "4978/4978 [==============================] - 23s 5ms/step - loss: 145400000.0000 - mae: 8441.3779 - val_loss: 1178110848.0000 - val_mae: 32844.6797\n",
      "Epoch 31/100\n",
      "4978/4978 [==============================] - 23s 5ms/step - loss: 145554368.0000 - mae: 8442.8389 - val_loss: 1172851584.0000 - val_mae: 32764.5352\n",
      "Epoch 32/100\n",
      "4978/4978 [==============================] - 24s 5ms/step - loss: 145595280.0000 - mae: 8440.1484 - val_loss: 1173720192.0000 - val_mae: 32777.7812\n",
      "Epoch 33/100\n",
      "4978/4978 [==============================] - 23s 5ms/step - loss: 145607488.0000 - mae: 8439.5107 - val_loss: 1172670592.0000 - val_mae: 32761.7480\n",
      "Epoch 34/100\n",
      "4978/4978 [==============================] - 23s 5ms/step - loss: 145648256.0000 - mae: 8440.6904 - val_loss: 1179146624.0000 - val_mae: 32860.4453\n",
      "Epoch 35/100\n",
      "4978/4978 [==============================] - 23s 5ms/step - loss: 145593888.0000 - mae: 8444.4561 - val_loss: 1182652800.0000 - val_mae: 32913.7305\n",
      "Epoch 36/100\n",
      "4978/4978 [==============================] - 23s 5ms/step - loss: 145506416.0000 - mae: 8436.1221 - val_loss: 1160819456.0000 - val_mae: 32580.3867\n",
      "Epoch 37/100\n",
      "4978/4978 [==============================] - 26s 5ms/step - loss: 145571872.0000 - mae: 8443.9336 - val_loss: 1169674880.0000 - val_mae: 32715.9707\n",
      "Epoch 38/100\n",
      "4978/4978 [==============================] - 24s 5ms/step - loss: 145486160.0000 - mae: 8438.4385 - val_loss: 1164871680.0000 - val_mae: 32642.5273\n",
      "Epoch 39/100\n",
      "4978/4978 [==============================] - 24s 5ms/step - loss: 145604928.0000 - mae: 8442.5605 - val_loss: 1165329152.0000 - val_mae: 32649.5176\n",
      "Epoch 40/100\n",
      "4978/4978 [==============================] - 23s 5ms/step - loss: 145488880.0000 - mae: 8438.9062 - val_loss: 1168931968.0000 - val_mae: 32704.6445\n",
      "Epoch 41/100\n",
      "4978/4978 [==============================] - 23s 5ms/step - loss: 145508736.0000 - mae: 8442.0430 - val_loss: 1175548928.0000 - val_mae: 32805.6328\n",
      "Epoch 42/100\n",
      "4978/4978 [==============================] - 23s 5ms/step - loss: 145552432.0000 - mae: 8438.6963 - val_loss: 1164966016.0000 - val_mae: 32643.9492\n",
      "Epoch 43/100\n",
      "4978/4978 [==============================] - 23s 5ms/step - loss: 145638016.0000 - mae: 8443.0693 - val_loss: 1173201024.0000 - val_mae: 32769.8359\n",
      "Epoch 44/100\n",
      "4978/4978 [==============================] - 23s 5ms/step - loss: 145391184.0000 - mae: 8438.3838 - val_loss: 1180037760.0000 - val_mae: 32874.0156\n",
      "Epoch 45/100\n",
      "4978/4978 [==============================] - 24s 5ms/step - loss: 145544032.0000 - mae: 8435.7021 - val_loss: 1159646464.0000 - val_mae: 32562.3750\n",
      "Epoch 46/100\n",
      "4978/4978 [==============================] - 27s 5ms/step - loss: 145553536.0000 - mae: 8438.7285 - val_loss: 1168600064.0000 - val_mae: 32699.5645\n",
      "Epoch 47/100\n",
      "4978/4978 [==============================] - 29s 6ms/step - loss: 145549648.0000 - mae: 8441.8418 - val_loss: 1174761600.0000 - val_mae: 32793.6328\n",
      "Epoch 48/100\n",
      "4978/4978 [==============================] - 24s 5ms/step - loss: 145490528.0000 - mae: 8440.9893 - val_loss: 1178094336.0000 - val_mae: 32844.4336\n",
      "Epoch 49/100\n",
      "4978/4978 [==============================] - 26s 5ms/step - loss: 145558912.0000 - mae: 8436.2754 - val_loss: 1159122176.0000 - val_mae: 32554.3047\n",
      "Epoch 50/100\n",
      "4978/4978 [==============================] - 29s 6ms/step - loss: 145468192.0000 - mae: 8443.7939 - val_loss: 1180307968.0000 - val_mae: 32878.0938\n",
      "Epoch 51/100\n",
      "4978/4978 [==============================] - 30s 6ms/step - loss: 145479584.0000 - mae: 8439.1895 - val_loss: 1174395008.0000 - val_mae: 32788.0352\n",
      "Epoch 52/100\n",
      "4978/4978 [==============================] - 29s 6ms/step - loss: 145445040.0000 - mae: 8436.4844 - val_loss: 1173454080.0000 - val_mae: 32773.6602\n",
      "Epoch 53/100\n",
      "4978/4978 [==============================] - 30s 6ms/step - loss: 145467008.0000 - mae: 8444.6113 - val_loss: 1178381952.0000 - val_mae: 32848.8281\n",
      "Epoch 54/100\n",
      "4978/4978 [==============================] - 26s 5ms/step - loss: 145504592.0000 - mae: 8439.9424 - val_loss: 1178423936.0000 - val_mae: 32849.4609\n",
      "Epoch 55/100\n",
      "4978/4978 [==============================] - 24s 5ms/step - loss: 145422688.0000 - mae: 8439.1064 - val_loss: 1176147200.0000 - val_mae: 32814.7461\n",
      "Epoch 56/100\n",
      "4978/4978 [==============================] - 23s 5ms/step - loss: 145562208.0000 - mae: 8439.4102 - val_loss: 1174628480.0000 - val_mae: 32791.5820\n",
      "Epoch 57/100\n",
      "4978/4978 [==============================] - 23s 5ms/step - loss: 145520896.0000 - mae: 8439.9521 - val_loss: 1166403328.0000 - val_mae: 32665.9766\n",
      "Epoch 58/100\n",
      "4978/4978 [==============================] - 23s 5ms/step - loss: 145462496.0000 - mae: 8441.2568 - val_loss: 1166678016.0000 - val_mae: 32670.1445\n",
      "Epoch 59/100\n",
      "4978/4978 [==============================] - 24s 5ms/step - loss: 145545552.0000 - mae: 8444.9199 - val_loss: 1184494720.0000 - val_mae: 32941.7148\n",
      "Epoch 60/100\n",
      "4978/4978 [==============================] - 24s 5ms/step - loss: 145469136.0000 - mae: 8436.0273 - val_loss: 1171153280.0000 - val_mae: 32738.5996\n",
      "Epoch 61/100\n",
      "4978/4978 [==============================] - 24s 5ms/step - loss: 145455040.0000 - mae: 8441.5020 - val_loss: 1179010688.0000 - val_mae: 32858.3711\n",
      "Epoch 62/100\n",
      "4978/4978 [==============================] - 23s 5ms/step - loss: 145532160.0000 - mae: 8439.4844 - val_loss: 1172312704.0000 - val_mae: 32756.2812\n",
      "Epoch 63/100\n",
      "4978/4978 [==============================] - 23s 5ms/step - loss: 145468192.0000 - mae: 8442.4648 - val_loss: 1180590208.0000 - val_mae: 32882.4062\n",
      "Epoch 64/100\n",
      "4978/4978 [==============================] - 23s 5ms/step - loss: 145491888.0000 - mae: 8438.9854 - val_loss: 1174717952.0000 - val_mae: 32793.0234\n",
      "Epoch 65/100\n",
      "4978/4978 [==============================] - 23s 5ms/step - loss: 145541424.0000 - mae: 8440.2568 - val_loss: 1170484480.0000 - val_mae: 32728.3691\n",
      "Epoch 66/100\n",
      "4978/4978 [==============================] - 23s 5ms/step - loss: 145558272.0000 - mae: 8441.5771 - val_loss: 1174827008.0000 - val_mae: 32794.6484\n",
      "Epoch 67/100\n",
      "4978/4978 [==============================] - 23s 5ms/step - loss: 145572960.0000 - mae: 8442.9521 - val_loss: 1181971840.0000 - val_mae: 32903.3594\n",
      "Epoch 68/100\n",
      "4978/4978 [==============================] - 24s 5ms/step - loss: 145512592.0000 - mae: 8438.5039 - val_loss: 1167175936.0000 - val_mae: 32677.7715\n",
      "Epoch 69/100\n",
      "4978/4978 [==============================] - 23s 5ms/step - loss: 145479216.0000 - mae: 8439.2139 - val_loss: 1157457280.0000 - val_mae: 32528.7520\n",
      "Epoch 70/100\n",
      "4978/4978 [==============================] - 23s 5ms/step - loss: 145465472.0000 - mae: 8442.1553 - val_loss: 1165206272.0000 - val_mae: 32647.6211\n",
      "Epoch 71/100\n",
      "4978/4978 [==============================] - 23s 5ms/step - loss: 145521984.0000 - mae: 8440.3525 - val_loss: 1176384384.0000 - val_mae: 32818.3906\n",
      "Epoch 72/100\n",
      "4978/4978 [==============================] - 24s 5ms/step - loss: 145548608.0000 - mae: 8443.3496 - val_loss: 1179260160.0000 - val_mae: 32862.1719\n",
      "Epoch 73/100\n",
      "4978/4978 [==============================] - 23s 5ms/step - loss: 145583984.0000 - mae: 8442.6953 - val_loss: 1173275136.0000 - val_mae: 32770.9375\n",
      "Epoch 74/100\n",
      "4978/4978 [==============================] - 23s 5ms/step - loss: 145493072.0000 - mae: 8440.7803 - val_loss: 1173818880.0000 - val_mae: 32779.2188\n",
      "Epoch 75/100\n",
      "4978/4978 [==============================] - 23s 5ms/step - loss: 145381040.0000 - mae: 8440.3428 - val_loss: 1178018432.0000 - val_mae: 32843.2227\n",
      "Epoch 76/100\n",
      "4978/4978 [==============================] - 24s 5ms/step - loss: 145414256.0000 - mae: 8440.7246 - val_loss: 1185485696.0000 - val_mae: 32956.7539\n",
      "Epoch 77/100\n",
      "4978/4978 [==============================] - 23s 5ms/step - loss: 145436496.0000 - mae: 8437.2764 - val_loss: 1171510016.0000 - val_mae: 32744.0410\n",
      "Epoch 78/100\n",
      "4978/4978 [==============================] - 23s 5ms/step - loss: 145471600.0000 - mae: 8440.8398 - val_loss: 1176046336.0000 - val_mae: 32813.2266\n",
      "Epoch 79/100\n",
      "4978/4978 [==============================] - 23s 5ms/step - loss: 145364544.0000 - mae: 8439.0703 - val_loss: 1178852480.0000 - val_mae: 32855.9531\n",
      "Epoch 80/100\n",
      "4978/4978 [==============================] - 23s 5ms/step - loss: 145407696.0000 - mae: 8441.5918 - val_loss: 1188524544.0000 - val_mae: 33002.8281\n",
      "Epoch 81/100\n",
      "4978/4978 [==============================] - 23s 5ms/step - loss: 145363568.0000 - mae: 8433.2480 - val_loss: 1148792960.0000 - val_mae: 32395.2656\n",
      "Epoch 82/100\n",
      "4978/4978 [==============================] - 23s 5ms/step - loss: 145363184.0000 - mae: 8440.7197 - val_loss: 1165270144.0000 - val_mae: 32648.6074\n",
      "Epoch 83/100\n",
      "4978/4978 [==============================] - 24s 5ms/step - loss: 145450176.0000 - mae: 8442.2979 - val_loss: 1163116800.0000 - val_mae: 32615.5977\n",
      "Epoch 84/100\n",
      "4978/4978 [==============================] - 24s 5ms/step - loss: 145448736.0000 - mae: 8438.1133 - val_loss: 1172376320.0000 - val_mae: 32757.2402\n",
      "Epoch 85/100\n",
      "4978/4978 [==============================] - 23s 5ms/step - loss: 145432640.0000 - mae: 8445.1484 - val_loss: 1192356352.0000 - val_mae: 33060.8203\n",
      "Epoch 86/100\n",
      "4978/4978 [==============================] - 23s 5ms/step - loss: 145500768.0000 - mae: 8436.2842 - val_loss: 1171524608.0000 - val_mae: 32744.2656\n",
      "Epoch 87/100\n",
      "4978/4978 [==============================] - 23s 5ms/step - loss: 145340224.0000 - mae: 8439.2725 - val_loss: 1172394752.0000 - val_mae: 32757.5215\n",
      "Epoch 88/100\n",
      "4978/4978 [==============================] - 23s 5ms/step - loss: 145484240.0000 - mae: 8441.8955 - val_loss: 1173256576.0000 - val_mae: 32770.6758\n",
      "Epoch 89/100\n",
      "4978/4978 [==============================] - 23s 5ms/step - loss: 145428208.0000 - mae: 8436.5723 - val_loss: 1160670592.0000 - val_mae: 32578.1191\n",
      "Epoch 90/100\n",
      "4978/4978 [==============================] - 23s 5ms/step - loss: 145328080.0000 - mae: 8439.3438 - val_loss: 1156518400.0000 - val_mae: 32514.2832\n",
      "Epoch 91/100\n",
      "4978/4978 [==============================] - 24s 5ms/step - loss: 145484896.0000 - mae: 8443.7510 - val_loss: 1173045376.0000 - val_mae: 32767.4629\n",
      "Epoch 92/100\n",
      "4978/4978 [==============================] - 23s 5ms/step - loss: 145503968.0000 - mae: 8441.0430 - val_loss: 1173063808.0000 - val_mae: 32767.7422\n",
      "Epoch 93/100\n",
      "4978/4978 [==============================] - 23s 5ms/step - loss: 145387024.0000 - mae: 8438.8096 - val_loss: 1169133696.0000 - val_mae: 32707.7168\n",
      "Epoch 94/100\n",
      "4978/4978 [==============================] - 23s 5ms/step - loss: 145491152.0000 - mae: 8443.3330 - val_loss: 1175723776.0000 - val_mae: 32808.2930\n",
      "Epoch 95/100\n",
      "4978/4978 [==============================] - 24s 5ms/step - loss: 145349808.0000 - mae: 8437.0332 - val_loss: 1176886912.0000 - val_mae: 32826.0547\n",
      "Epoch 96/100\n",
      "4978/4978 [==============================] - 24s 5ms/step - loss: 145531104.0000 - mae: 8441.6045 - val_loss: 1180378624.0000 - val_mae: 32879.1328\n",
      "Epoch 97/100\n",
      "4978/4978 [==============================] - 25s 5ms/step - loss: 145466608.0000 - mae: 8435.9521 - val_loss: 1155631616.0000 - val_mae: 32500.6680\n",
      "Epoch 98/100\n",
      "4978/4978 [==============================] - 25s 5ms/step - loss: 145307680.0000 - mae: 8439.4287 - val_loss: 1161063680.0000 - val_mae: 32584.1152\n",
      "Epoch 99/100\n",
      "4978/4978 [==============================] - 26s 5ms/step - loss: 145485872.0000 - mae: 8439.2588 - val_loss: 1161268352.0000 - val_mae: 32587.2324\n",
      "Epoch 100/100\n",
      "4978/4978 [==============================] - 24s 5ms/step - loss: 145466752.0000 - mae: 8441.3193 - val_loss: 1155724160.0000 - val_mae: 32502.0918\n"
     ]
    }
   ],
   "source": [
    "hist = model.fit(X_train, y_train, validation_data = (X_val,y_val) , epochs=100, verbose=1)\n",
    "# demonstrate prediction"
   ]
  },
  {
   "cell_type": "code",
   "execution_count": 129,
   "id": "84fc6ab0-a11e-44a6-90da-584e8c1c5f01",
   "metadata": {
    "tags": []
   },
   "outputs": [
    {
     "name": "stdout",
     "output_type": "stream",
     "text": [
      "7111/7111 [==============================] - 12s 2ms/step\n"
     ]
    }
   ],
   "source": [
    "preds = model.predict(X_test).reshape(-1)"
   ]
  },
  {
   "cell_type": "code",
   "execution_count": 131,
   "id": "36c322c9-49c7-4621-a6c3-74eb8a39739e",
   "metadata": {
    "tags": []
   },
   "outputs": [
    {
     "data": {
      "text/plain": [
       "[<matplotlib.lines.Line2D at 0x7fa09c956230>]"
      ]
     },
     "execution_count": 131,
     "metadata": {},
     "output_type": "execute_result"
    },
    {
     "data": {
      "image/png": "[encoded data removed]",
      "text/plain": [
       "<Figure size 640x480 with 1 Axes>"
      ]
     },
     "metadata": {},
     "output_type": "display_data"
    }
   ],
   "source": [
    "from matplotlib import pyplot as plt\n",
    "plt.plot(np.arange(len(y_test)),y_test)\n",
    "plt.plot(np.arange(len(y_test)), preds)"
   ]
  },
  {
   "cell_type": "code",
   "execution_count": 16,
   "id": "2545b2a0-61dc-427c-84da-a191c471c072",
   "metadata": {
    "tags": []
   },
   "outputs": [
    {
     "name": "stdout",
     "output_type": "stream",
     "text": [
      "Connected. Call `.close()` to terminate connection gracefully.\n",
      "\n",
      "Multiple projects found. \n",
      "\n",
      "\t (1) project0\n",
      "\t (2) DD2223_lab1\n"
     ]
    },
    {
     "name": "stdin",
     "output_type": "stream",
     "text": [
      "\n",
      "Enter project to access:  2\n"
     ]
    },
    {
     "name": "stdout",
     "output_type": "stream",
     "text": [
      "\n",
      "Logged in to project, explore it here https://c.app.hopsworks.ai:443/p/206996\n"
     ]
    }
   ],
   "source": [
    "# You have to set the environment variable 'HOPSWORKS_API_KEY' for login to succeed\n",
    "import hopsworks\n",
    "project = hopsworks.login()"
   ]
  },
  {
   "cell_type": "code",
   "execution_count": 22,
   "id": "f93eed50-0f95-43f3-9ac9-6ac7664a2d39",
   "metadata": {
    "tags": []
   },
   "outputs": [
    {
     "name": "stdout",
     "output_type": "stream",
     "text": [
      "Connected. Call `.close()` to terminate connection gracefully.\n"
     ]
    },
    {
     "data": {
      "application/vnd.jupyter.widget-view+json": {
       "model_id": "afa7619bdddd4afb939b75a159927aa3",
       "version_major": 2,
       "version_minor": 0
      },
      "text/plain": [
       "  0%|          | 0/6 [00:00<?, ?it/s]"
      ]
     },
     "metadata": {},
     "output_type": "display_data"
    },
    {
     "data": {
      "application/vnd.jupyter.widget-view+json": {
       "model_id": "0f3a23eab0054d3bae3911308b667091",
       "version_major": 2,
       "version_minor": 0
      },
      "text/plain": [
       "Uploading: 0.000%|          | 0/2571984 elapsed<00:00 remaining<?"
      ]
     },
     "metadata": {},
     "output_type": "display_data"
    },
    {
     "data": {
      "application/vnd.jupyter.widget-view+json": {
       "model_id": "1860ca0e04a74543bdf2544434580f59",
       "version_major": 2,
       "version_minor": 0
      },
      "text/plain": [
       "Uploading: 0.000%|          | 0/218 elapsed<00:00 remaining<?"
      ]
     },
     "metadata": {},
     "output_type": "display_data"
    },
    {
     "name": "stdout",
     "output_type": "stream",
     "text": [
      "Model created, explore it at https://c.app.hopsworks.ai:443/p/206996/models/lstmModel/3\n"
     ]
    },
    {
     "data": {
      "text/plain": [
       "Model(name: 'lstmModel', version: 3)"
      ]
     },
     "execution_count": 22,
     "metadata": {},
     "output_type": "execute_result"
    }
   ],
   "source": [
    "from hsml.schema import Schema\n",
    "from hsml.model_schema import ModelSchema\n",
    "import os\n",
    "import joblib\n",
    "# We will now upload our model to the Hopsworks Model Registry. First get an object for the model registry.\n",
    "mr = project.get_model_registry()\n",
    "\n",
    "# The contents of the 'iris_model' directory will be saved to the model registry. Create the dir, first.\n",
    "model_dir=\"btc-predictor-lstm\"\n",
    "if os.path.isdir(model_dir) == False:\n",
    "    os.mkdir(model_dir)\n",
    "\n",
    "# Save both our model and the confusion matrix to 'model_dir', whose contents will be uploaded to the model registry\n",
    "#joblib.dump(model, model_dir + \"/lstm_model.h5\")\n",
    "model.save(model_dir + \"/lstm_model.h5\")\n",
    "# Specify the schema of the model's input/output using the features (X_train) and labels (y_train)\n",
    "input_schema = Schema(X_train)\n",
    "output_schema = Schema(y_train)\n",
    "model_schema = ModelSchema(input_schema, output_schema)\n",
    "\n",
    "# Create an entry in the model registry that includes the model's name, desc, metrics\n",
    "model_lstm = mr.python.create_model(\n",
    "    name=\"lstmModel\", \n",
    "    metrics={\"val_loss\" : hist.history['val_loss'][-1],\"val_mae\" : hist.history['val_mae'][-1] },\n",
    "    model_schema=model_schema,\n",
    "    description=\"BTC price Predictor\",\n",
    "    version = 3\n",
    "    \n",
    ")\n",
    "\n",
    "# Upload the model to the model registry, including all files in 'model_dir'\n",
    "model_lstm.save(model_dir)"
   ]
  },
  {
   "cell_type": "code",
   "execution_count": null,
   "id": "6f9479c5-cf78-439c-9906-80f9ceb2716e",
   "metadata": {
    "tags": []
   },
   "outputs": [],
   "source": [
    "print(mr.python.create_model.__doc__)"
   ]
  },
  {
   "cell_type": "code",
   "execution_count": null,
   "id": "8759a9f1-43dd-4e50-ab0c-78d962e35431",
   "metadata": {},
   "outputs": [],
   "source": []
  }
 ],
 "metadata": {
  "availableInstances": [
   {
    "_defaultOrder": 0,
    "_isFastLaunch": true,
    "category": "General purpose",
    "gpuNum": 0,
    "hideHardwareSpecs": false,
    "memoryGiB": 4,
    "name": "ml.t3.medium",
    "vcpuNum": 2
   },
   {
    "_defaultOrder": 1,
    "_isFastLaunch": false,
    "category": "General purpose",
    "gpuNum": 0,
    "hideHardwareSpecs": false,
    "memoryGiB": 8,
    "name": "ml.t3.large",
    "vcpuNum": 2
   },
   {
    "_defaultOrder": 2,
    "_isFastLaunch": false,
    "category": "General purpose",
    "gpuNum": 0,
    "hideHardwareSpecs": false,
    "memoryGiB": 16,
    "name": "ml.t3.xlarge",
    "vcpuNum": 4
   },
   {
    "_defaultOrder": 3,
    "_isFastLaunch": false,
    "category": "General purpose",
    "gpuNum": 0,
    "hideHardwareSpecs": false,
    "memoryGiB": 32,
    "name": "ml.t3.2xlarge",
    "vcpuNum": 8
   },
   {
    "_defaultOrder": 4,
    "_isFastLaunch": true,
    "category": "General purpose",
    "gpuNum": 0,
    "hideHardwareSpecs": false,
    "memoryGiB": 8,
    "name": "ml.m5.large",
    "vcpuNum": 2
   },
   {
    "_defaultOrder": 5,
    "_isFastLaunch": false,
    "category": "General purpose",
    "gpuNum": 0,
    "hideHardwareSpecs": false,
    "memoryGiB": 16,
    "name": "ml.m5.xlarge",
    "vcpuNum": 4
   },
   {
    "_defaultOrder": 6,
    "_isFastLaunch": false,
    "category": "General purpose",
    "gpuNum": 0,
    "hideHardwareSpecs": false,
    "memoryGiB": 32,
    "name": "ml.m5.2xlarge",
    "vcpuNum": 8
   },
   {
    "_defaultOrder": 7,
    "_isFastLaunch": false,
    "category": "General purpose",
    "gpuNum": 0,
    "hideHardwareSpecs": false,
    "memoryGiB": 64,
    "name": "ml.m5.4xlarge",
    "vcpuNum": 16
   },
   {
    "_defaultOrder": 8,
    "_isFastLaunch": false,
    "category": "General purpose",
    "gpuNum": 0,
    "hideHardwareSpecs": false,
    "memoryGiB": 128,
    "name": "ml.m5.8xlarge",
    "vcpuNum": 32
   },
   {
    "_defaultOrder": 9,
    "_isFastLaunch": false,
    "category": "General purpose",
    "gpuNum": 0,
    "hideHardwareSpecs": false,
    "memoryGiB": 192,
    "name": "ml.m5.12xlarge",
    "vcpuNum": 48
   },
   {
    "_defaultOrder": 10,
    "_isFastLaunch": false,
    "category": "General purpose",
    "gpuNum": 0,
    "hideHardwareSpecs": false,
    "memoryGiB": 256,
    "name": "ml.m5.16xlarge",
    "vcpuNum": 64
   },
   {
    "_defaultOrder": 11,
    "_isFastLaunch": false,
    "category": "General purpose",
    "gpuNum": 0,
    "hideHardwareSpecs": false,
    "memoryGiB": 384,
    "name": "ml.m5.24xlarge",
    "vcpuNum": 96
   },
   {
    "_defaultOrder": 12,
    "_isFastLaunch": false,
    "category": "General purpose",
    "gpuNum": 0,
    "hideHardwareSpecs": false,
    "memoryGiB": 8,
    "name": "ml.m5d.large",
    "vcpuNum": 2
   },
   {
    "_defaultOrder": 13,
    "_isFastLaunch": false,
    "category": "General purpose",
    "gpuNum": 0,
    "hideHardwareSpecs": false,
    "memoryGiB": 16,
    "name": "ml.m5d.xlarge",
    "vcpuNum": 4
   },
   {
    "_defaultOrder": 14,
    "_isFastLaunch": false,
    "category": "General purpose",
    "gpuNum": 0,
    "hideHardwareSpecs": false,
    "memoryGiB": 32,
    "name": "ml.m5d.2xlarge",
    "vcpuNum": 8
   },
   {
    "_defaultOrder": 15,
    "_isFastLaunch": false,
    "category": "General purpose",
    "gpuNum": 0,
    "hideHardwareSpecs": false,
    "memoryGiB": 64,
    "name": "ml.m5d.4xlarge",
    "vcpuNum": 16
   },
   {
    "_defaultOrder": 16,
    "_isFastLaunch": false,
    "category": "General purpose",
    "gpuNum": 0,
    "hideHardwareSpecs": false,
    "memoryGiB": 128,
    "name": "ml.m5d.8xlarge",
    "vcpuNum": 32
   },
   {
    "_defaultOrder": 17,
    "_isFastLaunch": false,
    "category": "General purpose",
    "gpuNum": 0,
    "hideHardwareSpecs": false,
    "memoryGiB": 192,
    "name": "ml.m5d.12xlarge",
    "vcpuNum": 48
   },
   {
    "_defaultOrder": 18,
    "_isFastLaunch": false,
    "category": "General purpose",
    "gpuNum": 0,
    "hideHardwareSpecs": false,
    "memoryGiB": 256,
    "name": "ml.m5d.16xlarge",
    "vcpuNum": 64
   },
   {
    "_defaultOrder": 19,
    "_isFastLaunch": false,
    "category": "General purpose",
    "gpuNum": 0,
    "hideHardwareSpecs": false,
    "memoryGiB": 384,
    "name": "ml.m5d.24xlarge",
    "vcpuNum": 96
   },
   {
    "_defaultOrder": 20,
    "_isFastLaunch": false,
    "category": "General purpose",
    "gpuNum": 0,
    "hideHardwareSpecs": true,
    "memoryGiB": 0,
    "name": "ml.geospatial.interactive",
    "supportedImageNames": [
     "sagemaker-geospatial-v1-0"
    ],
    "vcpuNum": 0
   },
   {
    "_defaultOrder": 21,
    "_isFastLaunch": true,
    "category": "Compute optimized",
    "gpuNum": 0,
    "hideHardwareSpecs": false,
    "memoryGiB": 4,
    "name": "ml.c5.large",
    "vcpuNum": 2
   },
   {
    "_defaultOrder": 22,
    "_isFastLaunch": false,
    "category": "Compute optimized",
    "gpuNum": 0,
    "hideHardwareSpecs": false,
    "memoryGiB": 8,
    "name": "ml.c5.xlarge",
    "vcpuNum": 4
   },
   {
    "_defaultOrder": 23,
    "_isFastLaunch": false,
    "category": "Compute optimized",
    "gpuNum": 0,
    "hideHardwareSpecs": false,
    "memoryGiB": 16,
    "name": "ml.c5.2xlarge",
    "vcpuNum": 8
   },
   {
    "_defaultOrder": 24,
    "_isFastLaunch": false,
    "category": "Compute optimized",
    "gpuNum": 0,
    "hideHardwareSpecs": false,
    "memoryGiB": 32,
    "name": "ml.c5.4xlarge",
    "vcpuNum": 16
   },
   {
    "_defaultOrder": 25,
    "_isFastLaunch": false,
    "category": "Compute optimized",
    "gpuNum": 0,
    "hideHardwareSpecs": false,
    "memoryGiB": 72,
    "name": "ml.c5.9xlarge",
    "vcpuNum": 36
   },
   {
    "_defaultOrder": 26,
    "_isFastLaunch": false,
    "category": "Compute optimized",
    "gpuNum": 0,
    "hideHardwareSpecs": false,
    "memoryGiB": 96,
    "name": "ml.c5.12xlarge",
    "vcpuNum": 48
   },
   {
    "_defaultOrder": 27,
    "_isFastLaunch": false,
    "category": "Compute optimized",
    "gpuNum": 0,
    "hideHardwareSpecs": false,
    "memoryGiB": 144,
    "name": "ml.c5.18xlarge",
    "vcpuNum": 72
   },
   {
    "_defaultOrder": 28,
    "_isFastLaunch": false,
    "category": "Compute optimized",
    "gpuNum": 0,
    "hideHardwareSpecs": false,
    "memoryGiB": 192,
    "name": "ml.c5.24xlarge",
    "vcpuNum": 96
   },
   {
    "_defaultOrder": 29,
    "_isFastLaunch": true,
    "category": "Accelerated computing",
    "gpuNum": 1,
    "hideHardwareSpecs": false,
    "memoryGiB": 16,
    "name": "ml.g4dn.xlarge",
    "vcpuNum": 4
   },
   {
    "_defaultOrder": 30,
    "_isFastLaunch": false,
    "category": "Accelerated computing",
    "gpuNum": 1,
    "hideHardwareSpecs": false,
    "memoryGiB": 32,
    "name": "ml.g4dn.2xlarge",
    "vcpuNum": 8
   },
   {
    "_defaultOrder": 31,
    "_isFastLaunch": false,
    "category": "Accelerated computing",
    "gpuNum": 1,
    "hideHardwareSpecs": false,
    "memoryGiB": 64,
    "name": "ml.g4dn.4xlarge",
    "vcpuNum": 16
   },
   {
    "_defaultOrder": 32,
    "_isFastLaunch": false,
    "category": "Accelerated computing",
    "gpuNum": 1,
    "hideHardwareSpecs": false,
    "memoryGiB": 128,
    "name": "ml.g4dn.8xlarge",
    "vcpuNum": 32
   },
   {
    "_defaultOrder": 33,
    "_isFastLaunch": false,
    "category": "Accelerated computing",
    "gpuNum": 4,
    "hideHardwareSpecs": false,
    "memoryGiB": 192,
    "name": "ml.g4dn.12xlarge",
    "vcpuNum": 48
   },
   {
    "_defaultOrder": 34,
    "_isFastLaunch": false,
    "category": "Accelerated computing",
    "gpuNum": 1,
    "hideHardwareSpecs": false,
    "memoryGiB": 256,
    "name": "ml.g4dn.16xlarge",
    "vcpuNum": 64
   },
   {
    "_defaultOrder": 35,
    "_isFastLaunch": false,
    "category": "Accelerated computing",
    "gpuNum": 1,
    "hideHardwareSpecs": false,
    "memoryGiB": 61,
    "name": "ml.p3.2xlarge",
    "vcpuNum": 8
   },
   {
    "_defaultOrder": 36,
    "_isFastLaunch": false,
    "category": "Accelerated computing",
    "gpuNum": 4,
    "hideHardwareSpecs": false,
    "memoryGiB": 244,
    "name": "ml.p3.8xlarge",
    "vcpuNum": 32
   },
   {
    "_defaultOrder": 37,
    "_isFastLaunch": false,
    "category": "Accelerated computing",
    "gpuNum": 8,
    "hideHardwareSpecs": false,
    "memoryGiB": 488,
    "name": "ml.p3.16xlarge",
    "vcpuNum": 64
   },
   {
    "_defaultOrder": 38,
    "_isFastLaunch": false,
    "category": "Accelerated computing",
    "gpuNum": 8,
    "hideHardwareSpecs": false,
    "memoryGiB": 768,
    "name": "ml.p3dn.24xlarge",
    "vcpuNum": 96
   },
   {
    "_defaultOrder": 39,
    "_isFastLaunch": false,
    "category": "Memory Optimized",
    "gpuNum": 0,
    "hideHardwareSpecs": false,
    "memoryGiB": 16,
    "name": "ml.r5.large",
    "vcpuNum": 2
   },
   {
    "_defaultOrder": 40,
    "_isFastLaunch": false,
    "category": "Memory Optimized",
    "gpuNum": 0,
    "hideHardwareSpecs": false,
    "memoryGiB": 32,
    "name": "ml.r5.xlarge",
    "vcpuNum": 4
   },
   {
    "_defaultOrder": 41,
    "_isFastLaunch": false,
    "category": "Memory Optimized",
    "gpuNum": 0,
    "hideHardwareSpecs": false,
    "memoryGiB": 64,
    "name": "ml.r5.2xlarge",
    "vcpuNum": 8
   },
   {
    "_defaultOrder": 42,
    "_isFastLaunch": false,
    "category": "Memory Optimized",
    "gpuNum": 0,
    "hideHardwareSpecs": false,
    "memoryGiB": 128,
    "name": "ml.r5.4xlarge",
    "vcpuNum": 16
   },
   {
    "_defaultOrder": 43,
    "_isFastLaunch": false,
    "category": "Memory Optimized",
    "gpuNum": 0,
    "hideHardwareSpecs": false,
    "memoryGiB": 256,
    "name": "ml.r5.8xlarge",
    "vcpuNum": 32
   },
   {
    "_defaultOrder": 44,
    "_isFastLaunch": false,
    "category": "Memory Optimized",
    "gpuNum": 0,
    "hideHardwareSpecs": false,
    "memoryGiB": 384,
    "name": "ml.r5.12xlarge",
    "vcpuNum": 48
   },
   {
    "_defaultOrder": 45,
    "_isFastLaunch": false,
    "category": "Memory Optimized",
    "gpuNum": 0,
    "hideHardwareSpecs": false,
    "memoryGiB": 512,
    "name": "ml.r5.16xlarge",
    "vcpuNum": 64
   },
   {
    "_defaultOrder": 46,
    "_isFastLaunch": false,
    "category": "Memory Optimized",
    "gpuNum": 0,
    "hideHardwareSpecs": false,
    "memoryGiB": 768,
    "name": "ml.r5.24xlarge",
    "vcpuNum": 96
   },
   {
    "_defaultOrder": 47,
    "_isFastLaunch": false,
    "category": "Accelerated computing",
    "gpuNum": 1,
    "hideHardwareSpecs": false,
    "memoryGiB": 16,
    "name": "ml.g5.xlarge",
    "vcpuNum": 4
   },
   {
    "_defaultOrder": 48,
    "_isFastLaunch": false,
    "category": "Accelerated computing",
    "gpuNum": 1,
    "hideHardwareSpecs": false,
    "memoryGiB": 32,
    "name": "ml.g5.2xlarge",
    "vcpuNum": 8
   },
   {
    "_defaultOrder": 49,
    "_isFastLaunch": false,
    "category": "Accelerated computing",
    "gpuNum": 1,
    "hideHardwareSpecs": false,
    "memoryGiB": 64,
    "name": "ml.g5.4xlarge",
    "vcpuNum": 16
   },
   {
    "_defaultOrder": 50,
    "_isFastLaunch": false,
    "category": "Accelerated computing",
    "gpuNum": 1,
    "hideHardwareSpecs": false,
    "memoryGiB": 128,
    "name": "ml.g5.8xlarge",
    "vcpuNum": 32
   },
   {
    "_defaultOrder": 51,
    "_isFastLaunch": false,
    "category": "Accelerated computing",
    "gpuNum": 1,
    "hideHardwareSpecs": false,
    "memoryGiB": 256,
    "name": "ml.g5.16xlarge",
    "vcpuNum": 64
   },
   {
    "_defaultOrder": 52,
    "_isFastLaunch": false,
    "category": "Accelerated computing",
    "gpuNum": 4,
    "hideHardwareSpecs": false,
    "memoryGiB": 192,
    "name": "ml.g5.12xlarge",
    "vcpuNum": 48
   },
   {
    "_defaultOrder": 53,
    "_isFastLaunch": false,
    "category": "Accelerated computing",
    "gpuNum": 4,
    "hideHardwareSpecs": false,
    "memoryGiB": 384,
    "name": "ml.g5.24xlarge",
    "vcpuNum": 96
   },
   {
    "_defaultOrder": 54,
    "_isFastLaunch": false,
    "category": "Accelerated computing",
    "gpuNum": 8,
    "hideHardwareSpecs": false,
    "memoryGiB": 768,
    "name": "ml.g5.48xlarge",
    "vcpuNum": 192
   },
   {
    "_defaultOrder": 55,
    "_isFastLaunch": false,
    "category": "Accelerated computing",
    "gpuNum": 8,
    "hideHardwareSpecs": false,
    "memoryGiB": 1152,
    "name": "ml.p4d.24xlarge",
    "vcpuNum": 96
   },
   {
    "_defaultOrder": 56,
    "_isFastLaunch": false,
    "category": "Accelerated computing",
    "gpuNum": 8,
    "hideHardwareSpecs": false,
    "memoryGiB": 1152,
    "name": "ml.p4de.24xlarge",
    "vcpuNum": 96
   },
   {
    "_defaultOrder": 57,
    "_isFastLaunch": false,
    "category": "Accelerated computing",
    "gpuNum": 0,
    "hideHardwareSpecs": false,
    "memoryGiB": 32,
    "name": "ml.trn1.2xlarge",
    "vcpuNum": 8
   },
   {
    "_defaultOrder": 58,
    "_isFastLaunch": false,
    "category": "Accelerated computing",
    "gpuNum": 0,
    "hideHardwareSpecs": false,
    "memoryGiB": 512,
    "name": "ml.trn1.32xlarge",
    "vcpuNum": 128
   },
   {
    "_defaultOrder": 59,
    "_isFastLaunch": false,
    "category": "Accelerated computing",
    "gpuNum": 0,
    "hideHardwareSpecs": false,
    "memoryGiB": 512,
    "name": "ml.trn1n.32xlarge",
    "vcpuNum": 128
   }
  ],
  "instance_type": "ml.m5.large",
  "kernelspec": {
   "display_name": "conda_tensorflow2_p310",
   "language": "python",
   "name": "conda_tensorflow2_p310"
  },
  "language_info": {
   "codemirror_mode": {
    "name": "ipython",
    "version": 3
   },
   "file_extension": ".py",
   "mimetype": "text/x-python",
   "name": "python",
   "nbconvert_exporter": "python",
   "pygments_lexer": "ipython3",
   "version": "3.10.13"
  }
 },
 "nbformat": 4,
 "nbformat_minor": 5
}
