{
 "cells": [
  {
   "cell_type": "code",
   "execution_count": 1,
   "id": "a92d91d6-259d-4b58-9279-cb8b1bc2c149",
   "metadata": {
    "tags": []
   },
   "outputs": [
    {
     "name": "stdout",
     "output_type": "stream",
     "text": [
      "sagemaker.config INFO - Not applying SDK defaults from location: /etc/xdg/sagemaker/config.yaml\n",
      "sagemaker.config INFO - Not applying SDK defaults from location: /home/ec2-user/.config/sagemaker/config.yaml\n"
     ]
    }
   ],
   "source": [
    "from sagemaker.feature_store.feature_group import FeatureGroup\n",
    "import boto3\n",
    "import pandas as pd\n",
    "import numpy as np\n",
    "import io\n",
    "from sagemaker.session import Session\n",
    "from sagemaker import get_execution_role\n",
    "import matplotlib.pyplot as plt\n",
    "sagemaker_session = Session()\n",
    "\n",
    "feature_group = FeatureGroup(name = 'BtcPriceData')\n",
    "\n",
    "query = feature_group.athena_query()\n",
    "\n",
    "table = query.table_name\n",
    "table\n",
    "default_s3_bucket_name = 'binance-btc-prices'\n",
    "n_steps = 24"
   ]
  },
  {
   "cell_type": "code",
   "execution_count": 34,
   "id": "c9c77ea2-4c0e-4912-9193-6026f0c8e19b",
   "metadata": {
    "tags": []
   },
   "outputs": [],
   "source": [
    "q= f'''\n",
    "SELECT *\n",
    "FROM\n",
    "    (SELECT *,\n",
    "    row_number()\n",
    "    OVER\n",
    "        (PARTITION BY \"open_time\"\n",
    "        ORDER BY \"close_time\" DESC, Api_Invocation_Time DESC, write_time DESC)\n",
    "    AS row_number\n",
    "    FROM \"sagemaker_featurestore\".\"btcpricedata_1704246894\")\n",
    "WHERE row_number = 1 ORDER BY close_time desc limit {n_steps};\n",
    "'''"
   ]
  },
  {
   "cell_type": "code",
   "execution_count": 77,
   "id": "0f82833e-8ed3-4041-b027-0c0d83d66e7c",
   "metadata": {
    "tags": []
   },
   "outputs": [
    {
     "name": "stdout",
     "output_type": "stream",
     "text": [
      "2024-01-11 20:58:47,931 INFO: Query 5a695440-d116-471b-84fd-36cfb22d3bc2 is being executed.\n",
      "2024-01-11 20:58:52,985 INFO: Query 5a695440-d116-471b-84fd-36cfb22d3bc2 is being executed.\n",
      "2024-01-11 20:58:58,052 INFO: Query 5a695440-d116-471b-84fd-36cfb22d3bc2 is being executed.\n",
      "2024-01-11 20:59:03,095 INFO: Query 5a695440-d116-471b-84fd-36cfb22d3bc2 is being executed.\n",
      "2024-01-11 20:59:08,156 INFO: Query 5a695440-d116-471b-84fd-36cfb22d3bc2 is being executed.\n",
      "2024-01-11 20:59:13,206 INFO: Query 5a695440-d116-471b-84fd-36cfb22d3bc2 is being executed.\n",
      "2024-01-11 20:59:18,249 INFO: Query 5a695440-d116-471b-84fd-36cfb22d3bc2 is being executed.\n",
      "2024-01-11 20:59:23,295 INFO: Query 5a695440-d116-471b-84fd-36cfb22d3bc2 is being executed.\n",
      "2024-01-11 20:59:28,351 INFO: Query 5a695440-d116-471b-84fd-36cfb22d3bc2 is being executed.\n",
      "2024-01-11 20:59:33,395 INFO: Query 5a695440-d116-471b-84fd-36cfb22d3bc2 successfully executed.\n"
     ]
    }
   ],
   "source": [
    "# run Athena query. The output is loaded to a Pandas dataframe.\n",
    "dataset = pd.DataFrame()\n",
    "query.run(query_string=q, output_location='s3://'+default_s3_bucket_name+'/query_results/')\n",
    "query.wait()\n",
    "dataset = query.as_dataframe()"
   ]
  },
  {
   "cell_type": "code",
   "execution_count": 29,
   "id": "02e79d58-8754-409f-b889-27243a2d808e",
   "metadata": {
    "tags": []
   },
   "outputs": [
    {
     "name": "stdout",
     "output_type": "stream",
     "text": [
      "Connection closed.\n",
      "Connected. Call `.close()` to terminate connection gracefully.\n",
      "\n",
      "Multiple projects found. \n",
      "\n",
      "\t (1) DD2223_lab1\n",
      "\t (2) project0\n"
     ]
    },
    {
     "name": "stdin",
     "output_type": "stream",
     "text": [
      "\n",
      "Enter project to access:  1\n"
     ]
    },
    {
     "name": "stdout",
     "output_type": "stream",
     "text": [
      "\n",
      "Logged in to project, explore it here https://c.app.hopsworks.ai:443/p/206996\n"
     ]
    }
   ],
   "source": [
    "import hopsworks\n",
    "import joblib\n",
    "project = hopsworks.login()\n"
   ]
  },
  {
   "cell_type": "code",
   "execution_count": 5,
   "id": "47a4bd8f-afde-4a56-8003-fb44ee37399b",
   "metadata": {
    "tags": []
   },
   "outputs": [
    {
     "name": "stdout",
     "output_type": "stream",
     "text": [
      "Connected. Call `.close()` to terminate connection gracefully.\n",
      "Downloading model artifact (1 dirs, 2 files)... DONE\r"
     ]
    }
   ],
   "source": [
    "mr = project.get_model_registry()\n",
    "model = mr.get_model(\"mlpModel\", version=2)\n",
    "model_dir = model.download()\n",
    "#model = joblib.load(model_dir + \"/lstm_model.h5\")"
   ]
  },
  {
   "cell_type": "code",
   "execution_count": 6,
   "id": "cb576707-84b9-4454-aa71-1c472f440a96",
   "metadata": {
    "tags": []
   },
   "outputs": [
    {
     "data": {
      "text/plain": [
       "['model_schema.json', 'mlp.keras', '.ipynb_checkpoints']"
      ]
     },
     "execution_count": 6,
     "metadata": {},
     "output_type": "execute_result"
    }
   ],
   "source": [
    "import os\n",
    "os.listdir(model_dir)"
   ]
  },
  {
   "cell_type": "code",
   "execution_count": 7,
   "id": "7d01f1c9-dda8-4a03-81d9-1c896b390ceb",
   "metadata": {
    "tags": []
   },
   "outputs": [
    {
     "data": {
      "text/plain": [
       "<keras.src.engine.sequential.Sequential at 0x7f6be34f9510>"
      ]
     },
     "execution_count": 7,
     "metadata": {},
     "output_type": "execute_result"
    }
   ],
   "source": [
    "from tensorflow.keras.models import load_model\n",
    "# Load the model\n",
    "model = load_model(os.path.join(model_dir,'mlp.keras' ))#+ '/lstm_model.h5'))"
   ]
  },
  {
   "cell_type": "code",
   "execution_count": 44,
   "id": "f417bf17-f90d-4940-be61-3ceaa7e7708d",
   "metadata": {
    "tags": []
   },
   "outputs": [
    {
     "data": {
      "text/plain": [
       "array([46501.89, 46298.02, 46318.01, 46388.21, 46452.17, 46479.63,\n",
       "       46617.  , 46553.27, 46484.01, 46522.15, 46609.99, 46479.16,\n",
       "       46481.11, 46438.27, 46374.28, 46339.49, 46534.02, 46553.  ,\n",
       "       46600.  , 46612.98, 46701.21, 46581.99, 46692.3 , 46747.87])"
      ]
     },
     "execution_count": 44,
     "metadata": {},
     "output_type": "execute_result"
    }
   ],
   "source": [
    "initial_sequence = np.array(dataset.close_price)[::-1]"
   ]
  },
  {
   "cell_type": "code",
   "execution_count": 45,
   "id": "4164f12d-3a2e-4f8d-9488-9e10e8c5c26a",
   "metadata": {
    "tags": []
   },
   "outputs": [
    {
     "data": {
      "text/plain": [
       "[46755.996,\n",
       " 46785.223,\n",
       " 46811.35,\n",
       " 46847.332,\n",
       " 46868.508,\n",
       " 46903.176,\n",
       " 46929.86,\n",
       " 46958.582,\n",
       " 46986.824,\n",
       " 47019.38,\n",
       " 47051.113,\n",
       " 47075.043]"
      ]
     },
     "execution_count": 45,
     "metadata": {},
     "output_type": "execute_result"
    }
   ],
   "source": [
    "def predict_hours(model,initial_sequence, h = 6):\n",
    "    recursive_preds = []\n",
    "    for i in range(h * 12):\n",
    "        input_ = initial_sequence.reshape(1,n_steps)\n",
    "        pred = model.predict(input_,verbose = 0)[0][0]\n",
    "        recursive_preds.append(pred)\n",
    "        initial_sequence = np.append(initial_sequence,pred)[-n_steps:]\n",
    "        #print(initial_sequence)\n",
    "    return recursive_preds\n",
    "preds = predict_hours(model, initial_sequence, h = 1)"
   ]
  },
  {
   "cell_type": "code",
   "execution_count": 114,
   "id": "73bcc707-f147-4796-97c5-e90b7be8f78e",
   "metadata": {
    "tags": []
   },
   "outputs": [],
   "source": [
    "from datetime import datetime, timedelta\n",
    "dates = [ int((pd.to_datetime(dataset['open_time'][0],unit = 'ms') + timedelta(minutes = 5 * i)).timestamp() * 1000) for i in range(1,13)]\n"
   ]
  },
  {
   "cell_type": "code",
   "execution_count": 129,
   "id": "85481573-3fd7-4b91-b963-e1d94dbc3dc1",
   "metadata": {
    "tags": []
   },
   "outputs": [
    {
     "data": {
      "text/html": [
       "<div>\n",
       "<style scoped>\n",
       "    .dataframe tbody tr th:only-of-type {\n",
       "        vertical-align: middle;\n",
       "    }\n",
       "\n",
       "    .dataframe tbody tr th {\n",
       "        vertical-align: top;\n",
       "    }\n",
       "\n",
       "    .dataframe thead th {\n",
       "        text-align: right;\n",
       "    }\n",
       "</style>\n",
       "<table border=\"1\" class=\"dataframe\">\n",
       "  <thead>\n",
       "    <tr style=\"text-align: right;\">\n",
       "      <th></th>\n",
       "      <th>price_predictions</th>\n",
       "      <th>timestamp</th>\n",
       "    </tr>\n",
       "  </thead>\n",
       "  <tbody>\n",
       "    <tr>\n",
       "      <th>0</th>\n",
       "      <td>46755.996094</td>\n",
       "      <td>1705003500000</td>\n",
       "    </tr>\n",
       "    <tr>\n",
       "      <th>1</th>\n",
       "      <td>46785.222656</td>\n",
       "      <td>1705003800000</td>\n",
       "    </tr>\n",
       "    <tr>\n",
       "      <th>2</th>\n",
       "      <td>46811.351562</td>\n",
       "      <td>1705004100000</td>\n",
       "    </tr>\n",
       "    <tr>\n",
       "      <th>3</th>\n",
       "      <td>46847.332031</td>\n",
       "      <td>1705004400000</td>\n",
       "    </tr>\n",
       "    <tr>\n",
       "      <th>4</th>\n",
       "      <td>46868.507812</td>\n",
       "      <td>1705004700000</td>\n",
       "    </tr>\n",
       "    <tr>\n",
       "      <th>5</th>\n",
       "      <td>46903.175781</td>\n",
       "      <td>1705005000000</td>\n",
       "    </tr>\n",
       "    <tr>\n",
       "      <th>6</th>\n",
       "      <td>46929.859375</td>\n",
       "      <td>1705005300000</td>\n",
       "    </tr>\n",
       "    <tr>\n",
       "      <th>7</th>\n",
       "      <td>46958.582031</td>\n",
       "      <td>1705005600000</td>\n",
       "    </tr>\n",
       "    <tr>\n",
       "      <th>8</th>\n",
       "      <td>46986.824219</td>\n",
       "      <td>1705005900000</td>\n",
       "    </tr>\n",
       "    <tr>\n",
       "      <th>9</th>\n",
       "      <td>47019.378906</td>\n",
       "      <td>1705006200000</td>\n",
       "    </tr>\n",
       "    <tr>\n",
       "      <th>10</th>\n",
       "      <td>47051.113281</td>\n",
       "      <td>1705006500000</td>\n",
       "    </tr>\n",
       "    <tr>\n",
       "      <th>11</th>\n",
       "      <td>47075.042969</td>\n",
       "      <td>1705006800000</td>\n",
       "    </tr>\n",
       "  </tbody>\n",
       "</table>\n",
       "</div>"
      ],
      "text/plain": [
       "    price_predictions      timestamp\n",
       "0        46755.996094  1705003500000\n",
       "1        46785.222656  1705003800000\n",
       "2        46811.351562  1705004100000\n",
       "3        46847.332031  1705004400000\n",
       "4        46868.507812  1705004700000\n",
       "5        46903.175781  1705005000000\n",
       "6        46929.859375  1705005300000\n",
       "7        46958.582031  1705005600000\n",
       "8        46986.824219  1705005900000\n",
       "9        47019.378906  1705006200000\n",
       "10       47051.113281  1705006500000\n",
       "11       47075.042969  1705006800000"
      ]
     },
     "execution_count": 129,
     "metadata": {},
     "output_type": "execute_result"
    }
   ],
   "source": [
    "df = pd.DataFrame(data = {'price_predictions':preds,'timestamp':dates})\n",
    "df"
   ]
  },
  {
   "cell_type": "code",
   "execution_count": 130,
   "id": "29af4021-b74f-49e4-a026-3ef7757661b3",
   "metadata": {
    "tags": []
   },
   "outputs": [
    {
     "name": "stdout",
     "output_type": "stream",
     "text": [
      "2024-01-11 21:38:08,239 INFO: Found credentials from IAM Role: BaseNotebookInstanceEc2InstanceRole\n",
      "2024-01-11 21:38:08,454 INFO: Found credentials from IAM Role: BaseNotebookInstanceEc2InstanceRole\n",
      "2024-01-11 21:38:08,456 INFO: Found credentials from IAM Role: BaseNotebookInstanceEc2InstanceRole\n",
      "2024-01-11 21:38:09,310 INFO: Started ingesting index 6 to 12\n",
      "2024-01-11 21:38:09,312 INFO: Started ingesting index 0 to 6\n",
      "2024-01-11 21:38:09,481 INFO: Successfully ingested row 0 to 6\n",
      "2024-01-11 21:38:09,522 INFO: Successfully ingested row 6 to 12\n"
     ]
    },
    {
     "data": {
      "text/plain": [
       "IngestionManagerPandas(feature_group_name='btc-price-predictions', sagemaker_fs_runtime_client_config=<botocore.config.Config object at 0x7f6c4b94a470>, sagemaker_session=<sagemaker.session.Session object at 0x7f6787c889d0>, max_workers=2, max_processes=1, profile_name=None, _async_result=<multiprocess.pool.MapResult object at 0x7f6b2d1ce7d0>, _processing_pool=<pool ProcessPool(ncpus=1)>, _failed_indices=[])"
      ]
     },
     "execution_count": 130,
     "metadata": {},
     "output_type": "execute_result"
    }
   ],
   "source": [
    "feature_group = FeatureGroup(name = 'btc-price-predictions')\n",
    "feature_group.ingest(data_frame=df, max_workers=2, wait=True)"
   ]
  },
  {
   "cell_type": "code",
   "execution_count": null,
   "id": "78450601-f89f-4eb2-b6ee-2538811cacb6",
   "metadata": {},
   "outputs": [],
   "source": []
  }
 ],
 "metadata": {
  "kernelspec": {
   "display_name": "conda_tensorflow2_p310",
   "language": "python",
   "name": "conda_tensorflow2_p310"
  },
  "language_info": {
   "codemirror_mode": {
    "name": "ipython",
    "version": 3
   },
   "file_extension": ".py",
   "mimetype": "text/x-python",
   "name": "python",
   "nbconvert_exporter": "python",
   "pygments_lexer": "ipython3",
   "version": "3.10.13"
  }
 },
 "nbformat": 4,
 "nbformat_minor": 5
}
