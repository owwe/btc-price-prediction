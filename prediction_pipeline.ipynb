{
 "cells": [
  {
   "cell_type": "code",
   "execution_count": 64,
   "id": "a92d91d6-259d-4b58-9279-cb8b1bc2c149",
   "metadata": {
    "tags": []
   },
   "outputs": [
    {
     "name": "stdout",
     "output_type": "stream",
     "text": [
      "2024-01-10 00:37:46,696 INFO: Found credentials from IAM Role: BaseNotebookInstanceEc2InstanceRole\n",
      "2024-01-10 00:37:46,836 INFO: Found credentials from IAM Role: BaseNotebookInstanceEc2InstanceRole\n"
     ]
    }
   ],
   "source": [
    "from sagemaker.feature_store.feature_group import FeatureGroup\n",
    "import boto3\n",
    "import pandas as pd\n",
    "import numpy as np\n",
    "import io\n",
    "from sagemaker.session import Session\n",
    "from sagemaker import get_execution_role\n",
    "sagemaker_session = Session()\n",
    "\n",
    "feature_group = FeatureGroup(name = 'BtcPriceData')\n",
    "\n",
    "query = feature_group.athena_query()\n",
    "\n",
    "table = query.table_name\n",
    "table\n",
    "default_s3_bucket_name = 'binance-btc-prices'\n",
    "n_steps = 10"
   ]
  },
  {
   "cell_type": "code",
   "execution_count": 65,
   "id": "c9c77ea2-4c0e-4912-9193-6026f0c8e19b",
   "metadata": {
    "tags": []
   },
   "outputs": [],
   "source": [
    "q= f'''\n",
    "SELECT *\n",
    "FROM\n",
    "    (SELECT *,\n",
    "    row_number()\n",
    "    OVER\n",
    "        (PARTITION BY \"open_time\"\n",
    "        ORDER BY \"close_time\" DESC, Api_Invocation_Time DESC, write_time DESC)\n",
    "    AS row_number\n",
    "    FROM \"sagemaker_featurestore\".\"btcpricedata_1704246894\")\n",
    "WHERE row_number = 1 ORDER BY close_time desc limit {n_steps};\n",
    "'''"
   ]
  },
  {
   "cell_type": "code",
   "execution_count": 66,
   "id": "0f82833e-8ed3-4041-b027-0c0d83d66e7c",
   "metadata": {
    "tags": []
   },
   "outputs": [
    {
     "name": "stdout",
     "output_type": "stream",
     "text": [
      "2024-01-10 00:37:49,214 INFO: Query 71dca273-c44e-41ac-aaea-5ed45188ddd3 is being executed.\n",
      "2024-01-10 00:37:54,267 INFO: Query 71dca273-c44e-41ac-aaea-5ed45188ddd3 is being executed.\n",
      "2024-01-10 00:37:59,321 INFO: Query 71dca273-c44e-41ac-aaea-5ed45188ddd3 is being executed.\n",
      "2024-01-10 00:38:04,380 INFO: Query 71dca273-c44e-41ac-aaea-5ed45188ddd3 is being executed.\n",
      "2024-01-10 00:38:09,424 INFO: Query 71dca273-c44e-41ac-aaea-5ed45188ddd3 is being executed.\n",
      "2024-01-10 00:38:14,480 INFO: Query 71dca273-c44e-41ac-aaea-5ed45188ddd3 is being executed.\n",
      "2024-01-10 00:38:19,526 INFO: Query 71dca273-c44e-41ac-aaea-5ed45188ddd3 is being executed.\n",
      "2024-01-10 00:38:24,570 INFO: Query 71dca273-c44e-41ac-aaea-5ed45188ddd3 is being executed.\n",
      "2024-01-10 00:38:29,613 INFO: Query 71dca273-c44e-41ac-aaea-5ed45188ddd3 successfully executed.\n"
     ]
    }
   ],
   "source": [
    "# run Athena query. The output is loaded to a Pandas dataframe.\n",
    "dataset = pd.DataFrame()\n",
    "query.run(query_string=q, output_location='s3://'+default_s3_bucket_name+'/query_results/')\n",
    "query.wait()\n",
    "dataset = query.as_dataframe()"
   ]
  },
  {
   "cell_type": "code",
   "execution_count": 56,
   "id": "02e79d58-8754-409f-b889-27243a2d808e",
   "metadata": {
    "tags": []
   },
   "outputs": [
    {
     "name": "stdout",
     "output_type": "stream",
     "text": [
      "Connection closed.\n",
      "Connected. Call `.close()` to terminate connection gracefully.\n",
      "\n",
      "Multiple projects found. \n",
      "\n",
      "\t (1) DD2223_lab1\n",
      "\t (2) project0\n"
     ]
    },
    {
     "name": "stdin",
     "output_type": "stream",
     "text": [
      "\n",
      "Enter project to access:  1\n"
     ]
    },
    {
     "name": "stdout",
     "output_type": "stream",
     "text": [
      "\n",
      "Logged in to project, explore it here https://c.app.hopsworks.ai:443/p/206996\n"
     ]
    }
   ],
   "source": [
    "import hopsworks\n",
    "import joblib\n",
    "project = hopsworks.login()\n"
   ]
  },
  {
   "cell_type": "code",
   "execution_count": 60,
   "id": "47a4bd8f-afde-4a56-8003-fb44ee37399b",
   "metadata": {
    "tags": []
   },
   "outputs": [
    {
     "name": "stdout",
     "output_type": "stream",
     "text": [
      "Connected. Call `.close()` to terminate connection gracefully.\n",
      "Downloading model artifact (0 dirs, 2 files)... DONE\r"
     ]
    }
   ],
   "source": [
    "mr = project.get_model_registry()\n",
    "model = mr.get_model(\"lstmModel\", version=3)\n",
    "model_dir = model.download()\n",
    "#model = joblib.load(model_dir + \"/lstm_model.h5\")"
   ]
  },
  {
   "cell_type": "code",
   "execution_count": 61,
   "id": "cb576707-84b9-4454-aa71-1c472f440a96",
   "metadata": {
    "tags": []
   },
   "outputs": [
    {
     "data": {
      "text/plain": [
       "['model_schema.json', 'lstm_model.h5']"
      ]
     },
     "execution_count": 61,
     "metadata": {},
     "output_type": "execute_result"
    }
   ],
   "source": [
    "import os\n",
    "os.listdir(model_dir)"
   ]
  },
  {
   "cell_type": "code",
   "execution_count": 62,
   "id": "356cd868-d73a-43bd-9f3d-b7cdba582ae8",
   "metadata": {
    "tags": []
   },
   "outputs": [
    {
     "data": {
      "text/plain": [
       "'/tmp/7a941799-82cf-4662-a561-01d7ac828818/lstmModel/3'"
      ]
     },
     "execution_count": 62,
     "metadata": {},
     "output_type": "execute_result"
    }
   ],
   "source": [
    "model_dir"
   ]
  },
  {
   "cell_type": "code",
   "execution_count": 63,
   "id": "7d01f1c9-dda8-4a03-81d9-1c896b390ceb",
   "metadata": {
    "tags": []
   },
   "outputs": [
    {
     "data": {
      "text/plain": [
       "<keras.engine.sequential.Sequential at 0x7f9266078790>"
      ]
     },
     "execution_count": 63,
     "metadata": {},
     "output_type": "execute_result"
    }
   ],
   "source": [
    "from tensorflow.keras.models import load_model\n",
    "# Load the model\n",
    "model = load_model(os.path.join(model_dir,'lstm_model.h5' ))#+ '/lstm_model.h5'))\n",
    "model"
   ]
  },
  {
   "cell_type": "code",
   "execution_count": 102,
   "id": "f417bf17-f90d-4940-be61-3ceaa7e7708d",
   "metadata": {
    "tags": []
   },
   "outputs": [
    {
     "data": {
      "text/plain": [
       "array([[46920.91, 46944.  , 47060.  , 47099.99, 47031.18, 47040.  ,\n",
       "        43929.02, 43858.24, 43773.54, 43619.99]])"
      ]
     },
     "execution_count": 102,
     "metadata": {},
     "output_type": "execute_result"
    }
   ],
   "source": [
    "initial_sequence = np.array(dataset.close_price)"
   ]
  },
  {
   "cell_type": "code",
   "execution_count": 105,
   "id": "4164f12d-3a2e-4f8d-9488-9e10e8c5c26a",
   "metadata": {
    "tags": []
   },
   "outputs": [
    {
     "data": {
      "text/plain": [
       "[27794.285,\n",
       " 27794.285,\n",
       " 27794.285,\n",
       " 27794.285,\n",
       " 27794.285,\n",
       " 27794.285,\n",
       " 27794.285,\n",
       " 27794.285,\n",
       " 27794.285,\n",
       " 27794.285,\n",
       " 27794.285,\n",
       " 27794.285,\n",
       " 27794.285,\n",
       " 27794.285,\n",
       " 27794.285,\n",
       " 27794.285,\n",
       " 27794.285,\n",
       " 27794.285,\n",
       " 27794.285,\n",
       " 27794.285,\n",
       " 27794.285,\n",
       " 27794.285,\n",
       " 27794.285,\n",
       " 27794.285,\n",
       " 27794.285,\n",
       " 27794.285,\n",
       " 27794.285,\n",
       " 27794.285,\n",
       " 27794.285,\n",
       " 27794.285,\n",
       " 27794.285,\n",
       " 27794.285,\n",
       " 27794.285,\n",
       " 27794.285,\n",
       " 27794.285,\n",
       " 27794.285,\n",
       " 27794.285,\n",
       " 27794.285,\n",
       " 27794.285,\n",
       " 27794.285,\n",
       " 27794.285,\n",
       " 27794.285,\n",
       " 27794.285,\n",
       " 27794.285,\n",
       " 27794.285,\n",
       " 27794.285,\n",
       " 27794.285,\n",
       " 27794.285,\n",
       " 27794.285,\n",
       " 27794.285,\n",
       " 27794.285,\n",
       " 27794.285,\n",
       " 27794.285,\n",
       " 27794.285,\n",
       " 27794.285,\n",
       " 27794.285,\n",
       " 27794.285,\n",
       " 27794.285,\n",
       " 27794.285,\n",
       " 27794.285,\n",
       " 27794.285,\n",
       " 27794.285,\n",
       " 27794.285,\n",
       " 27794.285,\n",
       " 27794.285,\n",
       " 27794.285,\n",
       " 27794.285,\n",
       " 27794.285,\n",
       " 27794.285,\n",
       " 27794.285,\n",
       " 27794.285,\n",
       " 27794.285]"
      ]
     },
     "execution_count": 105,
     "metadata": {},
     "output_type": "execute_result"
    }
   ],
   "source": [
    "def predict_hours(initial_sequence, h = 6):\n",
    "    recursive_preds = []\n",
    "    initial_sequence = np.array(dataset.close_price)\n",
    "    for i in range(h * 12):\n",
    "        input_ = initial_sequence.reshape(1,10)\n",
    "        pred = model.predict(input_,verbose = 0)[0][0]\n",
    "        recursive_preds.append(pred)\n",
    "        initial_sequence = np.append(initial_sequence,pred)[-10:]\n",
    "    return recursive_preds\n",
    "predict_hours(initial_sequence)"
   ]
  },
  {
   "cell_type": "code",
   "execution_count": null,
   "id": "bda03068-40b8-4d72-8d08-7cdef93bd3d9",
   "metadata": {},
   "outputs": [],
   "source": []
  }
 ],
 "metadata": {
  "kernelspec": {
   "display_name": "conda_tensorflow2_p310",
   "language": "python",
   "name": "conda_tensorflow2_p310"
  },
  "language_info": {
   "codemirror_mode": {
    "name": "ipython",
    "version": 3
   },
   "file_extension": ".py",
   "mimetype": "text/x-python",
   "name": "python",
   "nbconvert_exporter": "python",
   "pygments_lexer": "ipython3",
   "version": "3.10.13"
  }
 },
 "nbformat": 4,
 "nbformat_minor": 5
}
