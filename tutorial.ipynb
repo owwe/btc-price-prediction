{
 "cells": [
  {
   "cell_type": "code",
   "execution_count": 1,
   "id": "cd829692-cc9d-4101-90b4-a88cf30c3394",
   "metadata": {
    "tags": []
   },
   "outputs": [],
   "source": [
    "q= '''\n",
    "SELECT *\n",
    "FROM\n",
    "    (SELECT *,\n",
    "    row_number()\n",
    "    OVER\n",
    "        (PARTITION BY \"open_time\"\n",
    "        ORDER BY \"close_time\" DESC, Api_Invocation_Time DESC, write_time DESC)\n",
    "    AS row_number\n",
    "    FROM \"sagemaker_featurestore\".\"btcpricedata_1704246894\")\n",
    "WHERE row_number = 1 ORDER BY close_time ASC limit 10000;\n",
    "'''"
   ]
  },
  {
   "cell_type": "code",
   "execution_count": 2,
   "id": "eb323516-c248-474d-9dec-f47a9ce6dbbd",
   "metadata": {
    "tags": []
   },
   "outputs": [
    {
     "name": "stdout",
     "output_type": "stream",
     "text": [
      "sagemaker.config INFO - Not applying SDK defaults from location: /etc/xdg/sagemaker/config.yaml\n",
      "sagemaker.config INFO - Not applying SDK defaults from location: /home/ec2-user/.config/sagemaker/config.yaml\n"
     ]
    }
   ],
   "source": [
    "from sagemaker.feature_store.feature_group import FeatureGroup\n",
    "import boto3\n",
    "import pandas as pd\n",
    "import numpy as np\n",
    "import io\n",
    "from sagemaker.session import Session\n",
    "from sagemaker import get_execution_role\n",
    "sagemaker_session = Session()\n",
    "\n",
    "feature_group = FeatureGroup(name = 'BtcPriceData')\n",
    "\n",
    "query = feature_group.athena_query()\n",
    "\n",
    "table = query.table_name\n",
    "table\n",
    "default_s3_bucket_name = 'binance-btc-prices'"
   ]
  },
  {
   "cell_type": "code",
   "execution_count": 3,
   "id": "7022dc43-7863-466e-a27e-2fbbedd644c2",
   "metadata": {
    "tags": []
   },
   "outputs": [],
   "source": [
    "\n",
    "# run Athena query. The output is loaded to a Pandas dataframe.\n",
    "dataset = pd.DataFrame()\n",
    "query.run(query_string=q, output_location='s3://'+default_s3_bucket_name+'/query_results/')\n",
    "query.wait()\n",
    "dataset = query.as_dataframe()"
   ]
  },
  {
   "cell_type": "code",
   "execution_count": 4,
   "id": "c8c33bf0-f572-486e-a208-3946edd69109",
   "metadata": {
    "tags": []
   },
   "outputs": [
    {
     "data": {
      "text/html": [
       "<div>\n",
       "<style scoped>\n",
       "    .dataframe tbody tr th:only-of-type {\n",
       "        vertical-align: middle;\n",
       "    }\n",
       "\n",
       "    .dataframe tbody tr th {\n",
       "        vertical-align: top;\n",
       "    }\n",
       "\n",
       "    .dataframe thead th {\n",
       "        text-align: right;\n",
       "    }\n",
       "</style>\n",
       "<table border=\"1\" class=\"dataframe\">\n",
       "  <thead>\n",
       "    <tr style=\"text-align: right;\">\n",
       "      <th></th>\n",
       "      <th>open_time</th>\n",
       "      <th>high_price</th>\n",
       "      <th>low_price</th>\n",
       "      <th>close_price</th>\n",
       "      <th>volume</th>\n",
       "      <th>close_time</th>\n",
       "      <th>quote_asset_volume</th>\n",
       "      <th>number_of_trades</th>\n",
       "      <th>taker_buy_base_asset_volume</th>\n",
       "      <th>open_price</th>\n",
       "      <th>write_time</th>\n",
       "      <th>api_invocation_time</th>\n",
       "      <th>is_deleted</th>\n",
       "      <th>row_number</th>\n",
       "    </tr>\n",
       "  </thead>\n",
       "  <tbody>\n",
       "    <tr>\n",
       "      <th>0</th>\n",
       "      <td>2019-09-09 00:00:00</td>\n",
       "      <td>10392.41</td>\n",
       "      <td>10376.45</td>\n",
       "      <td>10390.08</td>\n",
       "      <td>27.884150</td>\n",
       "      <td>1.567987e+09</td>\n",
       "      <td>289616.874870</td>\n",
       "      <td>626.0</td>\n",
       "      <td>12.492958</td>\n",
       "      <td>10381.24</td>\n",
       "      <td>2024-01-08 18:11:09.934</td>\n",
       "      <td>2024-01-08 18:05:58.000</td>\n",
       "      <td>False</td>\n",
       "      <td>1</td>\n",
       "    </tr>\n",
       "    <tr>\n",
       "      <th>1</th>\n",
       "      <td>2019-09-09 00:05:00</td>\n",
       "      <td>10393.94</td>\n",
       "      <td>10368.87</td>\n",
       "      <td>10372.31</td>\n",
       "      <td>36.750216</td>\n",
       "      <td>1.567988e+09</td>\n",
       "      <td>381470.813473</td>\n",
       "      <td>614.0</td>\n",
       "      <td>22.195335</td>\n",
       "      <td>10390.74</td>\n",
       "      <td>2024-01-08 18:11:07.429</td>\n",
       "      <td>2024-01-08 18:05:58.000</td>\n",
       "      <td>False</td>\n",
       "      <td>1</td>\n",
       "    </tr>\n",
       "    <tr>\n",
       "      <th>2</th>\n",
       "      <td>2019-09-09 00:10:00</td>\n",
       "      <td>10386.24</td>\n",
       "      <td>10368.88</td>\n",
       "      <td>10374.20</td>\n",
       "      <td>38.888045</td>\n",
       "      <td>1.567988e+09</td>\n",
       "      <td>403560.679883</td>\n",
       "      <td>640.0</td>\n",
       "      <td>19.145836</td>\n",
       "      <td>10372.31</td>\n",
       "      <td>2024-01-08 18:11:30.173</td>\n",
       "      <td>2024-01-08 18:05:58.000</td>\n",
       "      <td>False</td>\n",
       "      <td>1</td>\n",
       "    </tr>\n",
       "    <tr>\n",
       "      <th>3</th>\n",
       "      <td>2019-09-09 00:15:00</td>\n",
       "      <td>10387.83</td>\n",
       "      <td>10368.89</td>\n",
       "      <td>10384.89</td>\n",
       "      <td>24.997683</td>\n",
       "      <td>1.567988e+09</td>\n",
       "      <td>259393.681444</td>\n",
       "      <td>712.0</td>\n",
       "      <td>11.799247</td>\n",
       "      <td>10374.18</td>\n",
       "      <td>2024-01-08 18:11:10.880</td>\n",
       "      <td>2024-01-08 18:05:58.000</td>\n",
       "      <td>False</td>\n",
       "      <td>1</td>\n",
       "    </tr>\n",
       "    <tr>\n",
       "      <th>4</th>\n",
       "      <td>2019-09-09 00:20:00</td>\n",
       "      <td>10396.00</td>\n",
       "      <td>10382.40</td>\n",
       "      <td>10394.20</td>\n",
       "      <td>18.551736</td>\n",
       "      <td>1.567989e+09</td>\n",
       "      <td>192759.198389</td>\n",
       "      <td>571.0</td>\n",
       "      <td>9.729698</td>\n",
       "      <td>10386.25</td>\n",
       "      <td>2024-01-08 18:11:06.932</td>\n",
       "      <td>2024-01-08 18:05:58.000</td>\n",
       "      <td>False</td>\n",
       "      <td>1</td>\n",
       "    </tr>\n",
       "    <tr>\n",
       "      <th>...</th>\n",
       "      <td>...</td>\n",
       "      <td>...</td>\n",
       "      <td>...</td>\n",
       "      <td>...</td>\n",
       "      <td>...</td>\n",
       "      <td>...</td>\n",
       "      <td>...</td>\n",
       "      <td>...</td>\n",
       "      <td>...</td>\n",
       "      <td>...</td>\n",
       "      <td>...</td>\n",
       "      <td>...</td>\n",
       "      <td>...</td>\n",
       "      <td>...</td>\n",
       "    </tr>\n",
       "    <tr>\n",
       "      <th>9995</th>\n",
       "      <td>2019-10-13 16:55:00</td>\n",
       "      <td>8424.95</td>\n",
       "      <td>8419.00</td>\n",
       "      <td>8422.15</td>\n",
       "      <td>48.320004</td>\n",
       "      <td>1.570986e+09</td>\n",
       "      <td>406930.812989</td>\n",
       "      <td>802.0</td>\n",
       "      <td>26.893385</td>\n",
       "      <td>8420.66</td>\n",
       "      <td>2024-01-08 18:11:03.819</td>\n",
       "      <td>2024-01-08 18:07:11.000</td>\n",
       "      <td>False</td>\n",
       "      <td>1</td>\n",
       "    </tr>\n",
       "    <tr>\n",
       "      <th>9996</th>\n",
       "      <td>2019-10-13 17:00:00</td>\n",
       "      <td>8437.15</td>\n",
       "      <td>8421.07</td>\n",
       "      <td>8423.15</td>\n",
       "      <td>86.248372</td>\n",
       "      <td>1.570986e+09</td>\n",
       "      <td>726802.562882</td>\n",
       "      <td>1100.0</td>\n",
       "      <td>45.301036</td>\n",
       "      <td>8422.95</td>\n",
       "      <td>2024-01-08 18:08:21.381</td>\n",
       "      <td>2024-01-08 18:07:11.000</td>\n",
       "      <td>False</td>\n",
       "      <td>1</td>\n",
       "    </tr>\n",
       "    <tr>\n",
       "      <th>9997</th>\n",
       "      <td>2019-10-13 17:05:00</td>\n",
       "      <td>8431.42</td>\n",
       "      <td>8421.13</td>\n",
       "      <td>8426.14</td>\n",
       "      <td>72.286456</td>\n",
       "      <td>1.570987e+09</td>\n",
       "      <td>609133.602427</td>\n",
       "      <td>1028.0</td>\n",
       "      <td>45.706006</td>\n",
       "      <td>8421.13</td>\n",
       "      <td>2024-01-08 18:11:01.366</td>\n",
       "      <td>2024-01-08 18:07:11.000</td>\n",
       "      <td>False</td>\n",
       "      <td>1</td>\n",
       "    </tr>\n",
       "    <tr>\n",
       "      <th>9998</th>\n",
       "      <td>2019-10-13 17:10:00</td>\n",
       "      <td>8441.25</td>\n",
       "      <td>8424.96</td>\n",
       "      <td>8441.25</td>\n",
       "      <td>90.897383</td>\n",
       "      <td>1.570987e+09</td>\n",
       "      <td>766786.673574</td>\n",
       "      <td>1683.0</td>\n",
       "      <td>61.283856</td>\n",
       "      <td>8426.14</td>\n",
       "      <td>2024-01-08 18:10:56.602</td>\n",
       "      <td>2024-01-08 18:07:11.000</td>\n",
       "      <td>False</td>\n",
       "      <td>1</td>\n",
       "    </tr>\n",
       "    <tr>\n",
       "      <th>9999</th>\n",
       "      <td>2019-10-13 17:15:00</td>\n",
       "      <td>8441.62</td>\n",
       "      <td>8429.41</td>\n",
       "      <td>8433.98</td>\n",
       "      <td>48.688050</td>\n",
       "      <td>1.570987e+09</td>\n",
       "      <td>410689.756943</td>\n",
       "      <td>772.0</td>\n",
       "      <td>20.400953</td>\n",
       "      <td>8440.72</td>\n",
       "      <td>2024-01-08 18:11:00.787</td>\n",
       "      <td>2024-01-08 18:07:11.000</td>\n",
       "      <td>False</td>\n",
       "      <td>1</td>\n",
       "    </tr>\n",
       "  </tbody>\n",
       "</table>\n",
       "<p>10000 rows × 14 columns</p>\n",
       "</div>"
      ],
      "text/plain": [
       "                open_time  high_price  low_price  close_price     volume  \\\n",
       "0     2019-09-09 00:00:00    10392.41   10376.45     10390.08  27.884150   \n",
       "1     2019-09-09 00:05:00    10393.94   10368.87     10372.31  36.750216   \n",
       "2     2019-09-09 00:10:00    10386.24   10368.88     10374.20  38.888045   \n",
       "3     2019-09-09 00:15:00    10387.83   10368.89     10384.89  24.997683   \n",
       "4     2019-09-09 00:20:00    10396.00   10382.40     10394.20  18.551736   \n",
       "...                   ...         ...        ...          ...        ...   \n",
       "9995  2019-10-13 16:55:00     8424.95    8419.00      8422.15  48.320004   \n",
       "9996  2019-10-13 17:00:00     8437.15    8421.07      8423.15  86.248372   \n",
       "9997  2019-10-13 17:05:00     8431.42    8421.13      8426.14  72.286456   \n",
       "9998  2019-10-13 17:10:00     8441.25    8424.96      8441.25  90.897383   \n",
       "9999  2019-10-13 17:15:00     8441.62    8429.41      8433.98  48.688050   \n",
       "\n",
       "        close_time  quote_asset_volume  number_of_trades  \\\n",
       "0     1.567987e+09       289616.874870             626.0   \n",
       "1     1.567988e+09       381470.813473             614.0   \n",
       "2     1.567988e+09       403560.679883             640.0   \n",
       "3     1.567988e+09       259393.681444             712.0   \n",
       "4     1.567989e+09       192759.198389             571.0   \n",
       "...            ...                 ...               ...   \n",
       "9995  1.570986e+09       406930.812989             802.0   \n",
       "9996  1.570986e+09       726802.562882            1100.0   \n",
       "9997  1.570987e+09       609133.602427            1028.0   \n",
       "9998  1.570987e+09       766786.673574            1683.0   \n",
       "9999  1.570987e+09       410689.756943             772.0   \n",
       "\n",
       "      taker_buy_base_asset_volume  open_price               write_time  \\\n",
       "0                       12.492958    10381.24  2024-01-08 18:11:09.934   \n",
       "1                       22.195335    10390.74  2024-01-08 18:11:07.429   \n",
       "2                       19.145836    10372.31  2024-01-08 18:11:30.173   \n",
       "3                       11.799247    10374.18  2024-01-08 18:11:10.880   \n",
       "4                        9.729698    10386.25  2024-01-08 18:11:06.932   \n",
       "...                           ...         ...                      ...   \n",
       "9995                    26.893385     8420.66  2024-01-08 18:11:03.819   \n",
       "9996                    45.301036     8422.95  2024-01-08 18:08:21.381   \n",
       "9997                    45.706006     8421.13  2024-01-08 18:11:01.366   \n",
       "9998                    61.283856     8426.14  2024-01-08 18:10:56.602   \n",
       "9999                    20.400953     8440.72  2024-01-08 18:11:00.787   \n",
       "\n",
       "          api_invocation_time  is_deleted  row_number  \n",
       "0     2024-01-08 18:05:58.000       False           1  \n",
       "1     2024-01-08 18:05:58.000       False           1  \n",
       "2     2024-01-08 18:05:58.000       False           1  \n",
       "3     2024-01-08 18:05:58.000       False           1  \n",
       "4     2024-01-08 18:05:58.000       False           1  \n",
       "...                       ...         ...         ...  \n",
       "9995  2024-01-08 18:07:11.000       False           1  \n",
       "9996  2024-01-08 18:07:11.000       False           1  \n",
       "9997  2024-01-08 18:07:11.000       False           1  \n",
       "9998  2024-01-08 18:07:11.000       False           1  \n",
       "9999  2024-01-08 18:07:11.000       False           1  \n",
       "\n",
       "[10000 rows x 14 columns]"
      ]
     },
     "execution_count": 4,
     "metadata": {},
     "output_type": "execute_result"
    }
   ],
   "source": [
    "dataset['open_time'] = pd.to_datetime(dataset['open_time'], unit='ms').dt.strftime('%Y-%m-%d %T')\n",
    "dataset"
   ]
  },
  {
   "cell_type": "code",
   "execution_count": 8,
   "id": "78646be2-7d31-4e2b-8238-5704f323ae19",
   "metadata": {
    "tags": []
   },
   "outputs": [],
   "source": [
    "dataset.set_index('open_time',inplace = True)"
   ]
  },
  {
   "cell_type": "code",
   "execution_count": 21,
   "id": "b9b53e56-f480-4449-a10b-33a231af67e7",
   "metadata": {
    "tags": []
   },
   "outputs": [
    {
     "data": {
      "text/html": [
       "<div>\n",
       "<style scoped>\n",
       "    .dataframe tbody tr th:only-of-type {\n",
       "        vertical-align: middle;\n",
       "    }\n",
       "\n",
       "    .dataframe tbody tr th {\n",
       "        vertical-align: top;\n",
       "    }\n",
       "\n",
       "    .dataframe thead th {\n",
       "        text-align: right;\n",
       "    }\n",
       "</style>\n",
       "<table border=\"1\" class=\"dataframe\">\n",
       "  <thead>\n",
       "    <tr style=\"text-align: right;\">\n",
       "      <th></th>\n",
       "      <th>high_price</th>\n",
       "      <th>low_price</th>\n",
       "      <th>close_price</th>\n",
       "      <th>volume</th>\n",
       "      <th>close_time</th>\n",
       "      <th>quote_asset_volume</th>\n",
       "      <th>number_of_trades</th>\n",
       "      <th>taker_buy_base_asset_volume</th>\n",
       "      <th>open_price</th>\n",
       "      <th>write_time</th>\n",
       "      <th>api_invocation_time</th>\n",
       "      <th>is_deleted</th>\n",
       "      <th>row_number</th>\n",
       "    </tr>\n",
       "    <tr>\n",
       "      <th>open_time</th>\n",
       "      <th></th>\n",
       "      <th></th>\n",
       "      <th></th>\n",
       "      <th></th>\n",
       "      <th></th>\n",
       "      <th></th>\n",
       "      <th></th>\n",
       "      <th></th>\n",
       "      <th></th>\n",
       "      <th></th>\n",
       "      <th></th>\n",
       "      <th></th>\n",
       "      <th></th>\n",
       "    </tr>\n",
       "  </thead>\n",
       "  <tbody>\n",
       "    <tr>\n",
       "      <th>2019-09-09 00:00:00</th>\n",
       "      <td>10392.41</td>\n",
       "      <td>10376.45</td>\n",
       "      <td>10390.08</td>\n",
       "      <td>27.884150</td>\n",
       "      <td>1.567987e+09</td>\n",
       "      <td>289616.874870</td>\n",
       "      <td>626.0</td>\n",
       "      <td>12.492958</td>\n",
       "      <td>10381.24</td>\n",
       "      <td>2024-01-08 18:11:09.934</td>\n",
       "      <td>2024-01-08 18:05:58.000</td>\n",
       "      <td>False</td>\n",
       "      <td>1</td>\n",
       "    </tr>\n",
       "    <tr>\n",
       "      <th>2019-09-09 00:05:00</th>\n",
       "      <td>10393.94</td>\n",
       "      <td>10368.87</td>\n",
       "      <td>10372.31</td>\n",
       "      <td>36.750216</td>\n",
       "      <td>1.567988e+09</td>\n",
       "      <td>381470.813473</td>\n",
       "      <td>614.0</td>\n",
       "      <td>22.195335</td>\n",
       "      <td>10390.74</td>\n",
       "      <td>2024-01-08 18:11:07.429</td>\n",
       "      <td>2024-01-08 18:05:58.000</td>\n",
       "      <td>False</td>\n",
       "      <td>1</td>\n",
       "    </tr>\n",
       "    <tr>\n",
       "      <th>2019-09-09 00:10:00</th>\n",
       "      <td>10386.24</td>\n",
       "      <td>10368.88</td>\n",
       "      <td>10374.20</td>\n",
       "      <td>38.888045</td>\n",
       "      <td>1.567988e+09</td>\n",
       "      <td>403560.679883</td>\n",
       "      <td>640.0</td>\n",
       "      <td>19.145836</td>\n",
       "      <td>10372.31</td>\n",
       "      <td>2024-01-08 18:11:30.173</td>\n",
       "      <td>2024-01-08 18:05:58.000</td>\n",
       "      <td>False</td>\n",
       "      <td>1</td>\n",
       "    </tr>\n",
       "    <tr>\n",
       "      <th>2019-09-09 00:15:00</th>\n",
       "      <td>10387.83</td>\n",
       "      <td>10368.89</td>\n",
       "      <td>10384.89</td>\n",
       "      <td>24.997683</td>\n",
       "      <td>1.567988e+09</td>\n",
       "      <td>259393.681444</td>\n",
       "      <td>712.0</td>\n",
       "      <td>11.799247</td>\n",
       "      <td>10374.18</td>\n",
       "      <td>2024-01-08 18:11:10.880</td>\n",
       "      <td>2024-01-08 18:05:58.000</td>\n",
       "      <td>False</td>\n",
       "      <td>1</td>\n",
       "    </tr>\n",
       "    <tr>\n",
       "      <th>2019-09-09 00:20:00</th>\n",
       "      <td>10396.00</td>\n",
       "      <td>10382.40</td>\n",
       "      <td>10394.20</td>\n",
       "      <td>18.551736</td>\n",
       "      <td>1.567989e+09</td>\n",
       "      <td>192759.198389</td>\n",
       "      <td>571.0</td>\n",
       "      <td>9.729698</td>\n",
       "      <td>10386.25</td>\n",
       "      <td>2024-01-08 18:11:06.932</td>\n",
       "      <td>2024-01-08 18:05:58.000</td>\n",
       "      <td>False</td>\n",
       "      <td>1</td>\n",
       "    </tr>\n",
       "    <tr>\n",
       "      <th>...</th>\n",
       "      <td>...</td>\n",
       "      <td>...</td>\n",
       "      <td>...</td>\n",
       "      <td>...</td>\n",
       "      <td>...</td>\n",
       "      <td>...</td>\n",
       "      <td>...</td>\n",
       "      <td>...</td>\n",
       "      <td>...</td>\n",
       "      <td>...</td>\n",
       "      <td>...</td>\n",
       "      <td>...</td>\n",
       "      <td>...</td>\n",
       "    </tr>\n",
       "    <tr>\n",
       "      <th>2019-10-13 16:55:00</th>\n",
       "      <td>8424.95</td>\n",
       "      <td>8419.00</td>\n",
       "      <td>8422.15</td>\n",
       "      <td>48.320004</td>\n",
       "      <td>1.570986e+09</td>\n",
       "      <td>406930.812989</td>\n",
       "      <td>802.0</td>\n",
       "      <td>26.893385</td>\n",
       "      <td>8420.66</td>\n",
       "      <td>2024-01-08 18:11:03.819</td>\n",
       "      <td>2024-01-08 18:07:11.000</td>\n",
       "      <td>False</td>\n",
       "      <td>1</td>\n",
       "    </tr>\n",
       "    <tr>\n",
       "      <th>2019-10-13 17:00:00</th>\n",
       "      <td>8437.15</td>\n",
       "      <td>8421.07</td>\n",
       "      <td>8423.15</td>\n",
       "      <td>86.248372</td>\n",
       "      <td>1.570986e+09</td>\n",
       "      <td>726802.562882</td>\n",
       "      <td>1100.0</td>\n",
       "      <td>45.301036</td>\n",
       "      <td>8422.95</td>\n",
       "      <td>2024-01-08 18:08:21.381</td>\n",
       "      <td>2024-01-08 18:07:11.000</td>\n",
       "      <td>False</td>\n",
       "      <td>1</td>\n",
       "    </tr>\n",
       "    <tr>\n",
       "      <th>2019-10-13 17:05:00</th>\n",
       "      <td>8431.42</td>\n",
       "      <td>8421.13</td>\n",
       "      <td>8426.14</td>\n",
       "      <td>72.286456</td>\n",
       "      <td>1.570987e+09</td>\n",
       "      <td>609133.602427</td>\n",
       "      <td>1028.0</td>\n",
       "      <td>45.706006</td>\n",
       "      <td>8421.13</td>\n",
       "      <td>2024-01-08 18:11:01.366</td>\n",
       "      <td>2024-01-08 18:07:11.000</td>\n",
       "      <td>False</td>\n",
       "      <td>1</td>\n",
       "    </tr>\n",
       "    <tr>\n",
       "      <th>2019-10-13 17:10:00</th>\n",
       "      <td>8441.25</td>\n",
       "      <td>8424.96</td>\n",
       "      <td>8441.25</td>\n",
       "      <td>90.897383</td>\n",
       "      <td>1.570987e+09</td>\n",
       "      <td>766786.673574</td>\n",
       "      <td>1683.0</td>\n",
       "      <td>61.283856</td>\n",
       "      <td>8426.14</td>\n",
       "      <td>2024-01-08 18:10:56.602</td>\n",
       "      <td>2024-01-08 18:07:11.000</td>\n",
       "      <td>False</td>\n",
       "      <td>1</td>\n",
       "    </tr>\n",
       "    <tr>\n",
       "      <th>2019-10-13 17:15:00</th>\n",
       "      <td>8441.62</td>\n",
       "      <td>8429.41</td>\n",
       "      <td>8433.98</td>\n",
       "      <td>48.688050</td>\n",
       "      <td>1.570987e+09</td>\n",
       "      <td>410689.756943</td>\n",
       "      <td>772.0</td>\n",
       "      <td>20.400953</td>\n",
       "      <td>8440.72</td>\n",
       "      <td>2024-01-08 18:11:00.787</td>\n",
       "      <td>2024-01-08 18:07:11.000</td>\n",
       "      <td>False</td>\n",
       "      <td>1</td>\n",
       "    </tr>\n",
       "  </tbody>\n",
       "</table>\n",
       "<p>10000 rows × 13 columns</p>\n",
       "</div>"
      ],
      "text/plain": [
       "                     high_price  low_price  close_price     volume  \\\n",
       "open_time                                                            \n",
       "2019-09-09 00:00:00    10392.41   10376.45     10390.08  27.884150   \n",
       "2019-09-09 00:05:00    10393.94   10368.87     10372.31  36.750216   \n",
       "2019-09-09 00:10:00    10386.24   10368.88     10374.20  38.888045   \n",
       "2019-09-09 00:15:00    10387.83   10368.89     10384.89  24.997683   \n",
       "2019-09-09 00:20:00    10396.00   10382.40     10394.20  18.551736   \n",
       "...                         ...        ...          ...        ...   \n",
       "2019-10-13 16:55:00     8424.95    8419.00      8422.15  48.320004   \n",
       "2019-10-13 17:00:00     8437.15    8421.07      8423.15  86.248372   \n",
       "2019-10-13 17:05:00     8431.42    8421.13      8426.14  72.286456   \n",
       "2019-10-13 17:10:00     8441.25    8424.96      8441.25  90.897383   \n",
       "2019-10-13 17:15:00     8441.62    8429.41      8433.98  48.688050   \n",
       "\n",
       "                       close_time  quote_asset_volume  number_of_trades  \\\n",
       "open_time                                                                 \n",
       "2019-09-09 00:00:00  1.567987e+09       289616.874870             626.0   \n",
       "2019-09-09 00:05:00  1.567988e+09       381470.813473             614.0   \n",
       "2019-09-09 00:10:00  1.567988e+09       403560.679883             640.0   \n",
       "2019-09-09 00:15:00  1.567988e+09       259393.681444             712.0   \n",
       "2019-09-09 00:20:00  1.567989e+09       192759.198389             571.0   \n",
       "...                           ...                 ...               ...   \n",
       "2019-10-13 16:55:00  1.570986e+09       406930.812989             802.0   \n",
       "2019-10-13 17:00:00  1.570986e+09       726802.562882            1100.0   \n",
       "2019-10-13 17:05:00  1.570987e+09       609133.602427            1028.0   \n",
       "2019-10-13 17:10:00  1.570987e+09       766786.673574            1683.0   \n",
       "2019-10-13 17:15:00  1.570987e+09       410689.756943             772.0   \n",
       "\n",
       "                     taker_buy_base_asset_volume  open_price  \\\n",
       "open_time                                                      \n",
       "2019-09-09 00:00:00                    12.492958    10381.24   \n",
       "2019-09-09 00:05:00                    22.195335    10390.74   \n",
       "2019-09-09 00:10:00                    19.145836    10372.31   \n",
       "2019-09-09 00:15:00                    11.799247    10374.18   \n",
       "2019-09-09 00:20:00                     9.729698    10386.25   \n",
       "...                                          ...         ...   \n",
       "2019-10-13 16:55:00                    26.893385     8420.66   \n",
       "2019-10-13 17:00:00                    45.301036     8422.95   \n",
       "2019-10-13 17:05:00                    45.706006     8421.13   \n",
       "2019-10-13 17:10:00                    61.283856     8426.14   \n",
       "2019-10-13 17:15:00                    20.400953     8440.72   \n",
       "\n",
       "                                  write_time      api_invocation_time  \\\n",
       "open_time                                                               \n",
       "2019-09-09 00:00:00  2024-01-08 18:11:09.934  2024-01-08 18:05:58.000   \n",
       "2019-09-09 00:05:00  2024-01-08 18:11:07.429  2024-01-08 18:05:58.000   \n",
       "2019-09-09 00:10:00  2024-01-08 18:11:30.173  2024-01-08 18:05:58.000   \n",
       "2019-09-09 00:15:00  2024-01-08 18:11:10.880  2024-01-08 18:05:58.000   \n",
       "2019-09-09 00:20:00  2024-01-08 18:11:06.932  2024-01-08 18:05:58.000   \n",
       "...                                      ...                      ...   \n",
       "2019-10-13 16:55:00  2024-01-08 18:11:03.819  2024-01-08 18:07:11.000   \n",
       "2019-10-13 17:00:00  2024-01-08 18:08:21.381  2024-01-08 18:07:11.000   \n",
       "2019-10-13 17:05:00  2024-01-08 18:11:01.366  2024-01-08 18:07:11.000   \n",
       "2019-10-13 17:10:00  2024-01-08 18:10:56.602  2024-01-08 18:07:11.000   \n",
       "2019-10-13 17:15:00  2024-01-08 18:11:00.787  2024-01-08 18:07:11.000   \n",
       "\n",
       "                     is_deleted  row_number  \n",
       "open_time                                    \n",
       "2019-09-09 00:00:00       False           1  \n",
       "2019-09-09 00:05:00       False           1  \n",
       "2019-09-09 00:10:00       False           1  \n",
       "2019-09-09 00:15:00       False           1  \n",
       "2019-09-09 00:20:00       False           1  \n",
       "...                         ...         ...  \n",
       "2019-10-13 16:55:00       False           1  \n",
       "2019-10-13 17:00:00       False           1  \n",
       "2019-10-13 17:05:00       False           1  \n",
       "2019-10-13 17:10:00       False           1  \n",
       "2019-10-13 17:15:00       False           1  \n",
       "\n",
       "[10000 rows x 13 columns]"
      ]
     },
     "execution_count": 21,
     "metadata": {},
     "output_type": "execute_result"
    }
   ],
   "source": [
    "dataset"
   ]
  },
  {
   "cell_type": "code",
   "execution_count": 23,
   "id": "ef5ad93d-7cb3-4f4b-b99c-4f5afe839792",
   "metadata": {
    "tags": []
   },
   "outputs": [
    {
     "data": {
      "text/plain": [
       "[<matplotlib.lines.Line2D at 0x7f01cb63b730>]"
      ]
     },
     "execution_count": 23,
     "metadata": {},
     "output_type": "execute_result"
    },
    {
     "data": {
      "image/png": "[encoded data removed]",
      "text/plain": [
       "<Figure size 640x480 with 1 Axes>"
      ]
     },
     "metadata": {},
     "output_type": "display_data"
    }
   ],
   "source": [
    "import matplotlib.pyplot as plt\n",
    "plt.plot(dataset.index, dataset.close_price)"
   ]
  },
  {
   "cell_type": "code",
   "execution_count": 158,
   "id": "faf992cc-36ec-4a99-bfcd-f0f307eee933",
   "metadata": {
    "tags": []
   },
   "outputs": [],
   "source": [
    "df = pd.read_csv('btc.csv')\n",
    "df.close_time = pd.to_datetime(df.close_time)\n",
    "df.close_time = df.close_time.dt.strftime(\"%Y-%m-%d\")\n",
    "df.sort_values(by = 'close_time',ascending =True)\n",
    "df.set_index('close_time',inplace = True)"
   ]
  },
  {
   "cell_type": "code",
   "execution_count": 159,
   "id": "4011b3d9-b3b5-40c0-9cd0-810f2448ba1f",
   "metadata": {
    "tags": []
   },
   "outputs": [],
   "source": [
    "df = df.close"
   ]
  },
  {
   "cell_type": "code",
   "execution_count": 160,
   "id": "654c3fe2-a661-4489-bb23-633e20b233f4",
   "metadata": {
    "tags": []
   },
   "outputs": [
    {
     "data": {
      "text/plain": [
       "close_time\n",
       "2018-01-01    13380.00\n",
       "2018-01-02    14675.11\n",
       "2018-01-03    14919.51\n",
       "2018-01-04    15059.54\n",
       "2018-01-05    16960.39\n",
       "                ...   \n",
       "2023-12-14    43022.26\n",
       "2023-12-15    41940.30\n",
       "2023-12-16    42278.03\n",
       "2023-12-17    41718.89\n",
       "2023-12-18    41327.70\n",
       "Name: close, Length: 2178, dtype: float64"
      ]
     },
     "execution_count": 160,
     "metadata": {},
     "output_type": "execute_result"
    }
   ],
   "source": [
    "df"
   ]
  },
  {
   "cell_type": "code",
   "execution_count": 161,
   "id": "aee7af13-30a9-4faa-967e-66c5ceadcd0f",
   "metadata": {
    "tags": []
   },
   "outputs": [],
   "source": [
    "n_steps = 4\n",
    "acc = []\n",
    "for i in range(len(df) - n_steps + 1):\n",
    "    temp = pd.DataFrame()\n",
    "    line = list(df[i: i+ n_steps ].values)\n",
    "    line.insert(0,df.index[i+ n_steps - 1])\n",
    "    acc.append(line)\n",
    "    "
   ]
  },
  {
   "cell_type": "code",
   "execution_count": 162,
   "id": "a98e6e54-8929-45ce-b2e1-b1f43ea3ca2f",
   "metadata": {
    "tags": []
   },
   "outputs": [
    {
     "data": {
      "text/plain": [
       "['2023-12-18', 41940.3, 42278.03, 41718.89, 41327.7]"
      ]
     },
     "execution_count": 162,
     "metadata": {},
     "output_type": "execute_result"
    }
   ],
   "source": [
    "line"
   ]
  },
  {
   "cell_type": "code",
   "execution_count": 163,
   "id": "ddaa37b2-1f54-4b6a-9116-2a2660ea06e1",
   "metadata": {
    "tags": []
   },
   "outputs": [],
   "source": [
    "df = pd.DataFrame(data = acc,columns = ['target_date','t-3','t-2','t-1','t'])\n",
    "df.set_index('target_date',inplace = True)"
   ]
  },
  {
   "cell_type": "code",
   "execution_count": 164,
   "id": "633a510d-c42b-4b1d-89e1-8728987bafc1",
   "metadata": {
    "tags": []
   },
   "outputs": [],
   "source": [
    "X = df[['t-3','t-2','t-1']].to_numpy().reshape(X.shape[0],n_steps - 1,1)\n",
    "dates = df.index\n",
    "y = df['t'].to_numpy()\n"
   ]
  },
  {
   "cell_type": "code",
   "execution_count": 165,
   "id": "211c28b1-b7c1-4199-8370-a224c09d196e",
   "metadata": {
    "tags": []
   },
   "outputs": [
    {
     "data": {
      "text/plain": [
       "((2175, 3, 1), (2175,), (2175,))"
      ]
     },
     "execution_count": 165,
     "metadata": {},
     "output_type": "execute_result"
    }
   ],
   "source": [
    "X.shape, dates.shape, y.shape"
   ]
  },
  {
   "cell_type": "code",
   "execution_count": 166,
   "id": "c620d64b-c0f2-45ef-853d-f1c51580ea8a",
   "metadata": {
    "tags": []
   },
   "outputs": [
    {
     "data": {
      "text/plain": [
       "<matplotlib.legend.Legend at 0x7f008eb35360>"
      ]
     },
     "execution_count": 166,
     "metadata": {},
     "output_type": "execute_result"
    },
    {
     "data": {
      "image/png": "[encoded data removed]",
      "text/plain": [
       "<Figure size 640x480 with 1 Axes>"
      ]
     },
     "metadata": {},
     "output_type": "display_data"
    }
   ],
   "source": [
    "q_80 = int(len(dates) * .8)\n",
    "q_90 = int(len(dates) * .9)\n",
    "\n",
    "dates_train, X_train, y_train = dates[:q_80], X[:q_80], y[:q_80]\n",
    "\n",
    "dates_val, X_val, y_val = dates[q_80:q_90], X[q_80:q_90], y[q_80:q_90]\n",
    "dates_test, X_test, y_test = dates[q_90:], X[q_90:], y[q_90:]\n",
    "\n",
    "plt.plot(dates_train, y_train)\n",
    "plt.plot(dates_val, y_val)\n",
    "plt.plot(dates_test, y_test)\n",
    "\n",
    "plt.legend(['Train', 'Validation', 'Test'])"
   ]
  },
  {
   "cell_type": "code",
   "execution_count": 172,
   "id": "999e0745-8052-4eb2-93c3-243fdfcfef2a",
   "metadata": {
    "tags": []
   },
   "outputs": [
    {
     "data": {
      "text/plain": [
       "(1740, 3, 1)"
      ]
     },
     "execution_count": 172,
     "metadata": {},
     "output_type": "execute_result"
    }
   ],
   "source": [
    "X_train.shape"
   ]
  },
  {
   "cell_type": "code",
   "execution_count": 174,
   "id": "3964fdb7-26ac-4a12-b7c9-a471c6668017",
   "metadata": {
    "scrolled": true,
    "tags": []
   },
   "outputs": [
    {
     "name": "stdout",
     "output_type": "stream",
     "text": [
      "Epoch 1/100\n",
      "55/55 [==============================] - 3s 11ms/step - loss: 719692224.0000 - mean_absolute_error: 20439.6855 - val_loss: 509596256.0000 - val_mean_absolute_error: 22114.9219\n",
      "Epoch 2/100\n",
      "55/55 [==============================] - 0s 4ms/step - loss: 719551744.0000 - mean_absolute_error: 20436.2676 - val_loss: 509344320.0000 - val_mean_absolute_error: 22109.2227\n",
      "Epoch 3/100\n",
      "55/55 [==============================] - 0s 4ms/step - loss: 719145664.0000 - mean_absolute_error: 20426.2871 - val_loss: 508649248.0000 - val_mean_absolute_error: 22093.4980\n",
      "Epoch 4/100\n",
      "55/55 [==============================] - 0s 4ms/step - loss: 718170176.0000 - mean_absolute_error: 20402.6055 - val_loss: 507162784.0000 - val_mean_absolute_error: 22059.8340\n",
      "Epoch 5/100\n",
      "55/55 [==============================] - 0s 4ms/step - loss: 716328384.0000 - mean_absolute_error: 20357.8105 - val_loss: 504610624.0000 - val_mean_absolute_error: 22001.9121\n",
      "Epoch 6/100\n",
      "55/55 [==============================] - 0s 4ms/step - loss: 713382656.0000 - mean_absolute_error: 20285.1641 - val_loss: 500690048.0000 - val_mean_absolute_error: 21912.6367\n",
      "Epoch 7/100\n",
      "55/55 [==============================] - 0s 4ms/step - loss: 709089856.0000 - mean_absolute_error: 20178.2754 - val_loss: 495197088.0000 - val_mean_absolute_error: 21786.9355\n",
      "Epoch 8/100\n",
      "55/55 [==============================] - 0s 4ms/step - loss: 703257088.0000 - mean_absolute_error: 20033.3906 - val_loss: 487943904.0000 - val_mean_absolute_error: 21619.8379\n",
      "Epoch 9/100\n",
      "55/55 [==============================] - 0s 4ms/step - loss: 695741312.0000 - mean_absolute_error: 19842.7773 - val_loss: 478755264.0000 - val_mean_absolute_error: 21406.2793\n",
      "Epoch 10/100\n",
      "55/55 [==============================] - 0s 4ms/step - loss: 686364608.0000 - mean_absolute_error: 19606.0312 - val_loss: 467550688.0000 - val_mean_absolute_error: 21142.9453\n",
      "Epoch 11/100\n",
      "55/55 [==============================] - 0s 4ms/step - loss: 675047168.0000 - mean_absolute_error: 19318.2988 - val_loss: 454283328.0000 - val_mean_absolute_error: 20826.8281\n",
      "Epoch 12/100\n",
      "55/55 [==============================] - 0s 4ms/step - loss: 661797056.0000 - mean_absolute_error: 18973.9004 - val_loss: 438797600.0000 - val_mean_absolute_error: 20451.6777\n",
      "Epoch 13/100\n",
      "55/55 [==============================] - 0s 4ms/step - loss: 646635520.0000 - mean_absolute_error: 18563.7832 - val_loss: 421047840.0000 - val_mean_absolute_error: 20013.0273\n",
      "Epoch 14/100\n",
      "55/55 [==============================] - 0s 4ms/step - loss: 629667904.0000 - mean_absolute_error: 18110.3125 - val_loss: 401746464.0000 - val_mean_absolute_error: 19524.8555\n",
      "Epoch 15/100\n",
      "55/55 [==============================] - 0s 4ms/step - loss: 611253376.0000 - mean_absolute_error: 17579.0547 - val_loss: 380367616.0000 - val_mean_absolute_error: 18969.4785\n",
      "Epoch 16/100\n",
      "55/55 [==============================] - 0s 4ms/step - loss: 591122624.0000 - mean_absolute_error: 17011.8828 - val_loss: 357801536.0000 - val_mean_absolute_error: 18365.0488\n",
      "Epoch 17/100\n",
      "55/55 [==============================] - 0s 4ms/step - loss: 569885440.0000 - mean_absolute_error: 16422.2754 - val_loss: 333910784.0000 - val_mean_absolute_error: 17702.6621\n",
      "Epoch 18/100\n",
      "55/55 [==============================] - 0s 4ms/step - loss: 547663616.0000 - mean_absolute_error: 15826.5186 - val_loss: 308680192.0000 - val_mean_absolute_error: 16975.0879\n",
      "Epoch 19/100\n",
      "55/55 [==============================] - 0s 4ms/step - loss: 524873536.0000 - mean_absolute_error: 15217.6699 - val_loss: 283510816.0000 - val_mean_absolute_error: 16216.7910\n",
      "Epoch 20/100\n",
      "55/55 [==============================] - 0s 4ms/step - loss: 502050176.0000 - mean_absolute_error: 14590.1475 - val_loss: 257626304.0000 - val_mean_absolute_error: 15398.0439\n",
      "Epoch 21/100\n",
      "55/55 [==============================] - 0s 4ms/step - loss: 479051104.0000 - mean_absolute_error: 14053.6348 - val_loss: 231125840.0000 - val_mean_absolute_error: 14512.0400\n",
      "Epoch 22/100\n",
      "55/55 [==============================] - 0s 4ms/step - loss: 454928832.0000 - mean_absolute_error: 13596.7852 - val_loss: 204025040.0000 - val_mean_absolute_error: 13546.1611\n",
      "Epoch 23/100\n",
      "55/55 [==============================] - 0s 4ms/step - loss: 431836128.0000 - mean_absolute_error: 13273.1895 - val_loss: 178765152.0000 - val_mean_absolute_error: 12579.2949\n",
      "Epoch 24/100\n",
      "55/55 [==============================] - 0s 4ms/step - loss: 410394080.0000 - mean_absolute_error: 13114.6035 - val_loss: 154383840.0000 - val_mean_absolute_error: 11569.6729\n",
      "Epoch 25/100\n",
      "55/55 [==============================] - 0s 4ms/step - loss: 390695680.0000 - mean_absolute_error: 13112.5381 - val_loss: 132729728.0000 - val_mean_absolute_error: 10592.6016\n",
      "Epoch 26/100\n",
      "55/55 [==============================] - 0s 4ms/step - loss: 373060096.0000 - mean_absolute_error: 13206.5400 - val_loss: 112791176.0000 - val_mean_absolute_error: 9605.4482\n",
      "Epoch 27/100\n",
      "55/55 [==============================] - 0s 4ms/step - loss: 357803808.0000 - mean_absolute_error: 13365.0127 - val_loss: 95308072.0000 - val_mean_absolute_error: 8647.6328\n",
      "Epoch 28/100\n",
      "55/55 [==============================] - 0s 4ms/step - loss: 344783648.0000 - mean_absolute_error: 13531.4609 - val_loss: 80302480.0000 - val_mean_absolute_error: 7731.4907\n",
      "Epoch 29/100\n",
      "55/55 [==============================] - 0s 4ms/step - loss: 333986368.0000 - mean_absolute_error: 13687.2275 - val_loss: 67981304.0000 - val_mean_absolute_error: 6888.7432\n",
      "Epoch 30/100\n",
      "55/55 [==============================] - 0s 4ms/step - loss: 325302400.0000 - mean_absolute_error: 13848.7793 - val_loss: 57548876.0000 - val_mean_absolute_error: 6087.9175\n",
      "Epoch 31/100\n",
      "55/55 [==============================] - 0s 4ms/step - loss: 318537216.0000 - mean_absolute_error: 13989.7578 - val_loss: 49462072.0000 - val_mean_absolute_error: 5440.5229\n",
      "Epoch 32/100\n",
      "55/55 [==============================] - 0s 4ms/step - loss: 313444000.0000 - mean_absolute_error: 14127.0410 - val_loss: 42935168.0000 - val_mean_absolute_error: 5074.7812\n",
      "Epoch 33/100\n",
      "55/55 [==============================] - 0s 4ms/step - loss: 309769792.0000 - mean_absolute_error: 14264.7402 - val_loss: 37877264.0000 - val_mean_absolute_error: 4826.4849\n",
      "Epoch 34/100\n",
      "55/55 [==============================] - 0s 4ms/step - loss: 307102848.0000 - mean_absolute_error: 14364.2939 - val_loss: 34136008.0000 - val_mean_absolute_error: 4631.1289\n",
      "Epoch 35/100\n",
      "55/55 [==============================] - 0s 4ms/step - loss: 305281120.0000 - mean_absolute_error: 14468.1709 - val_loss: 31340232.0000 - val_mean_absolute_error: 4469.3833\n",
      "Epoch 36/100\n",
      "55/55 [==============================] - 0s 4ms/step - loss: 304068480.0000 - mean_absolute_error: 14544.2812 - val_loss: 29227932.0000 - val_mean_absolute_error: 4340.4614\n",
      "Epoch 37/100\n",
      "55/55 [==============================] - 0s 4ms/step - loss: 303246304.0000 - mean_absolute_error: 14611.6045 - val_loss: 27775990.0000 - val_mean_absolute_error: 4264.2720\n",
      "Epoch 38/100\n",
      "55/55 [==============================] - 0s 4ms/step - loss: 302731360.0000 - mean_absolute_error: 14679.0869 - val_loss: 26586124.0000 - val_mean_absolute_error: 4203.2539\n",
      "Epoch 39/100\n",
      "55/55 [==============================] - 0s 4ms/step - loss: 302453536.0000 - mean_absolute_error: 14735.3447 - val_loss: 25660770.0000 - val_mean_absolute_error: 4153.6431\n",
      "Epoch 40/100\n",
      "55/55 [==============================] - 0s 4ms/step - loss: 302254496.0000 - mean_absolute_error: 14763.4824 - val_loss: 25326220.0000 - val_mean_absolute_error: 4134.6167\n",
      "Epoch 41/100\n",
      "55/55 [==============================] - 0s 4ms/step - loss: 302099008.0000 - mean_absolute_error: 14808.4736 - val_loss: 24705500.0000 - val_mean_absolute_error: 4098.7812\n",
      "Epoch 42/100\n",
      "55/55 [==============================] - 0s 4ms/step - loss: 302030016.0000 - mean_absolute_error: 14833.7461 - val_loss: 24420606.0000 - val_mean_absolute_error: 4082.0449\n",
      "Epoch 43/100\n",
      "55/55 [==============================] - 0s 4ms/step - loss: 301989216.0000 - mean_absolute_error: 14868.7080 - val_loss: 24050396.0000 - val_mean_absolute_error: 4061.3672\n",
      "Epoch 44/100\n",
      "55/55 [==============================] - 0s 4ms/step - loss: 301944640.0000 - mean_absolute_error: 14880.7607 - val_loss: 23808732.0000 - val_mean_absolute_error: 4047.8728\n",
      "Epoch 45/100\n",
      "55/55 [==============================] - 0s 4ms/step - loss: 301967360.0000 - mean_absolute_error: 14893.7080 - val_loss: 23726410.0000 - val_mean_absolute_error: 4043.3425\n",
      "Epoch 46/100\n",
      "55/55 [==============================] - 0s 4ms/step - loss: 301948320.0000 - mean_absolute_error: 14904.2988 - val_loss: 23492330.0000 - val_mean_absolute_error: 4030.4285\n",
      "Epoch 47/100\n",
      "55/55 [==============================] - 0s 4ms/step - loss: 301931520.0000 - mean_absolute_error: 14932.9023 - val_loss: 23395350.0000 - val_mean_absolute_error: 4025.0645\n",
      "Epoch 48/100\n",
      "55/55 [==============================] - 0s 4ms/step - loss: 301985600.0000 - mean_absolute_error: 14907.0547 - val_loss: 23650668.0000 - val_mean_absolute_error: 4039.1221\n",
      "Epoch 49/100\n",
      "55/55 [==============================] - 0s 4ms/step - loss: 301934688.0000 - mean_absolute_error: 14910.7363 - val_loss: 23382516.0000 - val_mean_absolute_error: 4024.3481\n",
      "Epoch 50/100\n",
      "55/55 [==============================] - 0s 4ms/step - loss: 302015328.0000 - mean_absolute_error: 14910.2207 - val_loss: 23389010.0000 - val_mean_absolute_error: 4024.7104\n",
      "Epoch 51/100\n",
      "55/55 [==============================] - 0s 4ms/step - loss: 301948384.0000 - mean_absolute_error: 14933.4814 - val_loss: 23358004.0000 - val_mean_absolute_error: 4022.9746\n",
      "Epoch 52/100\n",
      "55/55 [==============================] - 0s 4ms/step - loss: 301943872.0000 - mean_absolute_error: 14947.8643 - val_loss: 23266536.0000 - val_mean_absolute_error: 4017.8496\n",
      "Epoch 53/100\n",
      "55/55 [==============================] - 0s 4ms/step - loss: 301958112.0000 - mean_absolute_error: 14916.9873 - val_loss: 23504004.0000 - val_mean_absolute_error: 4031.0688\n",
      "Epoch 54/100\n",
      "55/55 [==============================] - 0s 4ms/step - loss: 301977280.0000 - mean_absolute_error: 14945.4951 - val_loss: 23281614.0000 - val_mean_absolute_error: 4018.6670\n",
      "Epoch 55/100\n",
      "55/55 [==============================] - 0s 4ms/step - loss: 301943040.0000 - mean_absolute_error: 14924.5244 - val_loss: 23563420.0000 - val_mean_absolute_error: 4034.3054\n",
      "Epoch 56/100\n",
      "55/55 [==============================] - 0s 4ms/step - loss: 301937792.0000 - mean_absolute_error: 14915.5303 - val_loss: 23506758.0000 - val_mean_absolute_error: 4031.2195\n",
      "Epoch 57/100\n",
      "55/55 [==============================] - 0s 4ms/step - loss: 301967680.0000 - mean_absolute_error: 14913.5898 - val_loss: 23336164.0000 - val_mean_absolute_error: 4021.7463\n",
      "Epoch 58/100\n",
      "55/55 [==============================] - 0s 4ms/step - loss: 301941536.0000 - mean_absolute_error: 14939.9453 - val_loss: 23276060.0000 - val_mean_absolute_error: 4018.3665\n",
      "Epoch 59/100\n",
      "55/55 [==============================] - 0s 4ms/step - loss: 301965568.0000 - mean_absolute_error: 14927.0566 - val_loss: 23347354.0000 - val_mean_absolute_error: 4022.3765\n",
      "Epoch 60/100\n",
      "55/55 [==============================] - 0s 4ms/step - loss: 301941408.0000 - mean_absolute_error: 14926.7812 - val_loss: 23412206.0000 - val_mean_absolute_error: 4026.0034\n",
      "Epoch 61/100\n",
      "55/55 [==============================] - 0s 4ms/step - loss: 302044192.0000 - mean_absolute_error: 14958.8818 - val_loss: 23195488.0000 - val_mean_absolute_error: 4013.9673\n",
      "Epoch 62/100\n",
      "55/55 [==============================] - 0s 4ms/step - loss: 301921856.0000 - mean_absolute_error: 14950.1572 - val_loss: 23318188.0000 - val_mean_absolute_error: 4020.7319\n",
      "Epoch 63/100\n",
      "55/55 [==============================] - 0s 4ms/step - loss: 301939584.0000 - mean_absolute_error: 14925.5107 - val_loss: 23377274.0000 - val_mean_absolute_error: 4024.0549\n",
      "Epoch 64/100\n",
      "55/55 [==============================] - 0s 4ms/step - loss: 301954432.0000 - mean_absolute_error: 14914.0039 - val_loss: 23582366.0000 - val_mean_absolute_error: 4035.3306\n",
      "Epoch 65/100\n",
      "55/55 [==============================] - 0s 4ms/step - loss: 301954336.0000 - mean_absolute_error: 14937.2607 - val_loss: 23399394.0000 - val_mean_absolute_error: 4025.2903\n",
      "Epoch 66/100\n",
      "55/55 [==============================] - 0s 4ms/step - loss: 301955328.0000 - mean_absolute_error: 14915.5430 - val_loss: 23448170.0000 - val_mean_absolute_error: 4027.9973\n",
      "Epoch 67/100\n",
      "55/55 [==============================] - 0s 4ms/step - loss: 301983040.0000 - mean_absolute_error: 14933.1299 - val_loss: 23533216.0000 - val_mean_absolute_error: 4032.6636\n",
      "Epoch 68/100\n",
      "55/55 [==============================] - 0s 4ms/step - loss: 301952352.0000 - mean_absolute_error: 14936.1797 - val_loss: 23383346.0000 - val_mean_absolute_error: 4024.3945\n",
      "Epoch 69/100\n",
      "55/55 [==============================] - 0s 4ms/step - loss: 301987872.0000 - mean_absolute_error: 14908.7412 - val_loss: 23490680.0000 - val_mean_absolute_error: 4030.3384\n",
      "Epoch 70/100\n",
      "55/55 [==============================] - 0s 4ms/step - loss: 301949824.0000 - mean_absolute_error: 14941.2285 - val_loss: 23202690.0000 - val_mean_absolute_error: 4014.3635\n",
      "Epoch 71/100\n",
      "55/55 [==============================] - 0s 4ms/step - loss: 301950176.0000 - mean_absolute_error: 14939.1348 - val_loss: 23181360.0000 - val_mean_absolute_error: 4013.2229\n",
      "Epoch 72/100\n",
      "55/55 [==============================] - 0s 4ms/step - loss: 301983456.0000 - mean_absolute_error: 14926.2852 - val_loss: 23256290.0000 - val_mean_absolute_error: 4017.2927\n",
      "Epoch 73/100\n",
      "55/55 [==============================] - 0s 4ms/step - loss: 301922560.0000 - mean_absolute_error: 14940.9658 - val_loss: 23252548.0000 - val_mean_absolute_error: 4017.0894\n",
      "Epoch 74/100\n",
      "55/55 [==============================] - 0s 4ms/step - loss: 301970432.0000 - mean_absolute_error: 14958.4502 - val_loss: 23155536.0000 - val_mean_absolute_error: 4011.9104\n",
      "Epoch 75/100\n",
      "55/55 [==============================] - 0s 4ms/step - loss: 301999072.0000 - mean_absolute_error: 14943.9434 - val_loss: 23274876.0000 - val_mean_absolute_error: 4018.3018\n",
      "Epoch 76/100\n",
      "55/55 [==============================] - 0s 4ms/step - loss: 301960000.0000 - mean_absolute_error: 14941.4277 - val_loss: 23434858.0000 - val_mean_absolute_error: 4027.2610\n",
      "Epoch 77/100\n",
      "55/55 [==============================] - 0s 4ms/step - loss: 301958560.0000 - mean_absolute_error: 14931.9746 - val_loss: 23295254.0000 - val_mean_absolute_error: 4019.4321\n",
      "Epoch 78/100\n",
      "55/55 [==============================] - 0s 4ms/step - loss: 301956192.0000 - mean_absolute_error: 14930.4199 - val_loss: 23359766.0000 - val_mean_absolute_error: 4023.0737\n",
      "Epoch 79/100\n",
      "55/55 [==============================] - 0s 4ms/step - loss: 301944512.0000 - mean_absolute_error: 14936.3945 - val_loss: 23298088.0000 - val_mean_absolute_error: 4019.5930\n",
      "Epoch 80/100\n",
      "55/55 [==============================] - 0s 4ms/step - loss: 301956832.0000 - mean_absolute_error: 14932.7998 - val_loss: 23233600.0000 - val_mean_absolute_error: 4016.0564\n",
      "Epoch 81/100\n",
      "55/55 [==============================] - 0s 4ms/step - loss: 301959072.0000 - mean_absolute_error: 14926.4199 - val_loss: 23319338.0000 - val_mean_absolute_error: 4020.7966\n",
      "Epoch 82/100\n",
      "55/55 [==============================] - 0s 4ms/step - loss: 301969152.0000 - mean_absolute_error: 14923.6768 - val_loss: 23471726.0000 - val_mean_absolute_error: 4029.2966\n",
      "Epoch 83/100\n",
      "55/55 [==============================] - 0s 4ms/step - loss: 301930880.0000 - mean_absolute_error: 14950.5469 - val_loss: 23076868.0000 - val_mean_absolute_error: 4007.9683\n",
      "Epoch 84/100\n",
      "55/55 [==============================] - 0s 4ms/step - loss: 302009536.0000 - mean_absolute_error: 14934.2676 - val_loss: 23335582.0000 - val_mean_absolute_error: 4021.7136\n",
      "Epoch 85/100\n",
      "55/55 [==============================] - 0s 4ms/step - loss: 301937600.0000 - mean_absolute_error: 14948.2520 - val_loss: 23091886.0000 - val_mean_absolute_error: 4008.7253\n",
      "Epoch 86/100\n",
      "55/55 [==============================] - 0s 4ms/step - loss: 301998208.0000 - mean_absolute_error: 14941.4951 - val_loss: 23052262.0000 - val_mean_absolute_error: 4006.7227\n",
      "Epoch 87/100\n",
      "55/55 [==============================] - 0s 4ms/step - loss: 301959520.0000 - mean_absolute_error: 14933.0605 - val_loss: 23397712.0000 - val_mean_absolute_error: 4025.1960\n",
      "Epoch 88/100\n",
      "55/55 [==============================] - 0s 4ms/step - loss: 301946720.0000 - mean_absolute_error: 14942.4668 - val_loss: 23263660.0000 - val_mean_absolute_error: 4017.6936\n",
      "Epoch 89/100\n",
      "55/55 [==============================] - 0s 4ms/step - loss: 301936000.0000 - mean_absolute_error: 14934.8262 - val_loss: 23213790.0000 - val_mean_absolute_error: 4014.9722\n",
      "Epoch 90/100\n",
      "55/55 [==============================] - 0s 4ms/step - loss: 301954688.0000 - mean_absolute_error: 14954.1055 - val_loss: 23076614.0000 - val_mean_absolute_error: 4007.9551\n",
      "Epoch 91/100\n",
      "55/55 [==============================] - 0s 4ms/step - loss: 301927584.0000 - mean_absolute_error: 14952.3525 - val_loss: 23243512.0000 - val_mean_absolute_error: 4016.5974\n",
      "Epoch 92/100\n",
      "55/55 [==============================] - 0s 4ms/step - loss: 301933216.0000 - mean_absolute_error: 14941.7471 - val_loss: 23199720.0000 - val_mean_absolute_error: 4014.2000\n",
      "Epoch 93/100\n",
      "55/55 [==============================] - 0s 4ms/step - loss: 301932096.0000 - mean_absolute_error: 14936.4951 - val_loss: 23282982.0000 - val_mean_absolute_error: 4018.7415\n",
      "Epoch 94/100\n",
      "55/55 [==============================] - 0s 4ms/step - loss: 301931200.0000 - mean_absolute_error: 14933.3096 - val_loss: 23316714.0000 - val_mean_absolute_error: 4020.6479\n",
      "Epoch 95/100\n",
      "55/55 [==============================] - 0s 4ms/step - loss: 301930080.0000 - mean_absolute_error: 14929.6963 - val_loss: 23399750.0000 - val_mean_absolute_error: 4025.3098\n",
      "Epoch 96/100\n",
      "55/55 [==============================] - 0s 4ms/step - loss: 301983648.0000 - mean_absolute_error: 14911.6152 - val_loss: 23497888.0000 - val_mean_absolute_error: 4030.7339\n",
      "Epoch 97/100\n",
      "55/55 [==============================] - 0s 4ms/step - loss: 301952704.0000 - mean_absolute_error: 14945.8320 - val_loss: 23171228.0000 - val_mean_absolute_error: 4012.6929\n",
      "Epoch 98/100\n",
      "55/55 [==============================] - 0s 4ms/step - loss: 302002400.0000 - mean_absolute_error: 14944.8545 - val_loss: 23295904.0000 - val_mean_absolute_error: 4019.4690\n",
      "Epoch 99/100\n",
      "55/55 [==============================] - 0s 4ms/step - loss: 301956736.0000 - mean_absolute_error: 14921.4111 - val_loss: 23376412.0000 - val_mean_absolute_error: 4024.0063\n",
      "Epoch 100/100\n",
      "55/55 [==============================] - 0s 4ms/step - loss: 301985408.0000 - mean_absolute_error: 14955.4590 - val_loss: 23218846.0000 - val_mean_absolute_error: 4015.2495\n"
     ]
    },
    {
     "data": {
      "text/plain": [
       "<keras.callbacks.History at 0x7f00587ccca0>"
      ]
     },
     "execution_count": 174,
     "metadata": {},
     "output_type": "execute_result"
    }
   ],
   "source": [
    "from tensorflow.keras.models import Sequential\n",
    "from tensorflow.keras.optimizers import Adam\n",
    "from tensorflow.keras import layers\n",
    "\n",
    "model = Sequential([layers.Input((3, 1)),\n",
    "                    layers.LSTM(64),\n",
    "                    layers.Dense(32, activation='relu'),\n",
    "                    layers.Dense(16, activation='relu'),\n",
    "                    layers.Dense(1)])\n",
    "\n",
    "model.compile(loss='mse', \n",
    "              optimizer=Adam(learning_rate=0.001),\n",
    "              metrics=['mean_absolute_error'])\n",
    "\n",
    "model.fit(X_train, y_train, validation_data=(X_val, y_val), epochs=100)"
   ]
  },
  {
   "cell_type": "code",
   "execution_count": 175,
   "id": "1a74c4aa-15ca-40bd-9cca-facd0893b11b",
   "metadata": {
    "tags": []
   },
   "outputs": [
    {
     "name": "stdout",
     "output_type": "stream",
     "text": [
      "55/55 [==============================] - 0s 2ms/step\n"
     ]
    },
    {
     "data": {
      "text/plain": [
       "<matplotlib.legend.Legend at 0x7f005342c880>"
      ]
     },
     "execution_count": 175,
     "metadata": {},
     "output_type": "execute_result"
    },
    {
     "data": {
      "image/png": "[encoded data removed]",
      "text/plain": [
       "<Figure size 640x480 with 1 Axes>"
      ]
     },
     "metadata": {},
     "output_type": "display_data"
    }
   ],
   "source": [
    "train_predictions = model.predict(X_train).flatten()\n",
    "\n",
    "plt.plot(dates_train, train_predictions)\n",
    "plt.plot(dates_train, y_train)\n",
    "plt.legend(['Training Predictions', 'Training Observations'])"
   ]
  },
  {
   "cell_type": "code",
   "execution_count": 176,
   "id": "c44ae7f0-8348-4714-9bd6-b8d433f27bcb",
   "metadata": {
    "tags": []
   },
   "outputs": [
    {
     "name": "stdout",
     "output_type": "stream",
     "text": [
      "7/7 [==============================] - 0s 2ms/step\n"
     ]
    },
    {
     "data": {
      "text/plain": [
       "<matplotlib.legend.Legend at 0x7f0060a2bdf0>"
      ]
     },
     "execution_count": 176,
     "metadata": {},
     "output_type": "execute_result"
    },
    {
     "data": {
      "image/png": "[encoded data removed]",
      "text/plain": [
       "<Figure size 640x480 with 1 Axes>"
      ]
     },
     "metadata": {},
     "output_type": "display_data"
    }
   ],
   "source": [
    "val_predictions = model.predict(X_val).flatten()\n",
    "\n",
    "plt.plot(dates_val, val_predictions)\n",
    "plt.plot(dates_val, y_val)\n",
    "plt.legend(['Validation Predictions', 'Validation Observations'])"
   ]
  },
  {
   "cell_type": "code",
   "execution_count": null,
   "id": "511f58fd-7d48-48ee-9437-39ca9988c87a",
   "metadata": {},
   "outputs": [],
   "source": []
  }
 ],
 "metadata": {
  "kernelspec": {
   "display_name": "conda_tensorflow2_p310",
   "language": "python",
   "name": "conda_tensorflow2_p310"
  },
  "language_info": {
   "codemirror_mode": {
    "name": "ipython",
    "version": 3
   },
   "file_extension": ".py",
   "mimetype": "text/x-python",
   "name": "python",
   "nbconvert_exporter": "python",
   "pygments_lexer": "ipython3",
   "version": "3.10.13"
  }
 },
 "nbformat": 4,
 "nbformat_minor": 5
}
